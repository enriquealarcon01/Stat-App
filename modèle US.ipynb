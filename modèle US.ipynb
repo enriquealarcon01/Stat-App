{
 "cells": [
  {
   "cell_type": "markdown",
   "metadata": {},
   "source": [
    "# **Implémentation du modèle**\n",
    "---"
   ]
  },
  {
   "cell_type": "markdown",
   "metadata": {},
   "source": [
    "## Introduction"
   ]
  },
  {
   "cell_type": "markdown",
   "metadata": {},
   "source": [
    "Contrairement au notebook \"modèle\", ici nous nous intéressons aux chocs de la politique monétaire américaine sur les pays européens.\n",
    "\n",
    "\n",
    "\n",
    "Ce notebook contient les codes nécessaire à la mise en place du modèle. Le modèle est inspiré de celui de Iacoviello et Navarro : \n",
    "\n",
    "- La première étape consiste à identifier les chocs de politique monétaire, en prenant le résidu de la régression du taux d'intérêt sur l'écart d'inflation par rapport à la cible et l'output gap ou le chômage. En réalité Iacoviello et Navarro utilisent des lags et valeurs présentes de l'inflation, des spreads de crédit, du PIB et des lags des taux des fonds fédéraux.\n",
    "Il nous manque donc l'output gap, l'inflation et le chômage de la zone euro\n",
    "- La deuxième étape consiste à estimer l'impact de ces chocs sur l'activité économique (PIB, emploi ...) en régressant ces variables sur les chocs et des variables de contrôles (4 lags du PIB et des trends linéaires et quadratiques)"
   ]
  },
  {
   "cell_type": "code",
   "execution_count": 61,
   "metadata": {},
   "outputs": [
    {
     "name": "stdout",
     "output_type": "stream",
     "text": [
      "Requirement already satisfied: openpyxl in /opt/conda/lib/python3.12/site-packages (3.1.5)\n",
      "Requirement already satisfied: et-xmlfile in /opt/conda/lib/python3.12/site-packages (from openpyxl) (2.0.0)\n"
     ]
    },
    {
     "name": "stderr",
     "output_type": "stream",
     "text": [
      "/tmp/ipykernel_9307/499249651.py:26: FutureWarning: 'Q' is deprecated and will be removed in a future version, please use 'QE' instead.\n",
      "  dfM_Q = dfM.resample(\"Q\").mean()  # Appliquer le resample par trimestre\n",
      "/tmp/ipykernel_9307/499249651.py:30: FutureWarning: 'Q' is deprecated and will be removed in a future version, please use 'QE' instead.\n",
      "  dfD_Q = dfD.resample(\"Q\").mean()  # Appliquer le resample par trimestre\n"
     ]
    }
   ],
   "source": [
    "# import des données américaines\n",
    "\n",
    "!pip install openpyxl \n",
    "import pandas as pd\n",
    "\n",
    "sheets_to_load = [\"Daily, Close\", \"Monthly\", \"Quarterly\"]  # Noms des feuilles à importer\n",
    "dfs = pd.read_excel(\"Données_extraites/data_US.xlsx\", sheet_name=sheets_to_load, header=0)\n",
    "\n",
    "# Accéder aux DataFrames importés\n",
    "dfD = dfs[\"Daily, Close\"]\n",
    "dfM = dfs[\"Monthly\"]\n",
    "dfQ = dfs[\"Quarterly\"]\n",
    "\n",
    "# renommer les variables\n",
    "dfD.columns = dfD.iloc[0] \n",
    "dfD = dfD[1:].reset_index(drop=True)\n",
    "\n",
    "dfM.columns = dfM.iloc[0] \n",
    "dfM = dfM[1:].reset_index(drop=True)\n",
    "\n",
    "\n",
    "# Il faut trimestrialiser les données (on prend la moyenne)\n",
    "\n",
    "dfM[\"date\"] = pd.to_datetime(dfM[\"date\"])  # Convertir en datetime\n",
    "dfM = dfM.set_index(\"date\")  # Définir la colonne \"date\" comme index\n",
    "dfM_Q = dfM.resample(\"Q\").mean()  # Appliquer le resample par trimestre\n",
    "\n",
    "dfD[\"date\"] = pd.to_datetime(dfD[\"date\"])  # Convertir en datetime\n",
    "dfD = dfD.set_index(\"date\")  # Définir la colonne \"date\" comme index\n",
    "dfD_Q = dfD.resample(\"Q\").mean()  # Appliquer le resample par trimestre\n",
    "\n",
    "# harmoniser les dates\n",
    "dfD_Q.index = dfD_Q.index.to_period(\"Q\")  \n",
    "dfM_Q.index = dfM_Q.index.to_period(\"Q\")\n",
    "\n",
    "dfQ=dfQ.rename(columns={\"observation_date\":\"date\"})\n",
    "dfQ = dfQ.set_index(\"date\")\n",
    "dfQ.index = dfQ.index.to_period(\"Q\")\n",
    "\n"
   ]
  },
  {
   "cell_type": "code",
   "execution_count": 63,
   "metadata": {},
   "outputs": [],
   "source": [
    "data_US = dfM_Q.merge(dfD_Q, on='date').merge(dfQ, on='date')\n"
   ]
  },
  {
   "cell_type": "code",
   "execution_count": null,
   "metadata": {},
   "outputs": [],
   "source": [
    "import numpy as np\n",
    "import statsmodels.api as sm\n",
    "\n",
    "# Création d'une variable de tendance quadratique\n",
    "data['TIME_PERIOD'] = pd.to_datetime(data['TIME_PERIOD'])\n",
    "\n",
    "# Créer la variable de tendance temporelle time (1 pour le premier trimestre, 2 pour le second, etc.)\n",
    "data['time'] = range(1, len(data) + 1)\n",
    "\n",
    "# Créer la tendance quadratique time²\n",
    "data['time_squared'] = data['time'] ** 2\n",
    "\n",
    "#création des lags de time_squared\n",
    "\n",
    "data[\"time_squared_lag1\"] = data[\"time_squared\"].shift(1)\n",
    "data[\"time_squared_lag2\"] = data[\"time_squared\"].shift(2)\n",
    "data[\"time_squared_lag3\"] = data[\"time_squared\"].shift(3)\n",
    "data[\"time_squared_lag4\"] = data[\"time_squared\"].shift(4)"
   ]
  }
 ],
 "metadata": {
  "kernelspec": {
   "display_name": "base",
   "language": "python",
   "name": "python3"
  },
  "language_info": {
   "codemirror_mode": {
    "name": "ipython",
    "version": 3
   },
   "file_extension": ".py",
   "mimetype": "text/x-python",
   "name": "python",
   "nbconvert_exporter": "python",
   "pygments_lexer": "ipython3",
   "version": "3.12.9"
  }
 },
 "nbformat": 4,
 "nbformat_minor": 2
}
