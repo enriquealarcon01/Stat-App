{
 "cells": [
  {
   "cell_type": "markdown",
   "metadata": {},
   "source": [
    "# **Visualisation et statistiques descriptives**\n",
    "---"
   ]
  },
  {
   "cell_type": "markdown",
   "metadata": {},
   "source": [
    "## Introduction<a class=\"anchor\" id=\"partie1\"></a>"
   ]
  },
  {
   "cell_type": "markdown",
   "metadata": {},
   "source": [
    "Ce notebook contient les codes nécessaires à la visualisation et les statistiques descriptives de notre base de données."
   ]
  },
  {
   "cell_type": "markdown",
   "metadata": {},
   "source": [
    "## Sommaire\n",
    "\n",
    "* [Introduction](#partie1)\n",
    "* [Statistiques descriptives](#partie2)\n",
    "* [Visualisation](#partie3)\n",
    "    * [Données de PIB](#partie31)\n",
    "    * [Données d'heures de travail](#partie32)\n"
   ]
  },
  {
   "cell_type": "code",
   "execution_count": null,
   "metadata": {},
   "outputs": [],
   "source": [
    "!pip install -r requirements.txt"
   ]
  },
  {
   "cell_type": "code",
   "execution_count": null,
   "metadata": {},
   "outputs": [],
   "source": [
    "import numpy as np \n",
    "import pandas as pd\n",
    "import matplotlib.pyplot as plt\n",
    "import matplotlib.ticker as ticker\n",
    "import seaborn as sns"
   ]
  },
  {
   "cell_type": "code",
   "execution_count": null,
   "metadata": {},
   "outputs": [],
   "source": [
    "# Importation des données\n",
    "df = pd.read_excel(\"Données_produites/base_de_données_v1.xlsx\")\n",
    "\n",
    "#Pour voir les changements avec la suppression des données manquantes intermédiaires utiliser:\n",
    "# df = pd.read_excel(\"base_de_données_v1.xlsx\")\n",
    "\n",
    "\n",
    "# Indexation\n",
    "df = df.set_index('Unnamed: 0')"
   ]
  },
  {
   "cell_type": "markdown",
   "metadata": {},
   "source": [
    "## Statistiques descriptives <a class=\"anchor\" id=\"partie2\"></a>"
   ]
  },
  {
   "cell_type": "markdown",
   "metadata": {},
   "source": [
    "Dans une volonté de rendre compte des valeurs manquantes à notre dataframe nous créons un dataframe qui comprend l'ensemble des valeurs manquantes "
   ]
  },
  {
   "cell_type": "code",
   "execution_count": null,
   "metadata": {},
   "outputs": [],
   "source": [
    "df_missing_binary = df.isnull().astype(int)\n",
    "df_missing_binary"
   ]
  },
  {
   "cell_type": "code",
   "execution_count": null,
   "metadata": {},
   "outputs": [],
   "source": [
    "df_nan = df.isna()\n",
    "df_nan = pd.DataFrame({\n",
    "    \"TIME_PERIOD_WITH_NAN\": df_nan.apply(lambda col: list(df.index[col]), axis = 0)\n",
    "})\n",
    "df_nan.to_csv(\"df_nan.csv\", index=True, encoding=\"utf-8\")\n",
    "print(df_nan)"
   ]
  },
  {
   "cell_type": "code",
   "execution_count": null,
   "metadata": {},
   "outputs": [],
   "source": [
    "# Définir la figure avec un affichage interactif\n",
    "fig, ax = plt.subplots(figsize=(50, 80))\n",
    "\n",
    "# Utiliser seaborn pour une meilleure visualisation sans grille\n",
    "sns.heatmap(df_missing_binary, cmap=\"OrRd\", cbar=False, linewidths=0, ax=ax, square=False)\n",
    "\n",
    "# Ajouter un titre\n",
    "ax.set_title(\"Matrice des valeurs manquantes (Rouge = Manquant)\")\n",
    "\n",
    "# Rotation des labels pour une meilleure lisibilité\n",
    "plt.xticks(rotation=90)\n",
    "plt.yticks(rotation=0)\n",
    "\n",
    "# Afficher la figure\n",
    "plt.show()"
   ]
  },
  {
   "cell_type": "code",
   "execution_count": null,
   "metadata": {},
   "outputs": [],
   "source": [
    "#Pourcentage de données manquantes par variable\n",
    "percentage_missing=((df_missing_binary.sum())/df_missing_binary.shape[0])*100\n",
    "\n",
    "#On ne garde que les colonnes ayant des missing values\n",
    "percentage_missing=percentage_missing[percentage_missing>0]\n",
    "percentage_missing = percentage_missing.sort_values(ascending=False)\n",
    "\n",
    "'''\n",
    "Nous avons un problème avec l'Estonie, 85% des données pour les taux d'intérêt sont des valeurs manquantes\n",
    "J'ai revérifié sur le site de l'OCDE et c'est un problème qui vient de leur bases de données. Comme c'est une \n",
    "un pourcentage considérable, on devrait peut-être retirer l'Estonie de notre analyse\n",
    "\n",
    "Pour les données qui sont \"entrecoupées\" (on dirait un chemin de la route)--> c'est les Working Hours. On peut appliquer le même \n",
    "interpolation qu'on a faite pour construire le df. \n",
    "\n",
    "--> Voir tentative d'interpolation dans le notebook data.ipynb\n",
    "Un problème persiste avec les données qui sont au début ou à la fin de la période temporelle, il faudra envisager\n",
    "une autre méthode\n",
    "'''\n",
    "percentage_missing\n"
   ]
  },
  {
   "cell_type": "code",
   "execution_count": null,
   "metadata": {},
   "outputs": [],
   "source": []
  },
  {
   "cell_type": "markdown",
   "metadata": {},
   "source": [
    "## Visualisation <a class=\"anchor\" id=\"partie3\"></a>"
   ]
  },
  {
   "cell_type": "markdown",
   "metadata": {},
   "source": [
    "### Données de PIB <a class=\"anchor\" id=\"partie31\"></a>"
   ]
  },
  {
   "cell_type": "markdown",
   "metadata": {},
   "source": [
    "Pour notre rendu de mi-parcours nous avons présenté les évolutions des PIB en France et dans les principaux pays d'Europe. Nous faisons d'abord celui de la France."
   ]
  },
  {
   "cell_type": "code",
   "execution_count": null,
   "metadata": {},
   "outputs": [],
   "source": [
    "plt.figure(figsize=(14, 6))  # Taille du graphique\n",
    "\n",
    "plt.plot(df.index, df['PIB_France'], marker='o', linestyle='-')\n",
    "\n",
    "plt.xlabel(\"Période\")\n",
    "plt.ylabel(\"PIB de la France\")\n",
    "plt.title(\"Évolution du PIB de la France (1995-2024)\")\n",
    "\n",
    "# Sélectionner un sous-ensemble des labels de l'axe X pour éviter la surcharge\n",
    "num_ticks = 8  # Nombre de labels affichés sur l'axe X\n",
    "indices = np.linspace(0, len(df.index) - 1, num_ticks, dtype=int)  # Espacement des indices\n",
    "plt.xticks(df.index[indices], rotation=45)  # Appliquer les labels espacés\n",
    "plt.grid(True)\n",
    "plt.show()"
   ]
  },
  {
   "cell_type": "markdown",
   "metadata": {},
   "source": [
    "Et ensuite pour l'Europe"
   ]
  },
  {
   "cell_type": "code",
   "execution_count": null,
   "metadata": {},
   "outputs": [],
   "source": [
    "selected_countries = ['PIB_Germany', 'PIB_France', 'PIB_United_Kingdom','PIB_Spain', 'PIB_Italy', 'PIB_Netherlands', 'PIB_Switzerland']\n",
    "\n",
    "df_selected = df[selected_countries]\n",
    "\n",
    "colors = plt.cm.get_cmap(\"tab10\", len(df_selected.columns))  # Utilisation d'une palette de couleurs\n",
    "plt.figure(figsize=(14, 6))\n",
    "\n",
    "for i, country in enumerate(df_selected.columns): #enumerate permet de sélectionner l'élément et son indice\n",
    "    plt.plot(df_selected.index, df_selected[country], label=country, color=colors(i))\n",
    "\n",
    "# Personnalisation du graphique\n",
    "plt.xlabel(\"Période\")\n",
    "plt.ylabel(\"PIB en Millions\")\n",
    "plt.title(\"Principaux PIB trimestriels en Europe \")\n",
    "\n",
    "# Indicage\n",
    "num_ticks = 8 \n",
    "indices = np.linspace(0, len(df_selected.index) - 1, num_ticks, dtype=int)  \n",
    "plt.xticks(df_selected.index[indices], rotation=45) \n",
    "\n",
    "# Affichage \n",
    "plt.legend(loc=\"upper left\", bbox_to_anchor=(1, 1), ncol=2)  # Légende en dehors du graphique\n",
    "plt.grid(True)\n",
    "plt.gca().yaxis.set_major_formatter(ticker.StrMethodFormatter(\"{x:,.0f}\")) #permet de ne pas avoir d'écriture scientifique\n",
    "plt.show()\n"
   ]
  },
  {
   "cell_type": "markdown",
   "metadata": {},
   "source": [
    "### Données d'heures travaillées <a class=\"anchor\" id=\"partie32\"></a>"
   ]
  },
  {
   "cell_type": "markdown",
   "metadata": {},
   "source": [
    "Voici l'évolution des heures travaillées en France."
   ]
  },
  {
   "cell_type": "code",
   "execution_count": null,
   "metadata": {},
   "outputs": [],
   "source": [
    "plt.figure(figsize=(14, 6))  # Taille du graphique\n",
    "\n",
    "plt.plot(df.index, df_plot['WH_France'], marker='o', linestyle='-')\n",
    "\n",
    "plt.xlabel(\"Période\")\n",
    "plt.ylabel(\"Heures travaillées en France\")\n",
    "plt.title(\"Évolution des heures travaillées en France (1995-2024)\")\n",
    "\n",
    "# Sélectionner un sous-ensemble des labels de l'axe X pour éviter la surcharge\n",
    "num_ticks = 10 \n",
    "indices = np.linspace(0, len(df.index) - 1, num_ticks, dtype=int)\n",
    "plt.xticks(df.index[indices], rotation=45)\n",
    "plt.grid(True)\n",
    "plt.show()"
   ]
  }
 ],
 "metadata": {
  "kernelspec": {
   "display_name": "Python 3",
   "language": "python",
   "name": "python3"
  },
  "language_info": {
   "codemirror_mode": {
    "name": "ipython",
    "version": 3
   },
   "file_extension": ".py",
   "mimetype": "text/x-python",
   "name": "python",
   "nbconvert_exporter": "python",
   "pygments_lexer": "ipython3",
   "version": "3.12.9"
  }
 },
 "nbformat": 4,
 "nbformat_minor": 2
}
