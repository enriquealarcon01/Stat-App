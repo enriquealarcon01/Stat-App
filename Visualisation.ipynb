{
 "cells": [
  {
   "cell_type": "markdown",
   "metadata": {},
   "source": [
    "# **Visualisation et statistiques descriptives**\n",
    "---"
   ]
  },
  {
   "cell_type": "markdown",
   "metadata": {},
   "source": [
    "## Introduction<a class=\"anchor\" id=\"partie1\"></a>"
   ]
  },
  {
   "cell_type": "markdown",
   "metadata": {},
   "source": [
    "Ce notebook contient les codes nécessaires à la visualisation et les statistiques descriptives de notre base de données."
   ]
  },
  {
   "cell_type": "markdown",
   "metadata": {},
   "source": [
    "## Sommaire\n",
    "\n",
    "* [Introduction](#partie1)\n",
    "* [Statistiques descriptives](#partie2)\n",
    "    * [Visualisation et nettoyage des données manquantes](#partie21)\n",
    "    * [Statistiques descriptives intra-pays](#partie22)\n",
    "        * [Résumé statistique des variables](#partie221)\n",
    "        * [Étude des corrélations](#partie222)\n",
    "    * [Statistiques descriptives inter-pays](#partie23)\n",
    "    * [Une première analyse exploratoire des séries temporelles](#partie24)\n",
    "        * [Données du PIB](#partie241)\n",
    "        * [Données des Working Hours](#partie242)\n",
    "        * [Données des taux d'intérêt à long terme](#partie243)\n",
    "        * [Données des taux d'intérêt à court terme](#partie244)\n",
    "        * [Données du CPI](#partie235)\n",
    "        * [Données de la croissance potentielle](#partie246)\n",
    "* [Visualisation](#partie3)\n",
    "    * [Données de PIB](#partie31)\n",
    "    * [Données d'heures de travail](#partie32)\n"
   ]
  },
  {
   "cell_type": "code",
   "execution_count": 1,
   "metadata": {},
   "outputs": [
    {
     "name": "stdout",
     "output_type": "stream",
     "text": [
      "Requirement already satisfied: pandas in /usr/local/lib/python3.12/site-packages (from -r requirements.txt (line 1)) (2.2.3)\n",
      "Requirement already satisfied: numpy in /usr/local/lib/python3.12/site-packages (from -r requirements.txt (line 2)) (2.2.5)\n",
      "Collecting openpyxl (from -r requirements.txt (line 3))\n",
      "  Downloading openpyxl-3.1.5-py2.py3-none-any.whl.metadata (2.5 kB)\n",
      "Requirement already satisfied: statsmodels in /usr/local/lib/python3.12/site-packages (from -r requirements.txt (line 4)) (0.14.4)\n",
      "Requirement already satisfied: python-dateutil>=2.8.2 in /usr/local/lib/python3.12/site-packages (from pandas->-r requirements.txt (line 1)) (2.9.0.post0)\n",
      "Requirement already satisfied: pytz>=2020.1 in /usr/local/lib/python3.12/site-packages (from pandas->-r requirements.txt (line 1)) (2025.2)\n",
      "Requirement already satisfied: tzdata>=2022.7 in /usr/local/lib/python3.12/site-packages (from pandas->-r requirements.txt (line 1)) (2025.2)\n",
      "Collecting et-xmlfile (from openpyxl->-r requirements.txt (line 3))\n",
      "  Downloading et_xmlfile-2.0.0-py3-none-any.whl.metadata (2.7 kB)\n",
      "Requirement already satisfied: scipy!=1.9.2,>=1.8 in /usr/local/lib/python3.12/site-packages (from statsmodels->-r requirements.txt (line 4)) (1.15.3)\n",
      "Requirement already satisfied: patsy>=0.5.6 in /usr/local/lib/python3.12/site-packages (from statsmodels->-r requirements.txt (line 4)) (1.0.1)\n",
      "Requirement already satisfied: packaging>=21.3 in /usr/local/lib/python3.12/site-packages (from statsmodels->-r requirements.txt (line 4)) (24.2)\n",
      "Requirement already satisfied: six>=1.5 in /usr/local/lib/python3.12/site-packages (from python-dateutil>=2.8.2->pandas->-r requirements.txt (line 1)) (1.17.0)\n",
      "Downloading openpyxl-3.1.5-py2.py3-none-any.whl (250 kB)\n",
      "Downloading et_xmlfile-2.0.0-py3-none-any.whl (18 kB)\n",
      "Installing collected packages: et-xmlfile, openpyxl\n",
      "\u001b[2K   \u001b[90m━━━━━━━━━━━━━━━━━━━━━━━━━━━━━━━━━━━━━━━━\u001b[0m \u001b[32m2/2\u001b[0m [openpyxl]1/2\u001b[0m [openpyxl]\n",
      "\u001b[1A\u001b[2KSuccessfully installed et-xmlfile-2.0.0 openpyxl-3.1.5\n"
     ]
    }
   ],
   "source": [
    "!pip install -r requirements.txt"
   ]
  },
  {
   "cell_type": "code",
   "execution_count": null,
   "metadata": {},
   "outputs": [],
   "source": [
    "import numpy as np \n",
    "import pandas as pd\n",
    "import matplotlib.pyplot as plt\n",
    "import matplotlib.ticker as ticker\n",
    "import seaborn as sns\n",
    "import statsmodels.api as sm\n",
    "import statsmodels.tsa.api as tsa\n",
    "import statsmodels.graphics.tsaplots as tsaplots\n",
    "from scipy.signal import savgol_filter\n",
    "from statsmodels.tsa.stattools import adfuller\n",
    "import re\n",
    "\n",
    "from Codes.scrpits_visualisations import (\n",
    "    tracer_evolution,\n",
    "    camembert,\n",
    "    comparer_periodes\n",
    ")\n"
   ]
  },
  {
   "cell_type": "code",
   "execution_count": 3,
   "metadata": {},
   "outputs": [],
   "source": [
    "# Importation des données\n",
    "df = pd.read_excel(\"Données_produites/base_de_données_v1.xlsx\")\n",
    "\n",
    "\n",
    "# Indexation\n",
    "df = df.set_index('Unnamed: 0')\n",
    "\n"
   ]
  },
  {
   "cell_type": "markdown",
   "metadata": {},
   "source": [
    "## Statistiques descriptives <a class=\"anchor\" id=\"partie2\"></a>"
   ]
  },
  {
   "cell_type": "markdown",
   "metadata": {},
   "source": [
    "### Visualisation des données manquantes <a class=\"anchor\" id=\"partie21\"></a>"
   ]
  },
  {
   "cell_type": "markdown",
   "metadata": {},
   "source": [
    "Dans une volonté de rendre compte des valeurs manquantes à notre dataframe nous créons un dataframe qui comprend l'ensemble des valeurs manquantes "
   ]
  },
  {
   "cell_type": "code",
   "execution_count": null,
   "metadata": {},
   "outputs": [],
   "source": [
    "df_missing_binary = df.isnull().astype(int)\n",
    "df_missing_binary"
   ]
  },
  {
   "cell_type": "code",
   "execution_count": null,
   "metadata": {},
   "outputs": [],
   "source": [
    "df_nan = df.isna()\n",
    "df_nan = pd.DataFrame({\n",
    "    \"TIME_PERIOD_WITH_NAN\": df_nan.apply(lambda col: list(df.index[col]), axis = 0)\n",
    "})\n",
    "df_nan.to_csv(\"df_nan.csv\", index=True, encoding=\"utf-8\")\n",
    "print(df_nan)"
   ]
  },
  {
   "cell_type": "code",
   "execution_count": null,
   "metadata": {},
   "outputs": [],
   "source": [
    "# Définir la figure avec un affichage interactif\n",
    "fig, ax = plt.subplots(figsize=(50, 80))\n",
    "\n",
    "# Utiliser seaborn pour une meilleure visualisation sans grille\n",
    "sns.heatmap(df_missing_binary, cmap=\"OrRd\", cbar=False, linewidths=0, ax=ax, square=False)\n",
    "\n",
    "# Ajouter un titre\n",
    "ax.set_title(\"Matrice des valeurs manquantes (Rouge = Manquant)\")\n",
    "\n",
    "# Rotation des labels pour une meilleure lisibilité\n",
    "plt.xticks(rotation=90)\n",
    "plt.yticks(rotation=0)\n",
    "\n",
    "# Afficher la figure\n",
    "plt.show()"
   ]
  },
  {
   "cell_type": "code",
   "execution_count": null,
   "metadata": {},
   "outputs": [],
   "source": [
    "#Pourcentage de données manquantes par variable\n",
    "percentage_missing=((df_missing_binary.sum())/df_missing_binary.shape[0])*100\n",
    "\n",
    "#On ne garde que les colonnes ayant des missing values\n",
    "percentage_missing=percentage_missing[percentage_missing>0]\n",
    "percentage_missing = percentage_missing.sort_values(ascending=False)\n",
    "\n",
    "'''\n",
    "Nous avons un problème avec l'Estonie, 85% des données pour les taux d'intérêt sont des valeurs manquantes\n",
    "J'ai revérifié sur le site de l'OCDE et c'est un problème qui vient de leur bases de données. Comme c'est une \n",
    "un pourcentage considérable, on devrait peut-être retirer l'Estonie de notre analyse\n",
    "\n",
    "Pour les données qui sont \"entrecoupées\" (on dirait un chemin de la route)--> c'est les Working Hours. On peut appliquer le même \n",
    "interpolation qu'on a faite pour construire le df. \n",
    "\n",
    "--> Voir tentative d'interpolation dans le notebook data.ipynb\n",
    "Un problème persiste avec les données qui sont au début ou à la fin de la période temporelle, il faudra envisager\n",
    "une autre méthode\n",
    "'''\n",
    "percentage_missing\n"
   ]
  },
  {
   "cell_type": "markdown",
   "metadata": {},
   "source": [
    "### Nettoyage des données manquantes <a class=\"anchor\" id=\"partie21\"></a>"
   ]
  },
  {
   "cell_type": "markdown",
   "metadata": {},
   "source": [
    "Ce qui suit est une proposition"
   ]
  },
  {
   "cell_type": "code",
   "execution_count": 4,
   "metadata": {},
   "outputs": [],
   "source": [
    "#Fonction qui construit un vecteur contenant le nom des variables\n",
    "def variables_pays(pays):\n",
    "    variable_pays=[f'CPI_{pays}',f'PIB_{pays}',f'LT_IR_{pays}',f'ST_IR_{pays}',f'WH_{pays}',f'P_Growth_{pays}']\n",
    "    return(variable_pays)"
   ]
  },
  {
   "cell_type": "code",
   "execution_count": 5,
   "metadata": {},
   "outputs": [
    {
     "data": {
      "text/html": [
       "<div>\n",
       "<style scoped>\n",
       "    .dataframe tbody tr th:only-of-type {\n",
       "        vertical-align: middle;\n",
       "    }\n",
       "\n",
       "    .dataframe tbody tr th {\n",
       "        vertical-align: top;\n",
       "    }\n",
       "\n",
       "    .dataframe thead th {\n",
       "        text-align: right;\n",
       "    }\n",
       "</style>\n",
       "<table border=\"1\" class=\"dataframe\">\n",
       "  <thead>\n",
       "    <tr style=\"text-align: right;\">\n",
       "      <th></th>\n",
       "      <th>CPI_Austria</th>\n",
       "      <th>PIB_Austria</th>\n",
       "      <th>LT_IR_Austria</th>\n",
       "      <th>ST_IR_Austria</th>\n",
       "      <th>WH_Austria</th>\n",
       "      <th>P_Growth_Austria</th>\n",
       "      <th>CPI_Belgium</th>\n",
       "      <th>PIB_Belgium</th>\n",
       "      <th>LT_IR_Belgium</th>\n",
       "      <th>ST_IR_Belgium</th>\n",
       "      <th>...</th>\n",
       "      <th>inflation_Norway</th>\n",
       "      <th>inflation_Poland</th>\n",
       "      <th>inflation_Portugal</th>\n",
       "      <th>inflation_Romania</th>\n",
       "      <th>inflation_Slovakia</th>\n",
       "      <th>inflation_Slovenia</th>\n",
       "      <th>inflation_Spain</th>\n",
       "      <th>inflation_Sweden</th>\n",
       "      <th>inflation_Switzerland</th>\n",
       "      <th>inflation_United</th>\n",
       "    </tr>\n",
       "    <tr>\n",
       "      <th>Unnamed: 0</th>\n",
       "      <th></th>\n",
       "      <th></th>\n",
       "      <th></th>\n",
       "      <th></th>\n",
       "      <th></th>\n",
       "      <th></th>\n",
       "      <th></th>\n",
       "      <th></th>\n",
       "      <th></th>\n",
       "      <th></th>\n",
       "      <th></th>\n",
       "      <th></th>\n",
       "      <th></th>\n",
       "      <th></th>\n",
       "      <th></th>\n",
       "      <th></th>\n",
       "      <th></th>\n",
       "      <th></th>\n",
       "      <th></th>\n",
       "      <th></th>\n",
       "      <th></th>\n",
       "    </tr>\n",
       "  </thead>\n",
       "  <tbody>\n",
       "    <tr>\n",
       "      <th>1996-Q1</th>\n",
       "      <td>71.553333</td>\n",
       "      <td>44641.2</td>\n",
       "      <td>6.396633</td>\n",
       "      <td>3.476667</td>\n",
       "      <td>39.8</td>\n",
       "      <td>2.573010</td>\n",
       "      <td>70.003333</td>\n",
       "      <td>54240.0</td>\n",
       "      <td>6.640000</td>\n",
       "      <td>3.350000</td>\n",
       "      <td>...</td>\n",
       "      <td>NaN</td>\n",
       "      <td>NaN</td>\n",
       "      <td>NaN</td>\n",
       "      <td>NaN</td>\n",
       "      <td>NaN</td>\n",
       "      <td>NaN</td>\n",
       "      <td>NaN</td>\n",
       "      <td>NaN</td>\n",
       "      <td>NaN</td>\n",
       "      <td>NaN</td>\n",
       "    </tr>\n",
       "    <tr>\n",
       "      <th>1996-Q2</th>\n",
       "      <td>71.716667</td>\n",
       "      <td>46885.1</td>\n",
       "      <td>6.505600</td>\n",
       "      <td>3.266667</td>\n",
       "      <td>39.9</td>\n",
       "      <td>2.577419</td>\n",
       "      <td>70.516667</td>\n",
       "      <td>55590.7</td>\n",
       "      <td>6.713333</td>\n",
       "      <td>3.243333</td>\n",
       "      <td>...</td>\n",
       "      <td>NaN</td>\n",
       "      <td>NaN</td>\n",
       "      <td>NaN</td>\n",
       "      <td>NaN</td>\n",
       "      <td>NaN</td>\n",
       "      <td>NaN</td>\n",
       "      <td>NaN</td>\n",
       "      <td>NaN</td>\n",
       "      <td>NaN</td>\n",
       "      <td>NaN</td>\n",
       "    </tr>\n",
       "    <tr>\n",
       "      <th>1996-Q3</th>\n",
       "      <td>71.763333</td>\n",
       "      <td>46969.6</td>\n",
       "      <td>6.430133</td>\n",
       "      <td>3.420000</td>\n",
       "      <td>40.0</td>\n",
       "      <td>2.580149</td>\n",
       "      <td>70.446667</td>\n",
       "      <td>53541.2</td>\n",
       "      <td>6.616667</td>\n",
       "      <td>3.230000</td>\n",
       "      <td>...</td>\n",
       "      <td>NaN</td>\n",
       "      <td>NaN</td>\n",
       "      <td>NaN</td>\n",
       "      <td>NaN</td>\n",
       "      <td>NaN</td>\n",
       "      <td>NaN</td>\n",
       "      <td>NaN</td>\n",
       "      <td>NaN</td>\n",
       "      <td>NaN</td>\n",
       "      <td>NaN</td>\n",
       "    </tr>\n",
       "    <tr>\n",
       "      <th>1996-Q4</th>\n",
       "      <td>72.053333</td>\n",
       "      <td>47418.5</td>\n",
       "      <td>5.953500</td>\n",
       "      <td>3.330000</td>\n",
       "      <td>40.1</td>\n",
       "      <td>2.581239</td>\n",
       "      <td>70.936667</td>\n",
       "      <td>56570.4</td>\n",
       "      <td>6.000000</td>\n",
       "      <td>3.043333</td>\n",
       "      <td>...</td>\n",
       "      <td>NaN</td>\n",
       "      <td>NaN</td>\n",
       "      <td>NaN</td>\n",
       "      <td>NaN</td>\n",
       "      <td>NaN</td>\n",
       "      <td>NaN</td>\n",
       "      <td>NaN</td>\n",
       "      <td>NaN</td>\n",
       "      <td>NaN</td>\n",
       "      <td>NaN</td>\n",
       "    </tr>\n",
       "    <tr>\n",
       "      <th>1997-Q1</th>\n",
       "      <td>72.463333</td>\n",
       "      <td>44369.0</td>\n",
       "      <td>5.709800</td>\n",
       "      <td>3.323333</td>\n",
       "      <td>40.2</td>\n",
       "      <td>2.580730</td>\n",
       "      <td>71.246667</td>\n",
       "      <td>53907.0</td>\n",
       "      <td>5.796667</td>\n",
       "      <td>3.203333</td>\n",
       "      <td>...</td>\n",
       "      <td>3.269231</td>\n",
       "      <td>17.188694</td>\n",
       "      <td>2.534330</td>\n",
       "      <td>116.062802</td>\n",
       "      <td>6.014689</td>\n",
       "      <td>8.149648</td>\n",
       "      <td>2.536778</td>\n",
       "      <td>1.157825</td>\n",
       "      <td>NaN</td>\n",
       "      <td>1.86001</td>\n",
       "    </tr>\n",
       "    <tr>\n",
       "      <th>...</th>\n",
       "      <td>...</td>\n",
       "      <td>...</td>\n",
       "      <td>...</td>\n",
       "      <td>...</td>\n",
       "      <td>...</td>\n",
       "      <td>...</td>\n",
       "      <td>...</td>\n",
       "      <td>...</td>\n",
       "      <td>...</td>\n",
       "      <td>...</td>\n",
       "      <td>...</td>\n",
       "      <td>...</td>\n",
       "      <td>...</td>\n",
       "      <td>...</td>\n",
       "      <td>...</td>\n",
       "      <td>...</td>\n",
       "      <td>...</td>\n",
       "      <td>...</td>\n",
       "      <td>...</td>\n",
       "      <td>...</td>\n",
       "      <td>...</td>\n",
       "    </tr>\n",
       "    <tr>\n",
       "      <th>2023-Q4</th>\n",
       "      <td>132.593333</td>\n",
       "      <td>122280.3</td>\n",
       "      <td>3.125533</td>\n",
       "      <td>3.957456</td>\n",
       "      <td>32.9</td>\n",
       "      <td>NaN</td>\n",
       "      <td>127.550000</td>\n",
       "      <td>158085.7</td>\n",
       "      <td>3.150000</td>\n",
       "      <td>3.957456</td>\n",
       "      <td>...</td>\n",
       "      <td>4.289056</td>\n",
       "      <td>6.285155</td>\n",
       "      <td>2.445435</td>\n",
       "      <td>7.408689</td>\n",
       "      <td>7.074750</td>\n",
       "      <td>4.968619</td>\n",
       "      <td>3.337594</td>\n",
       "      <td>3.019142</td>\n",
       "      <td>1.888900</td>\n",
       "      <td>0.00000</td>\n",
       "    </tr>\n",
       "    <tr>\n",
       "      <th>2024-Q1</th>\n",
       "      <td>133.326667</td>\n",
       "      <td>117154.2</td>\n",
       "      <td>2.835333</td>\n",
       "      <td>3.923615</td>\n",
       "      <td>34.0</td>\n",
       "      <td>NaN</td>\n",
       "      <td>129.700000</td>\n",
       "      <td>147812.8</td>\n",
       "      <td>2.890000</td>\n",
       "      <td>3.923615</td>\n",
       "      <td>...</td>\n",
       "      <td>4.220611</td>\n",
       "      <td>3.638082</td>\n",
       "      <td>2.463167</td>\n",
       "      <td>7.051174</td>\n",
       "      <td>3.632150</td>\n",
       "      <td>3.380074</td>\n",
       "      <td>3.235294</td>\n",
       "      <td>2.793953</td>\n",
       "      <td>1.281402</td>\n",
       "      <td>0.00000</td>\n",
       "    </tr>\n",
       "    <tr>\n",
       "      <th>2024-Q2</th>\n",
       "      <td>134.366667</td>\n",
       "      <td>120629.4</td>\n",
       "      <td>3.013533</td>\n",
       "      <td>3.808172</td>\n",
       "      <td>32.9</td>\n",
       "      <td>NaN</td>\n",
       "      <td>131.086667</td>\n",
       "      <td>154840.7</td>\n",
       "      <td>3.063333</td>\n",
       "      <td>3.808172</td>\n",
       "      <td>...</td>\n",
       "      <td>2.754612</td>\n",
       "      <td>2.915992</td>\n",
       "      <td>3.074050</td>\n",
       "      <td>5.784928</td>\n",
       "      <td>2.495091</td>\n",
       "      <td>2.370816</td>\n",
       "      <td>3.585946</td>\n",
       "      <td>2.074426</td>\n",
       "      <td>1.380807</td>\n",
       "      <td>0.00000</td>\n",
       "    </tr>\n",
       "    <tr>\n",
       "      <th>2024-Q3</th>\n",
       "      <td>133.950000</td>\n",
       "      <td>118597.7</td>\n",
       "      <td>2.809900</td>\n",
       "      <td>3.555377</td>\n",
       "      <td>34.5</td>\n",
       "      <td>NaN</td>\n",
       "      <td>131.900000</td>\n",
       "      <td>147978.8</td>\n",
       "      <td>2.893333</td>\n",
       "      <td>3.555377</td>\n",
       "      <td>...</td>\n",
       "      <td>2.446406</td>\n",
       "      <td>4.102921</td>\n",
       "      <td>2.334026</td>\n",
       "      <td>5.302571</td>\n",
       "      <td>3.053654</td>\n",
       "      <td>1.052963</td>\n",
       "      <td>2.314342</td>\n",
       "      <td>1.412667</td>\n",
       "      <td>1.047202</td>\n",
       "      <td>0.00000</td>\n",
       "    </tr>\n",
       "    <tr>\n",
       "      <th>2024-Q4</th>\n",
       "      <td>135.183333</td>\n",
       "      <td>125558.8</td>\n",
       "      <td>2.712067</td>\n",
       "      <td>2.996487</td>\n",
       "      <td>33.9</td>\n",
       "      <td>NaN</td>\n",
       "      <td>133.383333</td>\n",
       "      <td>163905.7</td>\n",
       "      <td>2.853333</td>\n",
       "      <td>2.996487</td>\n",
       "      <td>...</td>\n",
       "      <td>1.944167</td>\n",
       "      <td>4.003682</td>\n",
       "      <td>2.805354</td>\n",
       "      <td>5.284833</td>\n",
       "      <td>3.450082</td>\n",
       "      <td>1.201059</td>\n",
       "      <td>2.350192</td>\n",
       "      <td>1.758919</td>\n",
       "      <td>0.604390</td>\n",
       "      <td>0.00000</td>\n",
       "    </tr>\n",
       "  </tbody>\n",
       "</table>\n",
       "<p>116 rows × 190 columns</p>\n",
       "</div>"
      ],
      "text/plain": [
       "            CPI_Austria  PIB_Austria  LT_IR_Austria  ST_IR_Austria  \\\n",
       "Unnamed: 0                                                           \n",
       "1996-Q1       71.553333      44641.2       6.396633       3.476667   \n",
       "1996-Q2       71.716667      46885.1       6.505600       3.266667   \n",
       "1996-Q3       71.763333      46969.6       6.430133       3.420000   \n",
       "1996-Q4       72.053333      47418.5       5.953500       3.330000   \n",
       "1997-Q1       72.463333      44369.0       5.709800       3.323333   \n",
       "...                 ...          ...            ...            ...   \n",
       "2023-Q4      132.593333     122280.3       3.125533       3.957456   \n",
       "2024-Q1      133.326667     117154.2       2.835333       3.923615   \n",
       "2024-Q2      134.366667     120629.4       3.013533       3.808172   \n",
       "2024-Q3      133.950000     118597.7       2.809900       3.555377   \n",
       "2024-Q4      135.183333     125558.8       2.712067       2.996487   \n",
       "\n",
       "            WH_Austria  P_Growth_Austria  CPI_Belgium  PIB_Belgium  \\\n",
       "Unnamed: 0                                                           \n",
       "1996-Q1           39.8          2.573010    70.003333      54240.0   \n",
       "1996-Q2           39.9          2.577419    70.516667      55590.7   \n",
       "1996-Q3           40.0          2.580149    70.446667      53541.2   \n",
       "1996-Q4           40.1          2.581239    70.936667      56570.4   \n",
       "1997-Q1           40.2          2.580730    71.246667      53907.0   \n",
       "...                ...               ...          ...          ...   \n",
       "2023-Q4           32.9               NaN   127.550000     158085.7   \n",
       "2024-Q1           34.0               NaN   129.700000     147812.8   \n",
       "2024-Q2           32.9               NaN   131.086667     154840.7   \n",
       "2024-Q3           34.5               NaN   131.900000     147978.8   \n",
       "2024-Q4           33.9               NaN   133.383333     163905.7   \n",
       "\n",
       "            LT_IR_Belgium  ST_IR_Belgium  ...  inflation_Norway  \\\n",
       "Unnamed: 0                                ...                     \n",
       "1996-Q1          6.640000       3.350000  ...               NaN   \n",
       "1996-Q2          6.713333       3.243333  ...               NaN   \n",
       "1996-Q3          6.616667       3.230000  ...               NaN   \n",
       "1996-Q4          6.000000       3.043333  ...               NaN   \n",
       "1997-Q1          5.796667       3.203333  ...          3.269231   \n",
       "...                   ...            ...  ...               ...   \n",
       "2023-Q4          3.150000       3.957456  ...          4.289056   \n",
       "2024-Q1          2.890000       3.923615  ...          4.220611   \n",
       "2024-Q2          3.063333       3.808172  ...          2.754612   \n",
       "2024-Q3          2.893333       3.555377  ...          2.446406   \n",
       "2024-Q4          2.853333       2.996487  ...          1.944167   \n",
       "\n",
       "            inflation_Poland  inflation_Portugal  inflation_Romania  \\\n",
       "Unnamed: 0                                                            \n",
       "1996-Q1                  NaN                 NaN                NaN   \n",
       "1996-Q2                  NaN                 NaN                NaN   \n",
       "1996-Q3                  NaN                 NaN                NaN   \n",
       "1996-Q4                  NaN                 NaN                NaN   \n",
       "1997-Q1            17.188694            2.534330         116.062802   \n",
       "...                      ...                 ...                ...   \n",
       "2023-Q4             6.285155            2.445435           7.408689   \n",
       "2024-Q1             3.638082            2.463167           7.051174   \n",
       "2024-Q2             2.915992            3.074050           5.784928   \n",
       "2024-Q3             4.102921            2.334026           5.302571   \n",
       "2024-Q4             4.003682            2.805354           5.284833   \n",
       "\n",
       "            inflation_Slovakia  inflation_Slovenia  inflation_Spain  \\\n",
       "Unnamed: 0                                                            \n",
       "1996-Q1                    NaN                 NaN              NaN   \n",
       "1996-Q2                    NaN                 NaN              NaN   \n",
       "1996-Q3                    NaN                 NaN              NaN   \n",
       "1996-Q4                    NaN                 NaN              NaN   \n",
       "1997-Q1               6.014689            8.149648         2.536778   \n",
       "...                        ...                 ...              ...   \n",
       "2023-Q4               7.074750            4.968619         3.337594   \n",
       "2024-Q1               3.632150            3.380074         3.235294   \n",
       "2024-Q2               2.495091            2.370816         3.585946   \n",
       "2024-Q3               3.053654            1.052963         2.314342   \n",
       "2024-Q4               3.450082            1.201059         2.350192   \n",
       "\n",
       "            inflation_Sweden  inflation_Switzerland  inflation_United  \n",
       "Unnamed: 0                                                             \n",
       "1996-Q1                  NaN                    NaN               NaN  \n",
       "1996-Q2                  NaN                    NaN               NaN  \n",
       "1996-Q3                  NaN                    NaN               NaN  \n",
       "1996-Q4                  NaN                    NaN               NaN  \n",
       "1997-Q1             1.157825                    NaN           1.86001  \n",
       "...                      ...                    ...               ...  \n",
       "2023-Q4             3.019142               1.888900           0.00000  \n",
       "2024-Q1             2.793953               1.281402           0.00000  \n",
       "2024-Q2             2.074426               1.380807           0.00000  \n",
       "2024-Q3             1.412667               1.047202           0.00000  \n",
       "2024-Q4             1.758919               0.604390           0.00000  \n",
       "\n",
       "[116 rows x 190 columns]"
      ]
     },
     "execution_count": 5,
     "metadata": {},
     "output_type": "execute_result"
    }
   ],
   "source": [
    "#On élimine l'année 1995 pour éviter de faire du \"backcasting\" du CPI de tous les pays\n",
    "df_clean=df.copy()\n",
    "df_clean=df_clean.drop([\"1995-Q1\",\"1995-Q2\",\"1995-Q3\",\"1995-Q4\"])\n",
    "\n",
    "#On élimine l'Estonie de notre dataset\n",
    "Estonia=variables_pays(\"Estonia\")\n",
    "df_clean=df_clean.drop(Estonia, axis=1)\n",
    "df_clean\n"
   ]
  },
  {
   "cell_type": "code",
   "execution_count": null,
   "metadata": {},
   "outputs": [],
   "source": [
    "df_clean_missing_binary = df_clean.isnull().astype(int)\n",
    "\n",
    "# Définir la figure avec un affichage interactif\n",
    "fig, ax = plt.subplots(figsize=(50, 80))\n",
    "\n",
    "# Utiliser seaborn pour une meilleure visualisation sans grille\n",
    "sns.heatmap(df_clean_missing_binary, cmap=\"OrRd\", cbar=False, linewidths=0, ax=ax, square=False)\n",
    "\n",
    "# Ajouter un titre\n",
    "ax.set_title(\"Matrice des valeurs manquantes (Rouge = Manquant)\")\n",
    "\n",
    "# Rotation des labels pour une meilleure lisibilité\n",
    "plt.xticks(rotation=90)\n",
    "plt.yticks(rotation=0)\n",
    "\n",
    "# Afficher la figure\n",
    "plt.show()"
   ]
  },
  {
   "cell_type": "code",
   "execution_count": null,
   "metadata": {},
   "outputs": [],
   "source": [
    "#Pourcentage de données manquantes par variable\n",
    "percentage_missing_clean=((df_clean_missing_binary.sum())/df_clean_missing_binary.shape[0])*100\n",
    "\n",
    "#On ne garde que les colonnes ayant des missing values\n",
    "percentage_missing_clean=percentage_missing_clean[percentage_missing_clean>0]\n",
    "percentage_missing_clean = percentage_missing_clean.sort_values(ascending=False)\n",
    "percentage_missing_clean"
   ]
  },
  {
   "cell_type": "markdown",
   "metadata": {},
   "source": [
    "Quelques lignes de code préliminaires"
   ]
  },
  {
   "cell_type": "code",
   "execution_count": null,
   "metadata": {},
   "outputs": [],
   "source": [
    "#Création d'une copie de la base de données ayant pour index des DateTime\n",
    "df_TS=df.copy()\n",
    "df_TS.index = pd.PeriodIndex(df.index, freq='Q')  #conversion en PeriodIndex\n",
    "df_TS.index = df_TS.index.to_timestamp() #Conversion en DateTime\n",
    "print(type(df.index))\n",
    "\n",
    "''' \n",
    "Ici je ne suis pas sûr:\n",
    "- pour faire des analyses en séries temporelles, il faut que les index soient des datetime\n",
    "- j'ai donc converti chaque trimestre en la première date de chaque trimestre. \n",
    "- pour des graphes, et pour transformer les sorties, on peut utiliser : df.index.strftime('%Y-Q%q')\n",
    "- je ne sais pas s'il y a une meileure façon de faire\n",
    "\n",
    "'''\n"
   ]
  },
  {
   "cell_type": "code",
   "execution_count": null,
   "metadata": {},
   "outputs": [],
   "source": [
    "#On divise le df en 3 (correspondant à chaque période)\n",
    "df_TS_before_2008 = df_TS.loc[df_TS.index < '2008-01-01'].copy()\n",
    "df_TS_after_2008 = df_TS.loc[(df_TS.index >= '2008-01-01') & (df_TS.index<'2020-01-01')].copy()\n",
    "df_TS_after_2020 = df_TS.loc[df_TS.index >= '2020-01-01'].copy()\n"
   ]
  },
  {
   "cell_type": "code",
   "execution_count": null,
   "metadata": {},
   "outputs": [],
   "source": [
    "#Synthèse avant 2008\n",
    "df_TS_before_2008.describe()"
   ]
  },
  {
   "cell_type": "code",
   "execution_count": null,
   "metadata": {},
   "outputs": [],
   "source": [
    "#Synthèse après 2008\n",
    "df_TS_after_2008.describe()"
   ]
  },
  {
   "cell_type": "code",
   "execution_count": null,
   "metadata": {},
   "outputs": [],
   "source": [
    "#Synthèse après 2020\n",
    "df_TS_after_2020.describe()"
   ]
  },
  {
   "cell_type": "markdown",
   "metadata": {},
   "source": [
    "### Statistiques descriptives inter-pays <a class=\"anchor\" id=\"partie23\"></a>"
   ]
  },
  {
   "cell_type": "markdown",
   "metadata": {},
   "source": [
    "#### Statistiques par types de variables <a class=\"anchor\" id=\"partie231\"></a>"
   ]
  },
  {
   "cell_type": "code",
   "execution_count": null,
   "metadata": {},
   "outputs": [],
   "source": [
    "# Réglages d'affichage\n",
    "pd.set_option('display.max_columns', None) \n",
    "pd.set_option('display.max_rows', None)    \n",
    "pd.set_option('display.width', 1000) "
   ]
  },
  {
   "cell_type": "code",
   "execution_count": null,
   "metadata": {},
   "outputs": [],
   "source": [
    "group_dict = {\n",
    "    # Économie en développement\n",
    "    \"Czechia\": \"developing\",\n",
    "    \"Lithuania\": \"developing\",\n",
    "    \"Latvia\": \"developing\",\n",
    "    \"Poland\": \"developing\",\n",
    "    \"Bulgaria\": \"developing\",\n",
    "    \"Slovakia\": \"developing\",\n",
    "    \"Hungary\": \"developing\",\n",
    "    \"Slovenia\": \"developing\",\n",
    "    \"Iceland\": \"developing\",\n",
    "    \"Estonia\": \"developing\",\n",
    "    \"Romania\": \"developing\",\n",
    "\n",
    "    # Grande économie développée\n",
    "    \"Germany\": \"large_developed\",\n",
    "    \"United_Kingdom\": \"large_developed\",\n",
    "    \"France\": \"large_developed\",\n",
    "    \"Italy\": \"large_developed\",\n",
    "    \"Spain\": \"large_developed\",\n",
    "    \"Netherlands\": \"large_developed\",\n",
    "\n",
    "    # Petite économie développée\n",
    "    \"Austria\": \"small_developed\",\n",
    "    \"Belgium\": \"small_developed\",\n",
    "    \"Denmark\": \"small_developed\",\n",
    "    \"Greece\": \"small_developed\",\n",
    "    \"Finland\": \"small_developed\",\n",
    "    \"Ireland\": \"small_developed\",\n",
    "    \"Luxembourg\": \"small_developed\",\n",
    "    \"Norway\": \"small_developed\",\n",
    "    \"Portugal\": \"small_developed\",\n",
    "    \"Sweden\": \"small_developed\",\n",
    "    \"Switzerland\": \"small_developed\"\n",
    "}\n",
    "pib_columns_developing = [f\"PIB_{country}\" for country, group in group_dict.items() if group == \"developing\"]\n",
    "pib_columns_large_developed = [f\"PIB_{country}\" for country, group in group_dict.items() if group == \"large_developed\"]\n",
    "pib_columns_small_developed = [f\"PIB_{country}\" for country, group in group_dict.items() if group == \"small_developed\"]"
   ]
  },
  {
   "cell_type": "markdown",
   "metadata": {},
   "source": [
    "##### CPI <a class=\"anchor\" id=\"partie2311\"></a>"
   ]
  },
  {
   "cell_type": "code",
   "execution_count": null,
   "metadata": {},
   "outputs": [],
   "source": [
    "colonnes_CPI = [colonne for colonne in df_TS.columns if colonne.startswith('CPI')]\n",
    "CPI = df[colonnes_CPI]\n",
    "CPI.describe()"
   ]
  },
  {
   "cell_type": "markdown",
   "metadata": {},
   "source": [
    "On remarque que les moyennes sont assez similaires aux alentours comprises entre 91 et 95 pour la plupart des pays, on a cependant certains pays pour lesquels elles sont en dessous, avec notamment l'Islande et la Roumanie sous les 80 et la Suisse est la seule au delà des 100. On remarque aussi des écart-types plus élevées (au-dessus des 20) pour les pays d'Europe de l'Est et du Nord-est (et l'Islande), contre des écart-types compris entre 13 et 17 pour la plupart des autres pays, la Suisse faisant exception avec un écart-types de 2,33. Ces différences s'expliquent par des évolutions bien plus fortes depuis les années 1995 par ces pays de l'Est. les graphes ci-dessous illustrent cela.\n",
    "\n",
    "Concernant les valeurs présentes, il y a 116 périodes, soit du premier trimestre de 1996 au dernier de 2024, sauf pour la Bulgarie (113), qui semble commencer en 1997, le Royaume-Uni (100), qui s'arrête en 2021, et la Suisse (81), qui commence en 2005."
   ]
  },
  {
   "cell_type": "code",
   "execution_count": null,
   "metadata": {},
   "outputs": [],
   "source": [
    "tracer_evolution(CPI, xlabel =\"Période\",ylabel = \"Indice des Prix à la consommation\")"
   ]
  },
  {
   "cell_type": "markdown",
   "metadata": {},
   "source": [
    "Le graphique ci-dessus montre l'évolution de tous les pays et on peut observer la tendance haussière globale, pour expliciter le phénomènes de distinction on sépare en deux groupes nos pays et on les plot séparément "
   ]
  },
  {
   "cell_type": "code",
   "execution_count": null,
   "metadata": {},
   "outputs": [],
   "source": [
    "# On sépare en deux groupe selon la valeur de l'écart-type\n",
    "CPI_description = CPI.describe()\n",
    "std_values = CPI_description.loc['std']\n",
    "CPI_groupe_1_indices = std_values[std_values < 18].index  \n",
    "CPI_groupe_2_indices = std_values[std_values > 18].index\n",
    "CPI_groupe_1 = CPI[CPI_groupe_1_indices]\n",
    "CPI_groupe_2 = CPI[CPI_groupe_2_indices]\n",
    "\n",
    "# Ajout de la valeur moyenne\n",
    "Moyenne_CPI_1 = CPI_groupe_1.mean(axis=1)\n",
    "CPI_groupe_1['CPI_Mean'] = Moyenne_CPI_1\n",
    "Moyenne_CPI_2 = CPI_groupe_2.mean(axis=1)\n",
    "CPI_groupe_2['CPI_Mean'] = Moyenne_CPI_2\n",
    "\n",
    "CPI_Moyenne = pd.DataFrame()\n",
    "CPI_Moyenne[\"CPI_Mean_group_1\"] = Moyenne_CPI_1\n",
    "CPI_Moyenne[\"CPI_Mean_group_2\"] = Moyenne_CPI_2"
   ]
  },
  {
   "cell_type": "code",
   "execution_count": null,
   "metadata": {},
   "outputs": [],
   "source": [
    "tracer_evolution(CPI_groupe_1, xlabel =\"Période\",ylabel = \"Indice des Prix à la consommation des pays avec une plus faible évolution\")"
   ]
  },
  {
   "cell_type": "code",
   "execution_count": null,
   "metadata": {},
   "outputs": [],
   "source": [
    "tracer_evolution(CPI_groupe_2, xlabel =\"Période\",ylabel = \"Indice des Prix à la consommation (Std < 18)\")"
   ]
  },
  {
   "cell_type": "code",
   "execution_count": null,
   "metadata": {},
   "outputs": [],
   "source": [
    "tracer_evolution(CPI_Moyenne, xlabel =\"Période\",ylabel = \"Indice des Prix à la consommation moyen entre pour les deux groupes\")"
   ]
  },
  {
   "cell_type": "markdown",
   "metadata": {},
   "source": [
    "On observe mieux les différences entre le groupe 1 et le groupe 2, avec une croissance de CPI moyenne plus élevée dans le second groupe. On va essayer de voir si la différence entre ces deux groupes est aussi marquée pour les autres variables."
   ]
  },
  {
   "cell_type": "markdown",
   "metadata": {},
   "source": [
    "On va s'intéresser aux statistiques en glissement annuel. "
   ]
  },
  {
   "cell_type": "code",
   "execution_count": null,
   "metadata": {},
   "outputs": [],
   "source": [
    "CPI_Glissement = CPI.pct_change(periods=4) * 100 \n",
    "CPI_Glissement.describe()"
   ]
  },
  {
   "cell_type": "markdown",
   "metadata": {},
   "source": [
    "L’analyse des variations annuelles du CPI (approximation de l’inflation) pour les pays européens met en évidence des disparités marquées entre les différentes économies. Les moyennes d’inflation révèlent une nette distinction entre les pays d’Europe de l’Ouest et du Nord, à inflation modérée et relativement stable, et les pays d’Europe centrale et orientale, caractérisés par une inflation plus élevée. Par exemple, la Roumanie présente une moyenne exceptionnelle de 17,4 %, suivie de la Bulgarie (9,9 %), la Hongrie (6,2 %) ou encore les États baltes comme l’Estonie (4,5 %) et la Lettonie (4,2 %). À l’opposé, des pays comme la Suisse (0,52 %), le Royaume-Uni (1,66 %), la France (1,80 %) ou encore la Finlande (1,86 %) affichent des taux d’inflation moyens nettement inférieurs, illustrant une gestion plus stable des prix à la consommation.\n",
    "Cette hétérogénéité se retrouve également dans la volatilité des séries. Les écarts-types confirment la forte instabilité de l’inflation dans certaines économies émergentes, notamment en Roumanie (écart-type de 31,2) et en Bulgarie (52,2), où l’on observe aussi les valeurs extrêmes les plus aberrantes (maximum à 544 % en Bulgarie, par exemple). À l’inverse, des pays comme la Suisse, l’Irlande ou la France montrent une inflation bien plus contenue et prévisible. Le minimum de certaines séries est même négatif, ce qui reflète des épisodes de désinflation ponctuelle dans plusieurs pays (ex : Irlande, Grèce, Islande).\n",
    "Les indicateurs de distribution (quartiles) permettent d’observer la dispersion typique des taux d’inflation. Les pays développés ont une distribution resserrée autour d’une médiane proche de 2 %, avec des 25e et 75e percentiles proches (ex : Autriche, Belgique, France). En revanche, les pays émergents présentent des distributions très étendues, témoignant d’une plus grande exposition aux chocs de prix.\n",
    "En somme, cette analyse confirme l’existence de trois régimes d’inflation en Europe : un régime stable à faible inflation (économies développées d’Europe de l’Ouest et du Nord), un régime modéré mais plus volatil (certains pays d’Europe du Sud ou périphériques), et un régime d’inflation forte et instable (économies émergentes d’Europe de l’Est). "
   ]
  },
  {
   "cell_type": "markdown",
   "metadata": {},
   "source": [
    "##### PIB <a class=\"anchor\" id=\"partie2312\"></a>"
   ]
  },
  {
   "cell_type": "code",
   "execution_count": null,
   "metadata": {},
   "outputs": [],
   "source": [
    "colonnes_PIB = [colonne for colonne in df_TS.columns if colonne.startswith('PIB')]\n",
    "PIB = df[colonnes_PIB]\n",
    "PIB.describe()"
   ]
  },
  {
   "cell_type": "markdown",
   "metadata": {},
   "source": [
    "Concernant les valeurs présentes  il y en a entre 118 et 120 pour tous les pays, c'est à dire toutes les périodes sauf une ou deux, et le Royaume-Uni n'en a que 103, qui s'arrête en 2020, comme pour le CPI.\n",
    "\n",
    "Ici les moyennes diffèrent grandement tout comme les écart-types. On va donc regarder l'évolution des PIB. "
   ]
  },
  {
   "cell_type": "code",
   "execution_count": null,
   "metadata": {},
   "outputs": [],
   "source": [
    "tracer_evolution(PIB, xlabel =\"Période\",ylabel = \"PIB en Millions \")"
   ]
  },
  {
   "cell_type": "markdown",
   "metadata": {},
   "source": [
    "On voit trois choses sur ce graphiques, d'abord qu'un grand nombre de valeurs sont écrasées par les plus grosses et donc sont difficiles à observer lorsque nous sommes en échelle linéaire, ensuite les séries semblent croissantes et avec des saisons, enfin on distingue bien la période de récession du Covid."
   ]
  },
  {
   "cell_type": "code",
   "execution_count": null,
   "metadata": {},
   "outputs": [],
   "source": [
    "camembert(PIB, période = \"2021-Q1\", titre = \"PIB en Millions au Q1 de 2021\")"
   ]
  },
  {
   "cell_type": "markdown",
   "metadata": {},
   "source": [
    "Ce diagramme fait au premier trimestre de 2020 (dernière date où le PIB du Royaume-Uni est renseignée) illustre parfaitement le fait que les plus gros pays écrase les valeurs des plus petits, en prenant l'Allemagne, le Royaume-Uni, la France, l'Italie et l'Espagne on observe déjà 70% du PIB total, de plus 11 pays comptent pour moins de 1% du total. "
   ]
  },
  {
   "cell_type": "code",
   "execution_count": null,
   "metadata": {},
   "outputs": [],
   "source": [
    "PIB = PIB.rename(columns=lambda x: f\"LOG_{x}\")\n",
    "tracer_evolution(PIB, xlabel =\"Période\",ylabel = \"log(PIB) en Millions \", log = True)"
   ]
  },
  {
   "cell_type": "markdown",
   "metadata": {},
   "source": [
    "En valeurs logarithmiques on voit bien la tendance linéaire assez similaire entre les séries, tout comme les variations saisonnales. Maintenant on va séparer en deux groupes les PIB afin de pouvoir mieux observer l'effet de la récession du covid. "
   ]
  },
  {
   "cell_type": "code",
   "execution_count": null,
   "metadata": {},
   "outputs": [],
   "source": [
    "# On sépare en deux groupe selon la valeur de la moyenne\n",
    "PIB_description = PIB.describe()\n",
    "PIB_mean_values = PIB_description.loc['mean']\n",
    "PIB_groupe_1_indices = PIB_mean_values[PIB_mean_values > 150000].index  \n",
    "PIB_groupe_2_indices = PIB_mean_values[PIB_mean_values < 150000].index\n",
    "PIB_groupe_1 = PIB[PIB_groupe_1_indices]\n",
    "PIB_groupe_2 = PIB[PIB_groupe_2_indices]"
   ]
  },
  {
   "cell_type": "code",
   "execution_count": null,
   "metadata": {},
   "outputs": [],
   "source": [
    "tracer_evolution(PIB_groupe_1, xlabel =\"Période\",  start_date=\"2019-Q2\", end_date=\"2021-Q2\", ylabel = \"PIB en Millions \")"
   ]
  },
  {
   "cell_type": "code",
   "execution_count": null,
   "metadata": {},
   "outputs": [],
   "source": [
    "tracer_evolution(PIB_groupe_2, xlabel =\"Période\",  start_date=\"2019-Q2\", end_date=\"2021-Q2\", ylabel = \"PIB en Millions \")"
   ]
  },
  {
   "cell_type": "markdown",
   "metadata": {},
   "source": [
    "En séparant en deux groupes on constate moins la diminution due au Covid au Q2 de 2020 parmi le groupe dont le PIB moyen est en dessous de 200 Milliards."
   ]
  },
  {
   "cell_type": "code",
   "execution_count": null,
   "metadata": {},
   "outputs": [],
   "source": [
    "comparer_periodes(PIB, \"2020-Q1\", \"2020-Q2\")"
   ]
  },
  {
   "cell_type": "code",
   "execution_count": null,
   "metadata": {},
   "outputs": [],
   "source": [
    "print(comparer_periodes(PIB, \"2020-Q1\", \"2020-Q2\")['Différence de %'].mean())"
   ]
  },
  {
   "cell_type": "markdown",
   "metadata": {},
   "source": [
    "En observant la différence entre les deux premiers trimestres de 2020 on observe très bien la récession du confinement. La récession moyenne est de -5.12%."
   ]
  },
  {
   "cell_type": "markdown",
   "metadata": {},
   "source": [
    "Pour revenir à la séparation des groupes faites lors de l'analyse du CPI, on remarque que tous les pays du groupes 2 précédent sont encore dans le groupe 2 en terme de PIB et que certains pays du groupe 1 sont maintenant dans ce groupe, ce sont surtout les pays d'Europe Centrale et du Nord ayant des populations plus faibles. On pourrait donc être amené à distinguer par la suite trois groupes, les économies qui en train de se développer, les petites économies développées et les grandes économies développées. "
   ]
  },
  {
   "cell_type": "code",
   "execution_count": null,
   "metadata": {},
   "outputs": [],
   "source": [
    "print(PIB_groupe_2_indices, CPI_groupe_2_indices)"
   ]
  },
  {
   "cell_type": "markdown",
   "metadata": {},
   "source": [
    "On va s'intéresser aux statistiques en glissement annuel. "
   ]
  },
  {
   "cell_type": "code",
   "execution_count": null,
   "metadata": {},
   "outputs": [],
   "source": [
    "PIB_Glissement = PIB.pct_change(periods=4) * 100 \n",
    "PIB_Glissement.describe()"
   ]
  },
  {
   "cell_type": "markdown",
   "metadata": {},
   "source": [
    "L’étude des variations annuelles du PIB met en lumière des différences nettes entre les pays européens, reflétant à la fois le niveau de développement économique et la sensibilité aux chocs conjoncturels. En moyenne, les pays d’Europe de l’Est et du Nord, souvent classés comme économies émergentes ou plus dynamiques, affichent des taux de croissance bien supérieurs. On retrouve ainsi la Lituanie (10,3 %), la Lettonie (8,8 %), l’Irlande (8,6 %), l’Estonie (9,6 %) ou encore la Bulgarie (8,6 %) avec des niveaux de croissance annualisée élevés. Ces performances moyennes témoignent soit de rattrapages économiques structurels, soit d’une plus grande exposition aux cycles d’expansion.\n",
    "À l’inverse, les grandes économies développées comme l’Allemagne (2,75 %), la France (3,1 %), l’Italie (3,2 %) ou le Royaume-Uni (3,2 %) présentent des taux de croissance plus modérés, mais souvent plus réguliers, confirmant une certaine stabilité structurelle. Cela est cohérent avec le rôle de ces économies en tant que piliers de la zone euro, mais aussi avec leur maturité économique et leur moindre potentiel de rattrapage.\n",
    "La dispersion des données confirme ces dynamiques : les écarts-types les plus élevés se retrouvent dans les pays à forte croissance moyenne, comme la Roumanie, la Hongrie, la Slovaquie ou les États baltes, qui sont également ceux ayant connu des chocs sévères ou des reprises rapides. Des valeurs extrêmes, positives ou négatives, sont observées dans ces pays. Par exemple, l’Irlande connaît une croissance maximale de 38,8 %, et la Bulgarie de 136 %, ce qui indique soit des anomalies statistiques ponctuelles (souvent liées à des bases faibles), soit des fluctuations extrêmes dues à des événements exogènes. À l’opposé, les pays comme la Suisse, l’Autriche ou la Belgique présentent des profils de croissance plus encadrés, avec une moindre amplitude entre les quartiles.\n",
    "Les indicateurs de position (médiane, quartiles) renforcent cette lecture : les économies développées ont des médianes de croissance comprises entre 2,9 % et 3,5 %, tandis que les économies en développement ou de petite taille montrent des médianes plus élevées (jusqu’à 10 %), mais aussi plus dispersées. Enfin, certains pays comme la Norvège, le Luxembourg ou l’Irlande présentent des caractéristiques mixtes : haut niveau de développement, mais volatilité importante, probablement liée à des effets sectoriels ou à leur structure économique (ressources naturelles, multinationales, etc.)."
   ]
  },
  {
   "cell_type": "markdown",
   "metadata": {},
   "source": [
    "##### Taux d'intérêts <a class=\"anchor\" id=\"partie2313\"></a>"
   ]
  },
  {
   "cell_type": "code",
   "execution_count": null,
   "metadata": {},
   "outputs": [],
   "source": [
    "colonnes_LT = [colonne for colonne in df_TS.columns if colonne.startswith('LT')]\n",
    "LT = df[colonnes_LT]\n",
    "LT.describe()"
   ]
  },
  {
   "cell_type": "code",
   "execution_count": null,
   "metadata": {},
   "outputs": [],
   "source": [
    "colonnes_ST = [colonne for colonne in df_TS.columns if colonne.startswith('ST')]\n",
    "ST = df[colonnes_ST]\n",
    "ST.describe()"
   ]
  },
  {
   "cell_type": "markdown",
   "metadata": {},
   "source": [
    "Les valeurs renseignées pour les taux d'intérêts de long-termes sont assez hétérogènes. 16 pays ont toutes les valeurs de renseignées, les autres pays ont entre 91 et 110 valeurs renseignée sauf la Roumanie avec 79, la Bulgarie avec 88 et l'Estonie avec seulement 18. Concernant les taux à court-terme on a cette fois 19 pays avec toutes les valeurs renseignées et pour les autres on a seulement la Slovénie (avec 92 valeurs) et la Bulgarie (avec 83 valeurs) sous les 100 valeurs renseignée. \n",
    "\n",
    "Les moyennes des taux de long terme oscille entre 1,78% pour la Suisse et 7,20% pour l'Islande, avec une majorité des pays au alentour des 3-4%. (21 pays), il y a l'Estonie à 2,1 % et le reste au alentour des 5-6%. Les écart-types sont relativement proches des 2 sauf pour la Grèce avec 4,5, la Lettonie avec 3,9 et la Lituanie avec 3,6.\n",
    "\n",
    "Pour les taux de court terme les moyennes sont aux environs des 2% pour la plupart des pays des pays d'Europe de l'Ouest et du Nord, et sont plus hautes en moyenne pour les pays d'Europe de l'Est avec notamment la Roumanie et ses 21% de moyenne, la Hongrie avec ses 8,8% et la Pologne avec ses 7,8%. les écart-types sont relativement proches des valeurs moyennes."
   ]
  },
  {
   "cell_type": "code",
   "execution_count": null,
   "metadata": {},
   "outputs": [],
   "source": [
    "tracer_evolution(LT, xlabel =\"Période\", ylabel = \"Taux de long terme\")"
   ]
  },
  {
   "cell_type": "code",
   "execution_count": null,
   "metadata": {},
   "outputs": [],
   "source": [
    "tracer_evolution(ST, xlabel =\"Période\", ylabel = \"Taux de court terme\")"
   ]
  },
  {
   "cell_type": "code",
   "execution_count": null,
   "metadata": {},
   "outputs": [],
   "source": [
    "ST_wo_Roumania = ST.drop(columns = [\"ST_IR_Romania\"])\n",
    "tracer_evolution(ST_wo_Roumania, xlabel =\"Période\", ylabel = \"Taux de court terme\")"
   ]
  },
  {
   "cell_type": "markdown",
   "metadata": {},
   "source": [
    "On sort la Roumanie de la représentation des taux de court-terme car ses valeurs sont trop grandes. Pour les taux de long-terme on observe une corrélation entre les taux assez forte avec une tendance décroissante marquée par deux bosses en 2008 et 2012 qui correspondent à la crise des subprimes et de l'euro, puis une troisième en 2022 qui est celle qui nous intéresse pour cette étude. Concernant les taux de court-terme on a des fortes irrégularités jusqu'en 2003, puis une période de stabilisation avant une hausse en 2008 et une autre périodes stable jusqu'à la hausse de 2022."
   ]
  },
  {
   "cell_type": "code",
   "execution_count": null,
   "metadata": {},
   "outputs": [],
   "source": [
    "tracer_evolution(LT, xlabel =\"Période\", start_date=\"2020-Q3\", end_date=\"2024-Q4\",ylabel = \"Taux de long terme\")"
   ]
  },
  {
   "cell_type": "code",
   "execution_count": null,
   "metadata": {},
   "outputs": [],
   "source": [
    "tracer_evolution(ST, xlabel =\"Période\", start_date=\"2020-Q3\", end_date=\"2024-Q4\",ylabel = \"Taux de court terme\")"
   ]
  },
  {
   "cell_type": "markdown",
   "metadata": {},
   "source": [
    "En regardant plus précisément les périodes qui nous intéressent, on remarque que la hausse débute dès le Q1 de 2021 et semble se stabiliser à partir du Q3 de 2023."
   ]
  },
  {
   "cell_type": "code",
   "execution_count": null,
   "metadata": {},
   "outputs": [],
   "source": [
    "comparer_periodes(LT, \"2021-Q1\", \"2023-Q3\", percent = False)"
   ]
  },
  {
   "cell_type": "code",
   "execution_count": null,
   "metadata": {},
   "outputs": [],
   "source": [
    "print(comparer_periodes(LT, \"2021-Q1\", \"2023-Q3\", percent = False).mean(), comparer_periodes(ST, \"2021-Q1\", \"2023-Q3\", percent = False).mean())"
   ]
  },
  {
   "cell_type": "markdown",
   "metadata": {},
   "source": [
    "Ainsi on voit qu'il y a eu une hausse moyenne des taux de 3,38 points de pourcentages pour les taux de long terme et de 4,75 points de pourcentages pour les taux de court terme."
   ]
  },
  {
   "cell_type": "code",
   "execution_count": null,
   "metadata": {},
   "outputs": [],
   "source": [
    "LT_wo_Switzerland = LT.drop(columns = [\"LT_IR_Switzerland\"])\n",
    "tracer_evolution(LT_wo_Switzerland, xlabel =\"Période\", start_date=\"2015-Q1\", end_date=\"2024-Q3\",ylabel = \"Variation du taux de long terme par rapport à la base du Q1 de 2015\", base = \"2015-Q1\", lissage = True)"
   ]
  },
  {
   "cell_type": "markdown",
   "metadata": {},
   "source": [
    "On observe bien sur ce graphique en avec comme base le premier trimestre de 2015 la hausse soudaine des taux dès le premier trimestre de 2021 et ce jusqu'au deuxième, voire troisième trimestre de 2023. Et ce pour tous les pays, on ne le voit pas pour la Grèce sur ce graphique, mais cela est dû à sa base qui est très élevé en 2015 étant en train de sortir d'une crise de la dette, dont on a observé les hausses massives de taux sur les graphiques précédents."
   ]
  },
  {
   "cell_type": "markdown",
   "metadata": {},
   "source": [
    "##### Heures travaillées <a class=\"anchor\" id=\"partie2314\"></a>"
   ]
  },
  {
   "cell_type": "code",
   "execution_count": null,
   "metadata": {},
   "outputs": [],
   "source": [
    "colonnes_WH = [colonne for colonne in df_TS.columns if colonne.startswith('WH')]\n",
    "WH = df[colonnes_WH]\n",
    "WH.describe()"
   ]
  },
  {
   "cell_type": "markdown",
   "metadata": {},
   "source": [
    "Pour les heures travaillées tous les pays ont au moins 100 valeurs renseignées avec 11 pays sur 28 qui n'ont pas toute leurs valeurs. Les moyennes oscillent entre 34 et 40, sauf pour les Pays-Bas avec 31 heures et il y a 4 pays au dessus des 40 heures, à savoir la Bulgarie, la Tchéquie, la Grèce et la Pologne. Les écarts-types sont aussi faibles."
   ]
  },
  {
   "cell_type": "code",
   "execution_count": null,
   "metadata": {},
   "outputs": [],
   "source": [
    "tracer_evolution(WH, xlabel =\"Période\", ylabel = \"Évolution des heures/semaine travaillées\")"
   ]
  },
  {
   "cell_type": "markdown",
   "metadata": {},
   "source": [
    "Les données sont vraiment exploitables à partir de 1999 et semble suivre une tendance décroissante et être très impactées par la saisonnalité, ce qu'il faudra vérifier. "
   ]
  },
  {
   "cell_type": "markdown",
   "metadata": {},
   "source": [
    "##### Croissance potentielle <a class=\"anchor\" id=\"partie2315\"></a>"
   ]
  },
  {
   "cell_type": "code",
   "execution_count": null,
   "metadata": {},
   "outputs": [],
   "source": [
    "colonnes_PG = [colonne for colonne in df_TS.columns if colonne.startswith('P_')]\n",
    "PG = df[colonnes_PG]\n",
    "PG.describe()"
   ]
  },
  {
   "cell_type": "markdown",
   "metadata": {},
   "source": [
    "Les données ont été obtenue par interpolation polynomiale donc on a toutes les valeurs jusqu'à 2021 là où s'arrêtais les valeurs de la série initiale. Les moyennes sont comprises entre 1,2 et 4 avec l'Ireland à 5 et l'Italie à 0.5."
   ]
  },
  {
   "cell_type": "code",
   "execution_count": null,
   "metadata": {},
   "outputs": [],
   "source": [
    "tracer_evolution(PG, xlabel =\"Période\", ylabel = \"Évolution de la croissance potentielle\")"
   ]
  },
  {
   "cell_type": "markdown",
   "metadata": {},
   "source": [
    "On voit très bien l'interpolation polynomiale des variables et on perçoit une phase de baisse de la croissance potentielle entre 2003 et 2016 avant de remonter plus nettement."
   ]
  },
  {
   "cell_type": "markdown",
   "metadata": {},
   "source": [
    "#### Étude des corrélations <a class=\"anchor\" id=\"partie222\"></a>"
   ]
  },
  {
   "cell_type": "markdown",
   "metadata": {},
   "source": [
    "Correlations\\\n",
    "Idée: nous allons étudier les correlations entre plusieurs variables de 4 pays (corrélations à l'intérieur du même pays)"
   ]
  },
  {
   "cell_type": "code",
   "execution_count": null,
   "metadata": {},
   "outputs": [],
   "source": [
    "France=variables_pays('France')\n",
    "Germany=variables_pays('Germany')\n",
    "Denmark=variables_pays('Denmark')\n",
    "Romania=variables_pays('Romania')\n",
    "\n",
    "plt.figure(figsize=(20, 20))\n",
    "\n",
    "plt.subplot(2,2,1)\n",
    "sns.heatmap(df[France].corr())\n",
    "plt.title(\"Matrice de corrélation des variables de la France\")\n",
    "\n",
    "plt.subplot(2,2,2)\n",
    "sns.heatmap(df[Germany].corr())\n",
    "plt.title(\"Matrice de corrélation des variables de l'Allemagne\")\n",
    "\n",
    "plt.subplot(2,2,3)\n",
    "sns.heatmap(df[Denmark].corr())\n",
    "plt.title(\"Matrice de corrélation des variables du Danemark\")\n",
    "\n",
    "plt.subplot(2,2,4)\n",
    "sns.heatmap(df[Romania].corr())\n",
    "plt.title(\"Matrice de corrélation des variables de la Roumanie\")\n",
    "\n"
   ]
  },
  {
   "cell_type": "markdown",
   "metadata": {},
   "source": [
    "#### Étude comparatives des variables <a class=\"anchor\" id=\"partie222\"></a>"
   ]
  },
  {
   "cell_type": "markdown",
   "metadata": {},
   "source": [
    "On va faire la moyenne par groupe des différentes variables puis les comparer"
   ]
  },
  {
   "cell_type": "code",
   "execution_count": null,
   "metadata": {},
   "outputs": [],
   "source": [
    "# On passe le PIB en glissement annuel\n",
    "pib_cols = [col for col in df.columns if col.startswith('PIB')]\n",
    "df[pib_cols] = df[pib_cols].pct_change(periods=4) * 100\n"
   ]
  },
  {
   "cell_type": "code",
   "execution_count": null,
   "metadata": {},
   "outputs": [],
   "source": [
    "cols_to_keep = [col for col in df.columns if not col.startswith('CPI_')]\n",
    "groups = [\"developing\", \"small_developed\", \"large_developed\"]\n",
    "variables = [\"inflation\", \"PIB\", \"ST_IR\", \"LT_IR\", \"P_Growth\"]\n",
    "df_grouped = pd.DataFrame(index=df.index)\n",
    "\n",
    "# Création d'un dataframe avec tous les groupes et toutes les variables\n",
    "for var in variables:\n",
    "    for group_name in groups:\n",
    "        relevant_cols = []\n",
    "        for country, grp in group_dict.items():\n",
    "            if grp == group_name:\n",
    "                col_name = f\"{var}_{country}\"\n",
    "                if col_name in df.columns:\n",
    "                    relevant_cols.append(col_name)\n",
    "        if relevant_cols:\n",
    "            df_grouped[f\"{var}_{group_name}\"] = df[relevant_cols].mean(axis=1)\n",
    "\n",
    "# Création d'un df par groupe\n",
    "for group in groups:\n",
    "    cols = [col for col in df_grouped.columns if col.endswith(f\"_{group}\")]\n",
    "    globals()[f\"df_{group}\"] = df_grouped[cols].copy()"
   ]
  },
  {
   "cell_type": "code",
   "execution_count": null,
   "metadata": {},
   "outputs": [],
   "source": [
    "df_developing.describe()"
   ]
  },
  {
   "cell_type": "code",
   "execution_count": null,
   "metadata": {},
   "outputs": [],
   "source": [
    "df_small_developed.describe()"
   ]
  },
  {
   "cell_type": "code",
   "execution_count": null,
   "metadata": {},
   "outputs": [],
   "source": [
    "df_large_developed.describe()"
   ]
  },
  {
   "cell_type": "code",
   "execution_count": null,
   "metadata": {},
   "outputs": [],
   "source": [
    "correlation_matrix = df_grouped.corr()\n",
    "print(correlation_matrix)"
   ]
  },
  {
   "cell_type": "code",
   "execution_count": null,
   "metadata": {},
   "outputs": [],
   "source": [
    "plt.figure(figsize=(12, 10))\n",
    "sns.heatmap(df_grouped.corr(), annot=True, cmap=\"coolwarm\", center=0)\n",
    "plt.title(\"Matrice des corrélations entre variations économiques par groupe\")\n",
    "plt.tight_layout()\n",
    "plt.show()"
   ]
  },
  {
   "cell_type": "code",
   "execution_count": null,
   "metadata": {},
   "outputs": [],
   "source": [
    "# Construction d'un nouveau DataFrame pour les boxplots\n",
    "df_boxplot = df_grouped[[\n",
    "    \"inflation_developing\", \"inflation_small_developed\", \"inflation_large_developed\",\n",
    "    \"PIB_developing\", \"PIB_small_developed\", \"PIB_large_developed\"\n",
    "]]\n",
    "\n",
    "# Melt pour seaborn\n",
    "df_boxplot_melted = df_boxplot.melt(var_name='Variable_Groupe', value_name='Variation (%)')\n",
    "\n",
    "plt.figure(figsize=(14, 6))\n",
    "sns.boxplot(x=\"Variable_Groupe\", y=\"Variation (%)\", data=df_boxplot_melted)\n",
    "plt.xticks(rotation=45)\n",
    "plt.title(\"Dispersion des variations annuelles d'inflation et de PIB par groupe\")\n",
    "plt.tight_layout()\n",
    "plt.show()"
   ]
  },
  {
   "cell_type": "code",
   "execution_count": null,
   "metadata": {},
   "outputs": [],
   "source": [
    "# Reprise du DataFrame initial\n",
    "df_scatter = df_grouped[[\n",
    "    \"inflation_developing\", \"PIB_developing\",\n",
    "    \"inflation_small_developed\", \"PIB_small_developed\",\n",
    "    \"inflation_large_developed\", \"PIB_large_developed\"\n",
    "]].dropna()\n",
    "\n",
    "# Définir un seuil raisonnable (par ex. 99e percentile) pour éliminer les points extrêmes\n",
    "def remove_outliers(df, x_col, y_col, x_thresh=0.99, y_thresh=0.99):\n",
    "    x_limit = df[x_col].quantile(x_thresh)\n",
    "    y_limit = df[y_col].quantile(y_thresh)\n",
    "    x_min = df[x_col].quantile(1 - x_thresh)\n",
    "    y_min = df[y_col].quantile(1 - y_thresh)\n",
    "    return df[(df[x_col] < x_limit) & (df[x_col] > x_min) &\n",
    "              (df[y_col] < y_limit) & (df[y_col] > y_min)]\n",
    "\n",
    "# Appliquer le filtre par groupe\n",
    "df_d = remove_outliers(df_scatter, \"inflation_developing\", \"PIB_developing\")\n",
    "df_s = remove_outliers(df_scatter, \"inflation_small_developed\", \"PIB_small_developed\")\n",
    "df_l = remove_outliers(df_scatter, \"inflation_large_developed\", \"PIB_large_developed\")\n",
    "\n",
    "# Tracé\n",
    "plt.figure(figsize=(10, 7))\n",
    "plt.scatter(df_d[\"inflation_developing\"], df_d[\"PIB_developing\"], label=\"Developing\", alpha=0.7, color=\"red\")\n",
    "plt.scatter(df_s[\"inflation_small_developed\"], df_s[\"PIB_small_developed\"], label=\"Small Developed\", alpha=0.7, color=\"blue\")\n",
    "plt.scatter(df_l[\"inflation_large_developed\"], df_l[\"PIB_large_developed\"], label=\"Large Developed\", alpha=0.7, color=\"green\")\n",
    "\n",
    "plt.axhline(0, color='grey', linestyle='--')\n",
    "plt.axvline(0, color='grey', linestyle='--')\n",
    "plt.xlabel(\"Variation annuelle de l'inflation (%)\")\n",
    "plt.ylabel(\"Variation annuelle du PIB (%)\")\n",
    "plt.title(\"Lien entre variations annuelles de l'inflation et du PIB (hors valeurs extrêmes)\")\n",
    "plt.legend()\n",
    "plt.grid(True)\n",
    "plt.tight_layout()\n",
    "plt.show()\n"
   ]
  },
  {
   "cell_type": "code",
   "execution_count": null,
   "metadata": {},
   "outputs": [],
   "source": [
    "# Sélection des colonnes à tracer\n",
    "columns_to_plot = [\n",
    "    \"inflation_developing\", \"PIB_developing\",\n",
    "    \"inflation_small_developed\", \"PIB_small_developed\",\n",
    "    \"inflation_large_developed\", \"PIB_large_developed\"\n",
    "]\n",
    "\n",
    "# Redéfinition manuelle de la palette personnalisée pour garantir la cohérence groupe-variable\n",
    "custom_colors = {\n",
    "    \"inflation_developing\": \"red\",\n",
    "    \"PIB_developing\": \"darkred\",\n",
    "    \"inflation_small_developed\": \"blue\",\n",
    "    \"PIB_small_developed\": \"navy\",\n",
    "    \"inflation_large_developed\": \"green\",\n",
    "    \"PIB_large_developed\": \"darkgreen\"\n",
    "}\n",
    "\n",
    "# Injection temporaire de la palette dans la fonction via monkey patching simple\n",
    "def tracer_evolution_custom(df, columns=None, xlabel=None, ylabel=None, start_date=None, end_date=None, log=False, base=None, lissage=False):\n",
    "    import numpy as np\n",
    "    import matplotlib.pyplot as plt\n",
    "    from scipy.signal import savgol_filter\n",
    "    import matplotlib.ticker as ticker\n",
    "\n",
    "    if start_date and end_date:\n",
    "        date = (df.index >= start_date) & (df.index <= end_date)\n",
    "        df_filtered = df.loc[date]\n",
    "    elif start_date:\n",
    "        date = (df.index >= start_date)\n",
    "        df_filtered = df.loc[date]\n",
    "    elif end_date:\n",
    "        date = (df.index <= end_date)\n",
    "        df_filtered = df.loc[date]\n",
    "    else:\n",
    "        df_filtered = df\n",
    "\n",
    "    if columns:\n",
    "        df_filtered = df_filtered[columns]\n",
    "    else:\n",
    "        columns = df_filtered.columns\n",
    "\n",
    "    mean_values = df_filtered.mean().sort_values(ascending=False)\n",
    "    sorted_columns = mean_values.index\n",
    "    df_filtered = df_filtered[sorted_columns]\n",
    "\n",
    "    if log:\n",
    "        df_filtered = df_filtered.applymap(lambda x: np.log(x) if x > 0 else np.nan)\n",
    "    \n",
    "    if base:\n",
    "        df_filtered = df_filtered / df.loc[base] - 1\n",
    "\n",
    "    if lissage:\n",
    "        for col in df_filtered.columns:\n",
    "            df_filtered[col] = savgol_filter(df_filtered[col], window_length=10, polyorder=3)\n",
    "\n",
    "    plt.figure(figsize=(14, 6))\n",
    "\n",
    "    for col in df_filtered.columns:\n",
    "        plt.plot(df_filtered.index, df_filtered[col],\n",
    "                 label=col,\n",
    "                 color=custom_colors.get(col, None))\n",
    "\n",
    "    if xlabel:\n",
    "        plt.xlabel(xlabel)\n",
    "    if ylabel:\n",
    "        plt.ylabel(ylabel)\n",
    "\n",
    "    num_ticks = 8\n",
    "    indices = np.linspace(0, len(df_filtered.index) - 1, num_ticks, dtype=int)\n",
    "    plt.xticks(df_filtered.index[indices], rotation=45)\n",
    "\n",
    "    plt.legend(loc=\"upper left\", bbox_to_anchor=(1, 1), ncol=2)\n",
    "    plt.grid(True)\n",
    "    plt.gca().yaxis.set_major_formatter(ticker.StrMethodFormatter(\"{x:,.0f}\"))\n",
    "    plt.tight_layout()\n",
    "    plt.title(\"Variations annuelles de l'inflation et du PIB par groupe\")\n",
    "    plt.show()\n",
    "\n",
    "# Appel de la fonction avec df_grouped\n",
    "tracer_evolution_custom(\n",
    "    df_grouped,\n",
    "    columns=columns_to_plot,\n",
    "    xlabel=\"Date\",\n",
    "    ylabel=\"Variation annuelle (%)\", \n",
    "    start_date = \"2018-Q1\"\n",
    ")\n"
   ]
  },
  {
   "cell_type": "markdown",
   "metadata": {},
   "source": [
    "### Une première analyse exploratoire des séries temporelles <a class=\"anchor\" id=\"partie24\"></a>"
   ]
  },
  {
   "cell_type": "markdown",
   "metadata": {},
   "source": [
    "On fait ici une analyse automatique de la stationnarité en utilisant l'ADF (Augmented Dickey-Fuller Test)"
   ]
  },
  {
   "cell_type": "code",
   "execution_count": 24,
   "metadata": {},
   "outputs": [
    {
     "name": "stderr",
     "output_type": "stream",
     "text": [
      "/tmp/ipykernel_3350/2946139260.py:5: FutureWarning: The default fill_method='pad' in DataFrame.pct_change is deprecated and will be removed in a future version. Either fill in any non-leading NA values prior to calling pct_change or specify 'fill_method=None' to not fill NA values.\n",
      "  df_filtered[pib_cols] = df_filtered[pib_cols].pct_change(periods=4) * 100\n",
      "/tmp/ipykernel_3350/2946139260.py:5: SettingWithCopyWarning: \n",
      "A value is trying to be set on a copy of a slice from a DataFrame.\n",
      "Try using .loc[row_indexer,col_indexer] = value instead\n",
      "\n",
      "See the caveats in the documentation: https://pandas.pydata.org/pandas-docs/stable/user_guide/indexing.html#returning-a-view-versus-a-copy\n",
      "  df_filtered[pib_cols] = df_filtered[pib_cols].pct_change(periods=4) * 100\n",
      "/tmp/ipykernel_3350/2946139260.py:6: SettingWithCopyWarning: \n",
      "A value is trying to be set on a copy of a slice from a DataFrame\n",
      "\n",
      "See the caveats in the documentation: https://pandas.pydata.org/pandas-docs/stable/user_guide/indexing.html#returning-a-view-versus-a-copy\n",
      "  df_filtered.rename(columns={'inflation_United': 'inflation_United_Kingdom'}, inplace=True)\n"
     ]
    }
   ],
   "source": [
    "df_filtered = df.loc[:, ~df.columns.str.contains(\"CPI\")]  # Supprimer CPI\n",
    "\n",
    "# PIB en glissement annuel \n",
    "pib_cols = [col for col in df_filtered.columns if col.startswith('PIB')]\n",
    "df_filtered[pib_cols] = df_filtered[pib_cols].pct_change(periods=4) * 100\n",
    "df_filtered.rename(columns={'inflation_United': 'inflation_United_Kingdom'}, inplace=True)\n",
    "\n",
    "\n",
    "\n",
    "variables = ['PIB', 'inflation', 'ST_IR', 'LT_IR', 'WH', 'P_Growth']\n",
    "selected_cols = [col for col in df_filtered.columns if any(col.startswith(var) for var in variables)]\n",
    "pays = set()\n",
    "for col in selected_cols:\n",
    "    for var in variables:\n",
    "        pattern = f\"^{var}_(.+)$\"\n",
    "        match = re.match(pattern, col)\n",
    "        if match:\n",
    "            pays.add(match.group(1))\n",
    "            break\n",
    "\n",
    "pays = sorted(pays)\n",
    "\n",
    "# --- 5. Initialiser le résultat stationnarité ---\n",
    "stationarity_df = pd.DataFrame(index=pays, columns=variables)\n",
    "\n",
    "# --- 6. Tester la stationnarité ADF pour chaque variable par pays ---\n",
    "for country in stationarity_df.index:\n",
    "    for var in variables:\n",
    "        col_name = f\"{var}_{country}\"\n",
    "        if col_name in df_filtered.columns:\n",
    "            serie = df_filtered[col_name].dropna()\n",
    "            if len(serie) > 20:  # nombre minimal d'observations\n",
    "                result = adfuller(serie, regression='c', autolag='AIC')\n",
    "                pval = result[1]\n",
    "                stationarity_df.loc[country, var] = int(pval < 0.1)\n",
    "            else:\n",
    "                stationarity_df.loc[country, var] = '?'\n",
    "        else:\n",
    "            stationarity_df.loc[country, var] = '?'"
   ]
  },
  {
   "cell_type": "code",
   "execution_count": 25,
   "metadata": {},
   "outputs": [
    {
     "data": {
      "text/html": [
       "<div>\n",
       "<style scoped>\n",
       "    .dataframe tbody tr th:only-of-type {\n",
       "        vertical-align: middle;\n",
       "    }\n",
       "\n",
       "    .dataframe tbody tr th {\n",
       "        vertical-align: top;\n",
       "    }\n",
       "\n",
       "    .dataframe thead th {\n",
       "        text-align: right;\n",
       "    }\n",
       "</style>\n",
       "<table border=\"1\" class=\"dataframe\">\n",
       "  <thead>\n",
       "    <tr style=\"text-align: right;\">\n",
       "      <th></th>\n",
       "      <th>PIB</th>\n",
       "      <th>inflation</th>\n",
       "      <th>ST_IR</th>\n",
       "      <th>LT_IR</th>\n",
       "      <th>WH</th>\n",
       "      <th>P_Growth</th>\n",
       "    </tr>\n",
       "  </thead>\n",
       "  <tbody>\n",
       "    <tr>\n",
       "      <th>Austria</th>\n",
       "      <td>1</td>\n",
       "      <td>0</td>\n",
       "      <td>0</td>\n",
       "      <td>0</td>\n",
       "      <td>0</td>\n",
       "      <td>0</td>\n",
       "    </tr>\n",
       "    <tr>\n",
       "      <th>Belgium</th>\n",
       "      <td>1</td>\n",
       "      <td>0</td>\n",
       "      <td>1</td>\n",
       "      <td>0</td>\n",
       "      <td>0</td>\n",
       "      <td>0</td>\n",
       "    </tr>\n",
       "    <tr>\n",
       "      <th>Bulgaria</th>\n",
       "      <td>1</td>\n",
       "      <td>1</td>\n",
       "      <td>0</td>\n",
       "      <td>0</td>\n",
       "      <td>0</td>\n",
       "      <td>0</td>\n",
       "    </tr>\n",
       "    <tr>\n",
       "      <th>Czechia</th>\n",
       "      <td>1</td>\n",
       "      <td>1</td>\n",
       "      <td>0</td>\n",
       "      <td>1</td>\n",
       "      <td>0</td>\n",
       "      <td>0</td>\n",
       "    </tr>\n",
       "    <tr>\n",
       "      <th>Denmark</th>\n",
       "      <td>1</td>\n",
       "      <td>0</td>\n",
       "      <td>1</td>\n",
       "      <td>0</td>\n",
       "      <td>0</td>\n",
       "      <td>0</td>\n",
       "    </tr>\n",
       "    <tr>\n",
       "      <th>Estonia</th>\n",
       "      <td>1</td>\n",
       "      <td>0</td>\n",
       "      <td>1</td>\n",
       "      <td>?</td>\n",
       "      <td>0</td>\n",
       "      <td>0</td>\n",
       "    </tr>\n",
       "    <tr>\n",
       "      <th>Finland</th>\n",
       "      <td>1</td>\n",
       "      <td>1</td>\n",
       "      <td>1</td>\n",
       "      <td>0</td>\n",
       "      <td>0</td>\n",
       "      <td>0</td>\n",
       "    </tr>\n",
       "    <tr>\n",
       "      <th>France</th>\n",
       "      <td>1</td>\n",
       "      <td>1</td>\n",
       "      <td>1</td>\n",
       "      <td>0</td>\n",
       "      <td>1</td>\n",
       "      <td>0</td>\n",
       "    </tr>\n",
       "    <tr>\n",
       "      <th>Germany</th>\n",
       "      <td>1</td>\n",
       "      <td>0</td>\n",
       "      <td>0</td>\n",
       "      <td>0</td>\n",
       "      <td>0</td>\n",
       "      <td>0</td>\n",
       "    </tr>\n",
       "    <tr>\n",
       "      <th>Greece</th>\n",
       "      <td>0</td>\n",
       "      <td>0</td>\n",
       "      <td>0</td>\n",
       "      <td>1</td>\n",
       "      <td>0</td>\n",
       "      <td>0</td>\n",
       "    </tr>\n",
       "    <tr>\n",
       "      <th>Hungary</th>\n",
       "      <td>0</td>\n",
       "      <td>0</td>\n",
       "      <td>1</td>\n",
       "      <td>0</td>\n",
       "      <td>0</td>\n",
       "      <td>0</td>\n",
       "    </tr>\n",
       "    <tr>\n",
       "      <th>Iceland</th>\n",
       "      <td>1</td>\n",
       "      <td>0</td>\n",
       "      <td>1</td>\n",
       "      <td>0</td>\n",
       "      <td>0</td>\n",
       "      <td>0</td>\n",
       "    </tr>\n",
       "    <tr>\n",
       "      <th>Ireland</th>\n",
       "      <td>1</td>\n",
       "      <td>0</td>\n",
       "      <td>1</td>\n",
       "      <td>0</td>\n",
       "      <td>0</td>\n",
       "      <td>0</td>\n",
       "    </tr>\n",
       "    <tr>\n",
       "      <th>Italy</th>\n",
       "      <td>1</td>\n",
       "      <td>0</td>\n",
       "      <td>1</td>\n",
       "      <td>1</td>\n",
       "      <td>0</td>\n",
       "      <td>0</td>\n",
       "    </tr>\n",
       "    <tr>\n",
       "      <th>Latvia</th>\n",
       "      <td>1</td>\n",
       "      <td>0</td>\n",
       "      <td>0</td>\n",
       "      <td>0</td>\n",
       "      <td>0</td>\n",
       "      <td>0</td>\n",
       "    </tr>\n",
       "    <tr>\n",
       "      <th>Lithuania</th>\n",
       "      <td>1</td>\n",
       "      <td>1</td>\n",
       "      <td>0</td>\n",
       "      <td>0</td>\n",
       "      <td>1</td>\n",
       "      <td>0</td>\n",
       "    </tr>\n",
       "    <tr>\n",
       "      <th>Luxembourg</th>\n",
       "      <td>1</td>\n",
       "      <td>1</td>\n",
       "      <td>0</td>\n",
       "      <td>0</td>\n",
       "      <td>0</td>\n",
       "      <td>0</td>\n",
       "    </tr>\n",
       "    <tr>\n",
       "      <th>Netherlands</th>\n",
       "      <td>0</td>\n",
       "      <td>0</td>\n",
       "      <td>0</td>\n",
       "      <td>0</td>\n",
       "      <td>0</td>\n",
       "      <td>0</td>\n",
       "    </tr>\n",
       "    <tr>\n",
       "      <th>Norway</th>\n",
       "      <td>1</td>\n",
       "      <td>1</td>\n",
       "      <td>0</td>\n",
       "      <td>0</td>\n",
       "      <td>0</td>\n",
       "      <td>0</td>\n",
       "    </tr>\n",
       "    <tr>\n",
       "      <th>Poland</th>\n",
       "      <td>1</td>\n",
       "      <td>0</td>\n",
       "      <td>1</td>\n",
       "      <td>0</td>\n",
       "      <td>0</td>\n",
       "      <td>0</td>\n",
       "    </tr>\n",
       "    <tr>\n",
       "      <th>Portugal</th>\n",
       "      <td>1</td>\n",
       "      <td>1</td>\n",
       "      <td>1</td>\n",
       "      <td>1</td>\n",
       "      <td>0</td>\n",
       "      <td>0</td>\n",
       "    </tr>\n",
       "    <tr>\n",
       "      <th>Romania</th>\n",
       "      <td>1</td>\n",
       "      <td>1</td>\n",
       "      <td>1</td>\n",
       "      <td>0</td>\n",
       "      <td>0</td>\n",
       "      <td>0</td>\n",
       "    </tr>\n",
       "    <tr>\n",
       "      <th>Slovakia</th>\n",
       "      <td>1</td>\n",
       "      <td>0</td>\n",
       "      <td>0</td>\n",
       "      <td>0</td>\n",
       "      <td>0</td>\n",
       "      <td>0</td>\n",
       "    </tr>\n",
       "    <tr>\n",
       "      <th>Slovenia</th>\n",
       "      <td>1</td>\n",
       "      <td>0</td>\n",
       "      <td>1</td>\n",
       "      <td>0</td>\n",
       "      <td>0</td>\n",
       "      <td>0</td>\n",
       "    </tr>\n",
       "    <tr>\n",
       "      <th>Spain</th>\n",
       "      <td>1</td>\n",
       "      <td>0</td>\n",
       "      <td>1</td>\n",
       "      <td>1</td>\n",
       "      <td>0</td>\n",
       "      <td>0</td>\n",
       "    </tr>\n",
       "    <tr>\n",
       "      <th>Sweden</th>\n",
       "      <td>1</td>\n",
       "      <td>0</td>\n",
       "      <td>1</td>\n",
       "      <td>1</td>\n",
       "      <td>0</td>\n",
       "      <td>0</td>\n",
       "    </tr>\n",
       "    <tr>\n",
       "      <th>Switzerland</th>\n",
       "      <td>1</td>\n",
       "      <td>0</td>\n",
       "      <td>1</td>\n",
       "      <td>0</td>\n",
       "      <td>0</td>\n",
       "      <td>0</td>\n",
       "    </tr>\n",
       "    <tr>\n",
       "      <th>United_Kingdom</th>\n",
       "      <td>0</td>\n",
       "      <td>0</td>\n",
       "      <td>0</td>\n",
       "      <td>0</td>\n",
       "      <td>0</td>\n",
       "      <td>0</td>\n",
       "    </tr>\n",
       "  </tbody>\n",
       "</table>\n",
       "</div>"
      ],
      "text/plain": [
       "               PIB inflation ST_IR LT_IR WH P_Growth\n",
       "Austria          1         0     0     0  0        0\n",
       "Belgium          1         0     1     0  0        0\n",
       "Bulgaria         1         1     0     0  0        0\n",
       "Czechia          1         1     0     1  0        0\n",
       "Denmark          1         0     1     0  0        0\n",
       "Estonia          1         0     1     ?  0        0\n",
       "Finland          1         1     1     0  0        0\n",
       "France           1         1     1     0  1        0\n",
       "Germany          1         0     0     0  0        0\n",
       "Greece           0         0     0     1  0        0\n",
       "Hungary          0         0     1     0  0        0\n",
       "Iceland          1         0     1     0  0        0\n",
       "Ireland          1         0     1     0  0        0\n",
       "Italy            1         0     1     1  0        0\n",
       "Latvia           1         0     0     0  0        0\n",
       "Lithuania        1         1     0     0  1        0\n",
       "Luxembourg       1         1     0     0  0        0\n",
       "Netherlands      0         0     0     0  0        0\n",
       "Norway           1         1     0     0  0        0\n",
       "Poland           1         0     1     0  0        0\n",
       "Portugal         1         1     1     1  0        0\n",
       "Romania          1         1     1     0  0        0\n",
       "Slovakia         1         0     0     0  0        0\n",
       "Slovenia         1         0     1     0  0        0\n",
       "Spain            1         0     1     1  0        0\n",
       "Sweden           1         0     1     1  0        0\n",
       "Switzerland      1         0     1     0  0        0\n",
       "United_Kingdom   0         0     0     0  0        0"
      ]
     },
     "execution_count": 25,
     "metadata": {},
     "output_type": "execute_result"
    }
   ],
   "source": [
    "stationarity_df"
   ]
  },
  {
   "cell_type": "markdown",
   "metadata": {},
   "source": [
    "Pour chaque variable, nous allons déterminer  le tendances et les saisonalités des séries temporelles. Compte tenu du nombre de pays dans notre échantillon, nous allons tout d'abord faire cette analyse pour la France et pour les principaux pays d'Europe. "
   ]
  },
  {
   "cell_type": "markdown",
   "metadata": {},
   "source": [
    "#### Données du PIB <a class=\"anchor\" id=\"partie241\"></a>"
   ]
  },
  {
   "cell_type": "code",
   "execution_count": null,
   "metadata": {},
   "outputs": [],
   "source": [
    "#Fonction qui effectue la représentation de l'évolution du PIB d'un seul pays. \n",
    "\n",
    "def graphe_PIB(pays): \n",
    "    plt.figure(figsize=(14, 6))  # Taille du graphique\n",
    "\n",
    "    plt.plot(df_TS.index, df_TS[f'PIB_{pays}'], marker='o', linestyle='-')\n",
    "\n",
    "    plt.xlabel(\"Période\")\n",
    "    plt.ylabel(\"PIB en millions\")\n",
    "    plt.title(f\"Évolution du PIB - {pays} (1995-2024)\")\n",
    "\n",
    "    #   Sélectionner un sous-ensemble des labels de l'axe X pour éviter la surcharge\n",
    "    num_ticks = 8  # Nombre de labels affichés sur l'axe X\n",
    "    indices = np.linspace(0, len(df_TS.index) - 1, num_ticks, dtype=int)  # Espacement des indices\n",
    "    plt.xticks(df_TS.index[indices],df_TS.index[indices].to_period('Q').strftime('%Y-Q%q'),rotation=45)  # Appliquer les labels espacés\n",
    "\n",
    "    plt.grid(True)\n",
    "    return(plt.show())\n"
   ]
  },
  {
   "cell_type": "code",
   "execution_count": null,
   "metadata": {},
   "outputs": [],
   "source": [
    "#Représentation graphique de plusieurs pays\n",
    "selected_countries = ['Austria', 'France', 'United_Kingdom','Spain', 'Italy', 'Netherlands', 'Switzerland'] #Ici pon peut choisir les pays que l'on veut\n",
    "df_selected = df.loc[:,[f'PIB_{pays}' for pays in selected_countries]]\n",
    "\n",
    "colors = plt.cm.get_cmap(\"tab10\", len(df_selected.columns))  # Utilisation d'une palette de couleurs\n",
    "plt.figure(figsize=(14, 6))\n",
    "\n",
    "for i, country in enumerate(df_selected.columns): #enumerate permet de sélectionner l'élément et son indice\n",
    "    plt.plot(df_selected.index, df_selected[country], label=country, color=colors(i))\n",
    "\n",
    "# Personnalisation du graphique\n",
    "plt.xlabel(\"Période\")\n",
    "plt.ylabel(\"PIB en Millions\")\n",
    "plt.title(\"Principaux PIB trimestriels en Europe \")\n",
    "\n",
    "# Indicage\n",
    "num_ticks = 8 \n",
    "indices = np.linspace(0, len(df_selected.index) - 1, num_ticks, dtype=int)  \n",
    "plt.xticks(df_selected.index[indices], rotation=45) \n",
    "\n",
    "# Affichage \n",
    "plt.legend(loc=\"upper left\", bbox_to_anchor=(1, 1), ncol=2)  # Légende en dehors du graphique\n",
    "plt.grid(True)\n",
    "plt.gca().yaxis.set_major_formatter(ticker.StrMethodFormatter(\"{x:,.0f}\")) #permet de ne pas avoir d'écriture scientifique\n",
    "plt.show()"
   ]
  },
  {
   "cell_type": "code",
   "execution_count": null,
   "metadata": {},
   "outputs": [],
   "source": [
    "#Représentation de la saisonalité\n",
    "plt.figure()\n",
    "tsaplots.quarter_plot(df_TS['PIB_France'].resample('Q').mean())\n",
    "plt.show()"
   ]
  },
  {
   "cell_type": "markdown",
   "metadata": {},
   "source": [
    "A première vue, il semblerait qu'il n'y ait pas de saisonalité pour le PIB"
   ]
  },
  {
   "cell_type": "markdown",
   "metadata": {},
   "source": [
    "Ce qui suit est un brouillon qui nous sera utile lorsque nous aurons déterminé la stationnarité de la série temporelle"
   ]
  },
  {
   "cell_type": "code",
   "execution_count": null,
   "metadata": {},
   "outputs": [],
   "source": [
    "#Autocorrélation (ACF)\n",
    "plt.figure(figsize=(14,6))\n",
    "tsaplots.plot_acf(df_TS['PIB_France'], lags=30)\n",
    "plt.title(\"Fonction d'autocorrélation du PIB de la France\")\n",
    "plt.show()\n",
    "\n",
    "#Remarque: on n'a pas encore vérifié que la série est stationnaire, donc l'intévalle de confiance peut-être biaisé\n"
   ]
  },
  {
   "cell_type": "code",
   "execution_count": null,
   "metadata": {},
   "outputs": [],
   "source": [
    "#Autocorrélation partielle (PACF)\n",
    "plt.figure(figsize=(14,6))\n",
    "tsaplots.plot_pacf(df_TS['PIB_France'], lags=30)\n",
    "plt.title(\"Fonction d'autocorrélation partielle du PIB de la France\")\n",
    "plt.show()"
   ]
  },
  {
   "cell_type": "markdown",
   "metadata": {},
   "source": [
    "#### Données des Working Hours <a class=\"anchor\" id=\"partie242\"></a>"
   ]
  },
  {
   "cell_type": "code",
   "execution_count": null,
   "metadata": {},
   "outputs": [],
   "source": [
    "#Représentation graphique\n",
    "plt.figure(figsize=(14, 6))  # Taille du graphique\n",
    "\n",
    "plt.plot(df_TS.index, df_TS['WH_France'], marker='o', linestyle='-')\n",
    "\n",
    "plt.xlabel(\"Période\")\n",
    "plt.ylabel(\"Nombre d'heures travaillées par semaine\")\n",
    "plt.title(\"Évolution du nombre d'heures travaillées en France(1995-2024)\")\n",
    "\n",
    "# Sélectionner un sous-ensemble des labels de l'axe X pour éviter la surcharge\n",
    "num_ticks = 8  # Nombre de labels affichés sur l'axe X\n",
    "indices = np.linspace(0, len(df_TS.index) - 1, num_ticks, dtype=int)  # Espacement des indices\n",
    "plt.xticks(df_TS.index[indices],df_TS.index[indices].to_period('Q').strftime('%Y-Q%q'),rotation=45)  # Appliquer les labels espacés\n",
    "\n",
    "plt.grid(True)\n",
    "plt.show()"
   ]
  },
  {
   "cell_type": "markdown",
   "metadata": {},
   "source": [
    "La tendance décroissance du nombre d'heures travaillées en France peut s'expliquer par\n",
    "- l'interpolation faite entre 1995-2002 (données annuelles disponibles uniquement)\n",
    "- la mise en place des lois (nombre d'heures qui passe de 39 à 35)"
   ]
  },
  {
   "cell_type": "markdown",
   "metadata": {},
   "source": [
    "#### Données des taux d'intérêt à long terme <a class=\"anchor\" id=\"partie243\"></a>"
   ]
  },
  {
   "cell_type": "code",
   "execution_count": null,
   "metadata": {},
   "outputs": [],
   "source": [
    "#Représentation graphique\n",
    "plt.figure(figsize=(14, 6))  # Taille du graphique\n",
    "\n",
    "plt.plot(df_TS.index, df_TS['LT_IR_France'], marker='o', linestyle='-')\n",
    "\n",
    "plt.xlabel(\"Période\")\n",
    "plt.ylabel(\"Taux d'intérêt (Long Terme) de la France\")\n",
    "plt.title(\"Évolution du taux d'intérêt (long terme) de la France (1995-2024)\")\n",
    "\n",
    "# Sélectionner un sous-ensemble des labels de l'axe X pour éviter la surcharge\n",
    "num_ticks = 8  # Nombre de labels affichés sur l'axe X\n",
    "indices = np.linspace(0, len(df_TS.index) - 1, num_ticks, dtype=int)  # Espacement des indices\n",
    "plt.xticks(df_TS.index[indices],df_TS.index[indices].to_period('Q').strftime('%Y-Q%q'),rotation=45)  # Appliquer les labels espacés\n",
    "\n",
    "plt.grid(True)\n",
    "plt.show()"
   ]
  },
  {
   "cell_type": "code",
   "execution_count": null,
   "metadata": {},
   "outputs": [],
   "source": [
    "#Représentation de la saisonalité\n",
    "plt.figure()\n",
    "tsaplots.quarter_plot(df_TS['LT_IR_France'].resample('Q').mean())\n",
    "plt.show()"
   ]
  },
  {
   "cell_type": "markdown",
   "metadata": {},
   "source": [
    "#### Données des taux d'intérêt à court terme <a class=\"anchor\" id=\"partie244\"></a>"
   ]
  },
  {
   "cell_type": "code",
   "execution_count": null,
   "metadata": {},
   "outputs": [],
   "source": [
    "#Représentation graphique\n",
    "plt.figure(figsize=(14, 6))  # Taille du graphique\n",
    "\n",
    "plt.plot(df_TS.index, df_TS['ST_IR_France'], marker='o', linestyle='-')\n",
    "\n",
    "plt.xlabel(\"Période\")\n",
    "plt.ylabel(\"Taux d'intérêt (court terme)\")\n",
    "plt.title(\"Évolution du taux d'intérêt (court terme) de la France (1995-2024)\")\n",
    "\n",
    "# Sélectionner un sous-ensemble des labels de l'axe X pour éviter la surcharge\n",
    "num_ticks = 8  # Nombre de labels affichés sur l'axe X\n",
    "indices = np.linspace(0, len(df_TS.index) - 1, num_ticks, dtype=int)  # Espacement des indices\n",
    "plt.xticks(df_TS.index[indices],df_TS.index[indices].to_period('Q').strftime('%Y-Q%q'),rotation=45)  # Appliquer les labels espacés\n",
    "\n",
    "plt.grid(True)\n",
    "plt.show()"
   ]
  },
  {
   "cell_type": "code",
   "execution_count": null,
   "metadata": {},
   "outputs": [],
   "source": [
    "#Représentation de la saisonalité\n",
    "plt.figure()\n",
    "tsaplots.quarter_plot(df_TS['ST_IR_France'].resample('Q').mean())\n",
    "plt.show()"
   ]
  },
  {
   "cell_type": "markdown",
   "metadata": {},
   "source": [
    "#### Données du CPI <a class=\"anchor\" id=\"partie245\"></a>"
   ]
  },
  {
   "cell_type": "code",
   "execution_count": null,
   "metadata": {},
   "outputs": [],
   "source": [
    "#Représentation graphique\n",
    "plt.figure(figsize=(14, 6))  # Taille du graphique\n",
    "\n",
    "plt.plot(df_TS.index, df_TS['PIB_France'], marker='o', linestyle='-')\n",
    "\n",
    "plt.xlabel(\"Période\")\n",
    "plt.ylabel(\"CPI\")\n",
    "plt.title(\"Évolution du du CPI de la France (1995-2024)\")\n",
    "\n",
    "# Sélectionner un sous-ensemble des labels de l'axe X pour éviter la surcharge\n",
    "num_ticks = 8  # Nombre de labels affichés sur l'axe X\n",
    "indices = np.linspace(0, len(df_TS.index) - 1, num_ticks, dtype=int)  # Espacement des indices\n",
    "plt.xticks(df_TS.index[indices],df_TS.index[indices].to_period('Q').strftime('%Y-Q%q'),rotation=45)  # Appliquer les labels espacés\n",
    "\n",
    "plt.grid(True)\n",
    "plt.show()"
   ]
  },
  {
   "cell_type": "code",
   "execution_count": null,
   "metadata": {},
   "outputs": [],
   "source": [
    "#Représentation de la saisonalité\n",
    "plt.figure()\n",
    "tsaplots.quarter_plot(df_TS['PIB_France'].resample('Q').mean())\n",
    "plt.show()"
   ]
  },
  {
   "cell_type": "markdown",
   "metadata": {},
   "source": [
    "#### Données de la croissance potentielle <a class=\"anchor\" id=\"partie246\"></a>"
   ]
  },
  {
   "cell_type": "code",
   "execution_count": null,
   "metadata": {},
   "outputs": [],
   "source": [
    "#Représentation graphique\n",
    "plt.figure(figsize=(14, 6))  # Taille du graphique\n",
    "\n",
    "plt.plot(df_TS.index, df_TS['P_Growth_France'], marker='o', linestyle='-')\n",
    "\n",
    "plt.xlabel(\"Période\")\n",
    "plt.ylabel(\"Croissance potentielle\")\n",
    "plt.title(\"Évolution de la croissance potentielle de la France (1995-2021)\")\n",
    "\n",
    "# Sélectionner un sous-ensemble des labels de l'axe X pour éviter la surcharge\n",
    "num_ticks = 8  # Nombre de labels affichés sur l'axe X\n",
    "indices = np.linspace(0, len(df_TS.index) - 1, num_ticks, dtype=int)  # Espacement des indices\n",
    "plt.xticks(df_TS.index[indices],df_TS.index[indices].to_period('Q').strftime('%Y-Q%q'),rotation=45)  # Appliquer les labels espacés\n",
    "\n",
    "plt.grid(True)\n",
    "plt.show()"
   ]
  },
  {
   "cell_type": "markdown",
   "metadata": {},
   "source": [
    "## Visualisation <a class=\"anchor\" id=\"partie3\"></a>"
   ]
  },
  {
   "cell_type": "markdown",
   "metadata": {},
   "source": [
    "### Données de PIB <a class=\"anchor\" id=\"partie31\"></a>"
   ]
  },
  {
   "cell_type": "markdown",
   "metadata": {},
   "source": [
    "Pour notre rendu de mi-parcours nous avons présenté les évolutions des PIB en France et dans les principaux pays d'Europe. Nous faisons d'abord celui de la France."
   ]
  },
  {
   "cell_type": "code",
   "execution_count": null,
   "metadata": {},
   "outputs": [],
   "source": [
    "plt.figure(figsize=(14, 6))  # Taille du graphique\n",
    "\n",
    "plt.plot(df.index, df['PIB_France'], marker='o', linestyle='-')\n",
    "\n",
    "plt.xlabel(\"Période\")\n",
    "plt.ylabel(\"PIB de la France\")\n",
    "plt.title(\"Évolution du PIB de la France (1995-2024)\")\n",
    "\n",
    "# Sélectionner un sous-ensemble des labels de l'axe X pour éviter la surcharge\n",
    "num_ticks = 8  # Nombre de labels affichés sur l'axe X\n",
    "indices = np.linspace(0, len(df.index) - 1, num_ticks, dtype=int)  # Espacement des indices\n",
    "plt.xticks(df.index[indices],rotation=45)  # Appliquer les labels espacés\n",
    "\n",
    "plt.grid(True)\n",
    "plt.show()"
   ]
  },
  {
   "cell_type": "markdown",
   "metadata": {},
   "source": [
    "Et ensuite pour l'Europe"
   ]
  },
  {
   "cell_type": "code",
   "execution_count": null,
   "metadata": {},
   "outputs": [],
   "source": [
    "selected_countries = ['PIB_Germany', 'PIB_France', 'PIB_United_Kingdom','PIB_Spain', 'PIB_Italy', 'PIB_Netherlands', 'PIB_Switzerland']\n",
    "\n",
    "df_selected = df[selected_countries]\n",
    "\n",
    "colors = plt.cm.get_cmap(\"tab10\", len(df_selected.columns))  # Utilisation d'une palette de couleurs\n",
    "plt.figure(figsize=(14, 6))\n",
    "\n",
    "for i, country in enumerate(df_selected.columns): #enumerate permet de sélectionner l'élément et son indice\n",
    "    plt.plot(df_selected.index, df_selected[country], label=country, color=colors(i))\n",
    "\n",
    "# Personnalisation du graphique\n",
    "plt.xlabel(\"Période\")\n",
    "plt.ylabel(\"PIB en Millions\")\n",
    "plt.title(\"Principaux PIB trimestriels en Europe \")\n",
    "\n",
    "# Indicage\n",
    "num_ticks = 8 \n",
    "indices = np.linspace(0, len(df_selected.index) - 1, num_ticks, dtype=int)  \n",
    "plt.xticks(df_selected.index[indices], rotation=45) \n",
    "\n",
    "# Affichage \n",
    "plt.legend(loc=\"upper left\", bbox_to_anchor=(1, 1), ncol=2)  # Légende en dehors du graphique\n",
    "plt.grid(True)\n",
    "plt.gca().yaxis.set_major_formatter(ticker.StrMethodFormatter(\"{x:,.0f}\")) #permet de ne pas avoir d'écriture scientifique\n",
    "plt.show()\n"
   ]
  },
  {
   "cell_type": "markdown",
   "metadata": {},
   "source": [
    "### Données d'heures travaillées <a class=\"anchor\" id=\"partie32\"></a>"
   ]
  },
  {
   "cell_type": "markdown",
   "metadata": {},
   "source": [
    "Voici l'évolution des heures travaillées en France."
   ]
  },
  {
   "cell_type": "code",
   "execution_count": null,
   "metadata": {},
   "outputs": [],
   "source": [
    "plt.figure(figsize=(14, 6))  # Taille du graphique\n",
    "\n",
    "plt.plot(df.index, df['WH_France'], marker='o', linestyle='-')\n",
    "\n",
    "plt.xlabel(\"Période\")\n",
    "plt.ylabel(\"Heures travaillées en France\")\n",
    "plt.title(\"Évolution des heures travaillées en France (1995-2024)\")\n",
    "\n",
    "# Sélectionner un sous-ensemble des labels de l'axe X pour éviter la surcharge\n",
    "num_ticks = 10 \n",
    "indices = np.linspace(0, len(df.index) - 1, num_ticks, dtype=int)\n",
    "plt.xticks(df.index[indices], rotation=45)\n",
    "plt.grid(True)\n",
    "plt.show()"
   ]
  }
 ],
 "metadata": {
  "kernelspec": {
   "display_name": "Python 3",
   "language": "python",
   "name": "python3"
  },
  "language_info": {
   "codemirror_mode": {
    "name": "ipython",
    "version": 3
   },
   "file_extension": ".py",
   "mimetype": "text/x-python",
   "name": "python",
   "nbconvert_exporter": "python",
   "pygments_lexer": "ipython3",
   "version": "3.12.9"
  }
 },
 "nbformat": 4,
 "nbformat_minor": 2
}
