{
 "cells": [
  {
   "cell_type": "markdown",
   "metadata": {},
   "source": [
    "# **Visualisation et statistiques descriptives**\n",
    "---"
   ]
  },
  {
   "cell_type": "markdown",
   "metadata": {},
   "source": [
    "## Introduction<a class=\"anchor\" id=\"partie1\"></a>"
   ]
  },
  {
   "cell_type": "markdown",
   "metadata": {},
   "source": [
    "Ce notebook contient les codes nécessaires à la visualisation et les statistiques descriptives de notre base de données."
   ]
  },
  {
   "cell_type": "markdown",
   "metadata": {},
   "source": [
    "## Sommaire\n",
    "\n",
    "* [Introduction](#partie1)\n",
    "* [Statistiques descriptives](#partie2)\n",
    "    * [Visualisation et nettoyage des données manquantes](#partie21)\n",
    "    * [Statistiques descriptives intra-pays](#partie22)\n",
    "        * [Résumé statistique des variables](#partie221)\n",
    "        * [Étude des corrélations](#partie222)\n",
    "    * [Statistiques descriptives inter-pays](#partie23)\n",
    "    * [Une première analyse exploratoire des séries temporelles](#partie24)\n",
    "        * [Données du PIB](#partie241)\n",
    "        * [Données des Working Hours](#partie242)\n",
    "        * [Données des taux d'intérêt à long terme](#partie243)\n",
    "        * [Données des taux d'intérêt à court terme](#partie244)\n",
    "        * [Données du CPI](#partie235)\n",
    "        * [Données de la croissance potentielle](#partie246)\n",
    "* [Visualisation](#partie3)\n",
    "    * [Données de PIB](#partie31)\n",
    "    * [Données d'heures de travail](#partie32)\n"
   ]
  },
  {
   "cell_type": "code",
   "execution_count": null,
   "metadata": {},
   "outputs": [],
   "source": [
    "!pip install -r requirements.txt"
   ]
  },
  {
   "cell_type": "code",
   "execution_count": null,
   "metadata": {},
   "outputs": [],
   "source": [
    "import numpy as np \n",
    "import pandas as pd\n",
    "import matplotlib.pyplot as plt\n",
    "import matplotlib.ticker as ticker\n",
    "import seaborn as sns\n",
    "import statsmodels.api as sm\n",
    "import statsmodels.tsa.api as tsa\n",
    "import statsmodels.graphics.tsaplots as tsaplots\n",
    "from scipy.signal import savgol_filter\n",
    "\n",
    "from Codes.scrpits_visualisations import (\n",
    "    tracer_evolution,\n",
    "    camembert,\n",
    "    comparer_periodes\n",
    ")\n"
   ]
  },
  {
   "cell_type": "code",
   "execution_count": null,
   "metadata": {},
   "outputs": [],
   "source": [
    "# Importation des données\n",
    "df = pd.read_excel(\"Données_produites/base_de_données_v1.xlsx\")\n",
    "\n",
    "\n",
    "# Indexation\n",
    "df = df.set_index('Unnamed: 0')\n",
    "\n"
   ]
  },
  {
   "cell_type": "markdown",
   "metadata": {},
   "source": [
    "## Statistiques descriptives <a class=\"anchor\" id=\"partie2\"></a>"
   ]
  },
  {
   "cell_type": "markdown",
   "metadata": {},
   "source": [
    "### Visualisation des données manquantes <a class=\"anchor\" id=\"partie21\"></a>"
   ]
  },
  {
   "cell_type": "markdown",
   "metadata": {},
   "source": [
    "Dans une volonté de rendre compte des valeurs manquantes à notre dataframe nous créons un dataframe qui comprend l'ensemble des valeurs manquantes "
   ]
  },
  {
   "cell_type": "code",
   "execution_count": null,
   "metadata": {},
   "outputs": [],
   "source": [
    "df_missing_binary = df.isnull().astype(int)\n",
    "df_missing_binary"
   ]
  },
  {
   "cell_type": "code",
   "execution_count": null,
   "metadata": {},
   "outputs": [],
   "source": [
    "df_nan = df.isna()\n",
    "df_nan = pd.DataFrame({\n",
    "    \"TIME_PERIOD_WITH_NAN\": df_nan.apply(lambda col: list(df.index[col]), axis = 0)\n",
    "})\n",
    "df_nan.to_csv(\"df_nan.csv\", index=True, encoding=\"utf-8\")\n",
    "print(df_nan)"
   ]
  },
  {
   "cell_type": "code",
   "execution_count": null,
   "metadata": {},
   "outputs": [],
   "source": [
    "# Définir la figure avec un affichage interactif\n",
    "fig, ax = plt.subplots(figsize=(50, 80))\n",
    "\n",
    "# Utiliser seaborn pour une meilleure visualisation sans grille\n",
    "sns.heatmap(df_missing_binary, cmap=\"OrRd\", cbar=False, linewidths=0, ax=ax, square=False)\n",
    "\n",
    "# Ajouter un titre\n",
    "ax.set_title(\"Matrice des valeurs manquantes (Rouge = Manquant)\")\n",
    "\n",
    "# Rotation des labels pour une meilleure lisibilité\n",
    "plt.xticks(rotation=90)\n",
    "plt.yticks(rotation=0)\n",
    "\n",
    "# Afficher la figure\n",
    "plt.show()"
   ]
  },
  {
   "cell_type": "code",
   "execution_count": null,
   "metadata": {},
   "outputs": [],
   "source": [
    "#Pourcentage de données manquantes par variable\n",
    "percentage_missing=((df_missing_binary.sum())/df_missing_binary.shape[0])*100\n",
    "\n",
    "#On ne garde que les colonnes ayant des missing values\n",
    "percentage_missing=percentage_missing[percentage_missing>0]\n",
    "percentage_missing = percentage_missing.sort_values(ascending=False)\n",
    "\n",
    "'''\n",
    "Nous avons un problème avec l'Estonie, 85% des données pour les taux d'intérêt sont des valeurs manquantes\n",
    "J'ai revérifié sur le site de l'OCDE et c'est un problème qui vient de leur bases de données. Comme c'est une \n",
    "un pourcentage considérable, on devrait peut-être retirer l'Estonie de notre analyse\n",
    "\n",
    "Pour les données qui sont \"entrecoupées\" (on dirait un chemin de la route)--> c'est les Working Hours. On peut appliquer le même \n",
    "interpolation qu'on a faite pour construire le df. \n",
    "\n",
    "--> Voir tentative d'interpolation dans le notebook data.ipynb\n",
    "Un problème persiste avec les données qui sont au début ou à la fin de la période temporelle, il faudra envisager\n",
    "une autre méthode\n",
    "'''\n",
    "percentage_missing\n"
   ]
  },
  {
   "cell_type": "markdown",
   "metadata": {},
   "source": [
    "### Nettoyage des données manquantes <a class=\"anchor\" id=\"partie21\"></a>"
   ]
  },
  {
   "cell_type": "markdown",
   "metadata": {},
   "source": [
    "Ce qui suit est une proposition"
   ]
  },
  {
   "cell_type": "code",
   "execution_count": null,
   "metadata": {},
   "outputs": [],
   "source": [
    "#Fonction qui construit un vecteur contenant le nom des variables\n",
    "def variables_pays(pays):\n",
    "    variable_pays=[f'CPI_{pays}',f'PIB_{pays}',f'LT_IR_{pays}',f'ST_IR_{pays}',f'WH_{pays}',f'P_Growth_{pays}']\n",
    "    return(variable_pays)"
   ]
  },
  {
   "cell_type": "code",
   "execution_count": null,
   "metadata": {},
   "outputs": [],
   "source": [
    "#On élimine l'année 1995 pour éviter de faire du \"backcasting\" du CPI de tous les pays\n",
    "df_clean=df.copy()\n",
    "df_clean=df_clean.drop([\"1995-Q1\",\"1995-Q2\",\"1995-Q3\",\"1995-Q4\"])\n",
    "\n",
    "#On élimine l'Estonie de notre dataset\n",
    "Estonia=variables_pays(\"Estonia\")\n",
    "df_clean=df_clean.drop(Estonia, axis=1)\n",
    "df_clean\n"
   ]
  },
  {
   "cell_type": "code",
   "execution_count": null,
   "metadata": {},
   "outputs": [],
   "source": [
    "# Les données de l'OCDE pour le CPI de la Suisse (méthodologie proche à celle d'Eurostat)\n",
    "cpi_suisse = pd.read_csv(r\"Données_extraites\\CPI_Suisse_OCDE.csv\")\n",
    "cpi_suisse = cpi_suisse.pivot_table(index='TIME_PERIOD', columns='Reference area', values='OBS_VALUE')\n",
    "cpi_suisse = cpi_suisse.drop(cpi_suisse.index[:4])\n",
    "\n",
    "\n",
    "#On recopie ces données dans df_clean\n",
    "df_clean['CPI_Switzerland']= cpi_suisse['Switzerland'].values\n",
    "df_clean"
   ]
  },
  {
   "cell_type": "code",
   "execution_count": null,
   "metadata": {},
   "outputs": [],
   "source": [
    "df_clean_missing_binary = df_clean.isnull().astype(int)\n",
    "\n",
    "# Définir la figure avec un affichage interactif\n",
    "fig, ax = plt.subplots(figsize=(50, 80))\n",
    "\n",
    "# Utiliser seaborn pour une meilleure visualisation sans grille\n",
    "sns.heatmap(df_clean_missing_binary, cmap=\"OrRd\", cbar=False, linewidths=0, ax=ax, square=False)\n",
    "\n",
    "# Ajouter un titre\n",
    "ax.set_title(\"Matrice des valeurs manquantes (Rouge = Manquant)\")\n",
    "\n",
    "# Rotation des labels pour une meilleure lisibilité\n",
    "plt.xticks(rotation=90)\n",
    "plt.yticks(rotation=0)\n",
    "\n",
    "# Afficher la figure\n",
    "plt.show()"
   ]
  },
  {
   "cell_type": "code",
   "execution_count": null,
   "metadata": {},
   "outputs": [],
   "source": [
    "#Pourcentage de données manquantes par variable\n",
    "percentage_missing_clean=((df_clean_missing_binary.sum())/df_clean_missing_binary.shape[0])*100\n",
    "\n",
    "#On ne garde que les colonnes ayant des missing values\n",
    "percentage_missing_clean=percentage_missing_clean[percentage_missing_clean>0]\n",
    "percentage_missing_clean = percentage_missing_clean.sort_values(ascending=False)\n",
    "percentage_missing_clean"
   ]
  },
  {
   "cell_type": "markdown",
   "metadata": {},
   "source": [
    "Quelques lignes de code préliminaires"
   ]
  },
  {
   "cell_type": "code",
   "execution_count": null,
   "metadata": {},
   "outputs": [],
   "source": [
    "#Création d'une copie de la base de données ayant pour index des DateTime\n",
    "df_TS=df.copy()\n",
    "df_TS.index = pd.PeriodIndex(df.index, freq='Q')  #conversion en PeriodIndex\n",
    "df_TS.index = df_TS.index.to_timestamp() #Conversion en DateTime\n",
    "print(type(df.index))\n",
    "\n",
    "''' \n",
    "Ici je ne suis pas sûr:\n",
    "- pour faire des analyses en séries temporelles, il faut que les index soient des datetime\n",
    "- j'ai donc converti chaque trimestre en la première date de chaque trimestre. \n",
    "- pour des graphes, et pour transformer les sorties, on peut utiliser : df.index.strftime('%Y-Q%q')\n",
    "- je ne sais pas s'il y a une meileure façon de faire\n",
    "\n",
    "'''\n"
   ]
  },
  {
   "cell_type": "code",
   "execution_count": null,
   "metadata": {},
   "outputs": [],
   "source": [
    "#On divise le df en 3 (correspondant à chaque période)\n",
    "df_TS_before_2008 = df_TS.loc[df_TS.index < '2008-01-01'].copy()\n",
    "df_TS_after_2008 = df_TS.loc[(df_TS.index >= '2008-01-01') & (df_TS.index<'2020-01-01')].copy()\n",
    "df_TS_after_2020 = df_TS.loc[df_TS.index >= '2020-01-01'].copy()\n"
   ]
  },
  {
   "cell_type": "code",
   "execution_count": null,
   "metadata": {},
   "outputs": [],
   "source": [
    "#Synthèse avant 2008\n",
    "df_TS_before_2008.describe()"
   ]
  },
  {
   "cell_type": "code",
   "execution_count": null,
   "metadata": {},
   "outputs": [],
   "source": [
    "#Synthèse après 2008\n",
    "df_TS_after_2008.describe()"
   ]
  },
  {
   "cell_type": "code",
   "execution_count": null,
   "metadata": {},
   "outputs": [],
   "source": [
    "#Synthèse après 2020\n",
    "df_TS_after_2020.describe()"
   ]
  },
  {
   "cell_type": "markdown",
   "metadata": {},
   "source": [
    "### Statistiques descriptives inter-pays <a class=\"anchor\" id=\"partie23\"></a>"
   ]
  },
  {
   "cell_type": "markdown",
   "metadata": {},
   "source": [
    "#### Statistiques par types de variables <a class=\"anchor\" id=\"partie231\"></a>"
   ]
  },
  {
   "cell_type": "code",
   "execution_count": null,
   "metadata": {},
   "outputs": [],
   "source": [
    "# Réglages d'affichage\n",
    "pd.set_option('display.max_columns', None) \n",
    "pd.set_option('display.max_rows', None)    \n",
    "pd.set_option('display.width', 1000) "
   ]
  },
  {
   "cell_type": "markdown",
   "metadata": {},
   "source": [
    "##### CPI <a class=\"anchor\" id=\"partie2311\"></a>"
   ]
  },
  {
   "cell_type": "code",
   "execution_count": null,
   "metadata": {},
   "outputs": [],
   "source": [
    "colonnes_CPI = [colonne for colonne in df_TS.columns if colonne.startswith('CPI')]\n",
    "CPI = df[colonnes_CPI]\n",
    "CPI.describe()"
   ]
  },
  {
   "cell_type": "markdown",
   "metadata": {},
   "source": [
    "On remarque que les moyennes sont assez similaires aux alentours comprises entre 91 et 95 pour la plupart des pays, on a cependant certains pays pour lesquels elles sont en dessous, avec notamment l'Islande et la Roumanie sous les 80 et la Suisse est la seule au delà des 100. On remarque aussi des écart-types plus élevées (au-dessus des 20) pour les pays d'Europe de l'Est et du Nord-est (et l'Islande), contre des écart-types compris entre 13 et 17 pour la plupart des autres pays, la Suisse faisant exception avec un écart-types de 2,33. Ces différences s'expliquent par des évolutions bien plus fortes depuis les années 1995 par ces pays de l'Est. les graphes ci-dessous illustrent cela.\n",
    "\n",
    "Concernant les valeurs présentes, il y a 116 périodes, soit du premier trimestre de 1996 au dernier de 2024, sauf pour la Bulgarie (113), qui semble commencer en 1997, le Royaume-Uni (100), qui s'arrête en 2021, et la Suisse (81), qui commence en 2005."
   ]
  },
  {
   "cell_type": "code",
   "execution_count": null,
   "metadata": {},
   "outputs": [],
   "source": [
    "tracer_evolution(CPI, xlabel =\"Période\",ylabel = \"Indice des Prix à la consommation \")"
   ]
  },
  {
   "cell_type": "markdown",
   "metadata": {},
   "source": [
    "Le graphique ci-dessus montre l'évolution de tous les pays et on peut observer la tendance haussière globale, pour expliciter le phénomènes de distinction on sépare en deux groupes nos pays et on les plot séparément "
   ]
  },
  {
   "cell_type": "code",
   "execution_count": null,
   "metadata": {},
   "outputs": [],
   "source": [
    "# On sépare en deux groupe selon la valeur de l'écart-type\n",
    "CPI_description = CPI.describe()\n",
    "std_values = CPI_description.loc['std']\n",
    "CPI_groupe_1_indices = std_values[std_values < 18].index  \n",
    "CPI_groupe_2_indices = std_values[std_values > 18].index\n",
    "CPI_groupe_1 = CPI[CPI_groupe_1_indices]\n",
    "CPI_groupe_2 = CPI[CPI_groupe_2_indices]\n",
    "\n",
    "# Ajout de la valeur moyenne\n",
    "Moyenne_CPI_1 = CPI_groupe_1.mean(axis=1)\n",
    "CPI_groupe_1['CPI_Mean'] = Moyenne_CPI_1\n",
    "Moyenne_CPI_2 = CPI_groupe_2.mean(axis=1)\n",
    "CPI_groupe_2['CPI_Mean'] = Moyenne_CPI_2\n",
    "\n",
    "CPI_Moyenne = pd.DataFrame()\n",
    "CPI_Moyenne[\"CPI_Mean_group_1\"] = Moyenne_CPI_1\n",
    "CPI_Moyenne[\"CPI_Mean_group_2\"] = Moyenne_CPI_2"
   ]
  },
  {
   "cell_type": "code",
   "execution_count": null,
   "metadata": {},
   "outputs": [],
   "source": [
    "tracer_evolution(CPI_groupe_1, xlabel =\"Période\",ylabel = \"Indice des Prix à la consommation des pays avec une plus faible évolution\")"
   ]
  },
  {
   "cell_type": "code",
   "execution_count": null,
   "metadata": {},
   "outputs": [],
   "source": [
    "tracer_evolution(CPI_groupe_2, xlabel =\"Période\",ylabel = \"Indice des Prix à la consommation (Std < 18)\")"
   ]
  },
  {
   "cell_type": "code",
   "execution_count": null,
   "metadata": {},
   "outputs": [],
   "source": [
    "tracer_evolution(CPI_Moyenne, xlabel =\"Période\",ylabel = \"Indice des Prix à la consommation moyen entre pour les deux groupes\")"
   ]
  },
  {
   "cell_type": "markdown",
   "metadata": {},
   "source": [
    "On observe mieux les différences entre le groupe 1 et le groupe 2, avec une croissance de CPI moyenne plus élevée dans le second groupe. On va essayer de voir si la différence entre ces deux groupes est aussi marquée pour les autres variables."
   ]
  },
  {
   "cell_type": "markdown",
   "metadata": {},
   "source": [
    "##### PIB <a class=\"anchor\" id=\"partie2312\"></a>"
   ]
  },
  {
   "cell_type": "code",
   "execution_count": null,
   "metadata": {},
   "outputs": [],
   "source": [
    "colonnes_PIB = [colonne for colonne in df_TS.columns if colonne.startswith('PIB')]\n",
    "PIB = df[colonnes_PIB]\n",
    "PIB.describe()"
   ]
  },
  {
   "cell_type": "markdown",
   "metadata": {},
   "source": [
    "Concernant les valeurs présentes  il y en a entre 118 et 120 pour tous les pays, c'est à dire toutes les périodes sauf une ou deux, et le Royaume-Uni n'en a que 103, qui s'arrête en 2020, comme pour le CPI.\n",
    "\n",
    "Ici les moyennes diffèrent grandement tout comme les écart-types. On va donc regarder l'évolution des PIB. "
   ]
  },
  {
   "cell_type": "code",
   "execution_count": null,
   "metadata": {},
   "outputs": [],
   "source": [
    "tracer_evolution(PIB, xlabel =\"Période\",ylabel = \"PIB en Millions \")"
   ]
  },
  {
   "cell_type": "markdown",
   "metadata": {},
   "source": [
    "On voit trois choses sur ce graphiques, d'abord qu'un grand nombre de valeurs sont écrasées par les plus grosses et donc sont difficiles à observer lorsque nous sommes en échelle linéaire, ensuite les séries semblent croissantes et avec des saisons, enfin on distingue bien la période de récession du Covid."
   ]
  },
  {
   "cell_type": "code",
   "execution_count": null,
   "metadata": {},
   "outputs": [],
   "source": [
    "camembert(PIB, période = \"2021-Q1\", titre = \"PIB en Millions au Q1 de 2021\")"
   ]
  },
  {
   "cell_type": "markdown",
   "metadata": {},
   "source": [
    "Ce diagramme fait au premier trimestre de 2020 (dernière date où le PIB du Royaume-Uni est renseignée) illustre parfaitement le fait que les plus gros pays écrase les valeurs des plus petits, en prenant l'Allemagne, le Royaume-Uni, la France, l'Italie et l'Espagne on observe déjà 70% du PIB total, de plus 11 pays comptent pour moins de 1% du total. "
   ]
  },
  {
   "cell_type": "code",
   "execution_count": null,
   "metadata": {},
   "outputs": [],
   "source": [
    "PIB = PIB.rename(columns=lambda x: f\"LOG_{x}\")\n",
    "tracer_evolution(PIB, xlabel =\"Période\",ylabel = \"log(PIB) en Millions \", log = True)"
   ]
  },
  {
   "cell_type": "markdown",
   "metadata": {},
   "source": [
    "En valeurs logarithmiques on voit bien la tendance linéaire assez similaire entre les séries, tout comme les variations saisonnales. Maintenant on va séparer en deux groupes les PIB afin de pouvoir mieux observer l'effet de la récession du covid. "
   ]
  },
  {
   "cell_type": "code",
   "execution_count": null,
   "metadata": {},
   "outputs": [],
   "source": [
    "# On sépare en deux groupe selon la valeur de la moyenne\n",
    "PIB_description = PIB.describe()\n",
    "PIB_mean_values = PIB_description.loc['mean']\n",
    "PIB_groupe_1_indices = PIB_mean_values[PIB_mean_values > 150000].index  \n",
    "PIB_groupe_2_indices = PIB_mean_values[PIB_mean_values < 150000].index\n",
    "PIB_groupe_1 = PIB[PIB_groupe_1_indices]\n",
    "PIB_groupe_2 = PIB[PIB_groupe_2_indices]"
   ]
  },
  {
   "cell_type": "code",
   "execution_count": null,
   "metadata": {},
   "outputs": [],
   "source": [
    "tracer_evolution(PIB_groupe_1, xlabel =\"Période\",  start_date=\"2019-Q2\", end_date=\"2021-Q2\", ylabel = \"PIB en Millions \")"
   ]
  },
  {
   "cell_type": "code",
   "execution_count": null,
   "metadata": {},
   "outputs": [],
   "source": [
    "tracer_evolution(PIB_groupe_2, xlabel =\"Période\",  start_date=\"2019-Q2\", end_date=\"2021-Q2\", ylabel = \"PIB en Millions \")"
   ]
  },
  {
   "cell_type": "markdown",
   "metadata": {},
   "source": [
    "En séparant en deux groupes on constate moins la diminution due au Covid au Q2 de 2020 parmi le groupe dont le PIB moyen est en dessous de 200 Milliards."
   ]
  },
  {
   "cell_type": "code",
   "execution_count": null,
   "metadata": {},
   "outputs": [],
   "source": [
    "comparer_periodes(PIB, \"2020-Q1\", \"2020-Q2\")"
   ]
  },
  {
   "cell_type": "code",
   "execution_count": null,
   "metadata": {},
   "outputs": [],
   "source": [
    "print(comparer_periodes(PIB, \"2020-Q1\", \"2020-Q2\")['Différence de %'].mean())"
   ]
  },
  {
   "cell_type": "markdown",
   "metadata": {},
   "source": [
    "En observant la différence entre les deux premiers trimestres de 2020 on observe très bien la récession du confinement. La récession moyenne est de -5.12%."
   ]
  },
  {
   "cell_type": "markdown",
   "metadata": {},
   "source": [
    "Pour revenir à la séparation des groupes faites lors de l'analyse du CPI, on remarque que tous les pays du groupes 2 précédent sont encore dans le groupe 2 en terme de PIB et que certains pays du groupe 1 sont maintenant dans ce groupe, ce sont surtout les pays d'Europe Centrale et du Nord ayant des populations plus faibles. On pourrait donc être amené à distinguer par la suite trois groupes, les économies qui en train de se développer, les petites économies développées et les grandes économies développées. "
   ]
  },
  {
   "cell_type": "code",
   "execution_count": null,
   "metadata": {},
   "outputs": [],
   "source": [
    "print(PIB_groupe_2_indices, CPI_groupe_2_indices)"
   ]
  },
  {
   "cell_type": "markdown",
   "metadata": {},
   "source": [
    "##### Taux d'intérêts <a class=\"anchor\" id=\"partie2313\"></a>"
   ]
  },
  {
   "cell_type": "code",
   "execution_count": null,
   "metadata": {},
   "outputs": [],
   "source": [
    "colonnes_LT = [colonne for colonne in df_TS.columns if colonne.startswith('LT')]\n",
    "LT = df[colonnes_LT]\n",
    "LT.describe()"
   ]
  },
  {
   "cell_type": "code",
   "execution_count": null,
   "metadata": {},
   "outputs": [],
   "source": [
    "colonnes_ST = [colonne for colonne in df_TS.columns if colonne.startswith('ST')]\n",
    "ST = df[colonnes_ST]\n",
    "ST.describe()"
   ]
  },
  {
   "cell_type": "markdown",
   "metadata": {},
   "source": [
    "Les valeurs renseignées pour les taux d'intérêts de long-termes sont assez hétérogènes. 16 pays ont toutes les valeurs de renseignées, les autres pays ont entre 91 et 110 valeurs renseignée sauf la Roumanie avec 79, la Bulgarie avec 88 et l'Estonie avec seulement 18. Concernant les taux à court-terme on a cette fois 19 pays avec toutes les valeurs renseignées et pour les autres on a seulement la Slovénie (avec 92 valeurs) et la Bulgarie (avec 83 valeurs) sous les 100 valeurs renseignée. \n",
    "\n",
    "Les moyennes des taux de long terme oscille entre 1,78% pour la Suisse et 7,20% pour l'Islande, avec une majorité des pays au alentour des 3-4%. (21 pays), il y a l'Estonie à 2,1 % et le reste au alentour des 5-6%. Les écart-types sont relativement proches des 2 sauf pour la Grèce avec 4,5, la Lettonie avec 3,9 et la Lituanie avec 3,6.\n",
    "\n",
    "Pour les taux de court terme les moyennes sont aux environs des 2% pour la plupart des pays des pays d'Europe de l'Ouest et du Nord, et sont plus hautes en moyenne pour les pays d'Europe de l'Est avec notamment la Roumanie et ses 21% de moyenne, la Hongrie avec ses 8,8% et la Pologne avec ses 7,8%. les écart-types sont relativement proches des valeurs moyennes."
   ]
  },
  {
   "cell_type": "code",
   "execution_count": null,
   "metadata": {},
   "outputs": [],
   "source": [
    "tracer_evolution(LT, xlabel =\"Période\", ylabel = \"Taux de long terme\")"
   ]
  },
  {
   "cell_type": "code",
   "execution_count": null,
   "metadata": {},
   "outputs": [],
   "source": [
    "tracer_evolution(ST, xlabel =\"Période\", ylabel = \"Taux de court terme\")"
   ]
  },
  {
   "cell_type": "code",
   "execution_count": null,
   "metadata": {},
   "outputs": [],
   "source": [
    "ST_wo_Roumania = ST.drop(columns = [\"ST_IR_Romania\"])\n",
    "tracer_evolution(ST_wo_Roumania, xlabel =\"Période\", ylabel = \"Taux de court terme\")"
   ]
  },
  {
   "cell_type": "markdown",
   "metadata": {},
   "source": [
    "On sort la Roumanie de la représentation des taux de court-terme car ses valeurs sont trop grandes. Pour les taux de long-terme on observe une corrélation entre les taux assez forte avec une tendance décroissante marquée par deux bosses en 2008 et 2012 qui correspondent à la crise des subprimes et de l'euro, puis une troisième en 2022 qui est celle qui nous intéresse pour cette étude. Concernant les taux de court-terme on a des fortes irrégularités jusqu'en 2003, puis une période de stabilisation avant une hausse en 2008 et une autre périodes stable jusqu'à la hausse de 2022."
   ]
  },
  {
   "cell_type": "code",
   "execution_count": null,
   "metadata": {},
   "outputs": [],
   "source": [
    "tracer_evolution(LT, xlabel =\"Période\", start_date=\"2020-Q3\", end_date=\"2024-Q4\",ylabel = \"Taux de long terme\")"
   ]
  },
  {
   "cell_type": "code",
   "execution_count": null,
   "metadata": {},
   "outputs": [],
   "source": [
    "tracer_evolution(ST, xlabel =\"Période\", start_date=\"2020-Q3\", end_date=\"2024-Q4\",ylabel = \"Taux de court terme\")"
   ]
  },
  {
   "cell_type": "markdown",
   "metadata": {},
   "source": [
    "En regardant plus précisément les périodes qui nous intéressent, on remarque que la hausse débute dès le Q1 de 2021 et semble se stabiliser à partir du Q3 de 2023."
   ]
  },
  {
   "cell_type": "code",
   "execution_count": null,
   "metadata": {},
   "outputs": [],
   "source": [
    "comparer_periodes(LT, \"2021-Q1\", \"2023-Q3\", percent = False)"
   ]
  },
  {
   "cell_type": "code",
   "execution_count": null,
   "metadata": {},
   "outputs": [],
   "source": [
    "print(comparer_periodes(LT, \"2021-Q1\", \"2023-Q3\", percent = False).mean(), comparer_periodes(ST, \"2021-Q1\", \"2023-Q3\", percent = False).mean())"
   ]
  },
  {
   "cell_type": "markdown",
   "metadata": {},
   "source": [
    "Ainsi on voit qu'il y a eu une hausse moyenne des taux de 3,38 points de pourcentages pour les taux de long terme et de 4,75 points de pourcentages pour les taux de court terme."
   ]
  },
  {
   "cell_type": "code",
   "execution_count": null,
   "metadata": {},
   "outputs": [],
   "source": [
    "LT_wo_Switzerland = LT.drop(columns = [\"LT_IR_Switzerland\"])\n",
    "tracer_evolution(LT_wo_Switzerland, xlabel =\"Période\", start_date=\"2015-Q1\", end_date=\"2024-Q3\",ylabel = \"Variation du taux de long terme par rapport à la base du Q1 de 2015\", base = \"2015-Q1\", lissage = True)"
   ]
  },
  {
   "cell_type": "markdown",
   "metadata": {},
   "source": [
    "On observe bien sur ce graphique en avec comme base le premier trimestre de 2015 la hausse soudaine des taux dès le premier trimestre de 2021 et ce jusqu'au deuxième, voire troisième trimestre de 2023. Et ce pour tous les pays, on ne le voit pas pour la Grèce sur ce graphique, mais cela est dû à sa base qui est très élevé en 2015 étant en train de sortir d'une crise de la dette, dont on a observé les hausses massives de taux sur les graphiques précédents."
   ]
  },
  {
   "cell_type": "markdown",
   "metadata": {},
   "source": [
    "##### Heures travaillées <a class=\"anchor\" id=\"partie2314\"></a>"
   ]
  },
  {
   "cell_type": "code",
   "execution_count": null,
   "metadata": {},
   "outputs": [],
   "source": [
    "colonnes_WH = [colonne for colonne in df_TS.columns if colonne.startswith('WH')]\n",
    "WH = df[colonnes_WH]\n",
    "WH.describe()"
   ]
  },
  {
   "cell_type": "markdown",
   "metadata": {},
   "source": [
    "Pour les heures travaillées tous les pays ont au moins 100 valeurs renseignées avec 11 pays sur 28 qui n'ont pas toute leurs valeurs. Les moyennes oscillent entre 34 et 40, sauf pour les Pays-Bas avec 31 heures et il y a 4 pays au dessus des 40 heures, à savoir la Bulgarie, la Tchéquie, la Grèce et la Pologne. Les écarts-types sont aussi faibles."
   ]
  },
  {
   "cell_type": "code",
   "execution_count": null,
   "metadata": {},
   "outputs": [],
   "source": [
    "tracer_evolution(WH, xlabel =\"Période\", ylabel = \"Évolution des heures/semaine travaillées\")"
   ]
  },
  {
   "cell_type": "markdown",
   "metadata": {},
   "source": [
    "Les données sont vraiment exploitables à partir de 1999 et semble suivre une tendance décroissante et être très impactées par la saisonnalité, ce qu'il faudra vérifier. "
   ]
  },
  {
   "cell_type": "markdown",
   "metadata": {},
   "source": [
    "##### Croissance potentielle <a class=\"anchor\" id=\"partie2315\"></a>"
   ]
  },
  {
   "cell_type": "code",
   "execution_count": null,
   "metadata": {},
   "outputs": [],
   "source": [
    "colonnes_PG = [colonne for colonne in df_TS.columns if colonne.startswith('P_')]\n",
    "PG = df[colonnes_PG]\n",
    "PG.describe()"
   ]
  },
  {
   "cell_type": "markdown",
   "metadata": {},
   "source": [
    "Les données ont été obtenue par interpolation polynomiale donc on a toutes les valeurs jusqu'à 2021 là où s'arrêtais les valeurs de la série initiale. Les moyennes sont comprises entre 1,2 et 4 avec l'Ireland à 5 et l'Italie à 0.5."
   ]
  },
  {
   "cell_type": "code",
   "execution_count": null,
   "metadata": {},
   "outputs": [],
   "source": [
    "tracer_evolution(PG, xlabel =\"Période\", ylabel = \"Évolution de la croissance potentielle\")"
   ]
  },
  {
   "cell_type": "markdown",
   "metadata": {},
   "source": [
    "On voit très bien l'interpolation polynomiale des variables et on perçoit une phase de baisse de la croissance potentielle entre 2003 et 2016 avant de remonter plus nettement."
   ]
  },
  {
   "cell_type": "markdown",
   "metadata": {},
   "source": [
    "#### Étude des corrélations <a class=\"anchor\" id=\"partie222\"></a>"
   ]
  },
  {
   "cell_type": "markdown",
   "metadata": {},
   "source": [
    "Correlations\\\n",
    "Idée: nous allons étudier les correlations entre plusieurs variables de 4 pays (corrélations à l'intérieur du même pays)"
   ]
  },
  {
   "cell_type": "code",
   "execution_count": null,
   "metadata": {},
   "outputs": [],
   "source": [
    "France=variables_pays('France')\n",
    "Germany=variables_pays('Germany')\n",
    "Denmark=variables_pays('Denmark')\n",
    "Romania=variables_pays('Romania')\n",
    "\n",
    "plt.figure(figsize=(20, 20))\n",
    "\n",
    "plt.subplot(2,2,1)\n",
    "sns.heatmap(df[France].corr())\n",
    "plt.title(\"Matrice de corrélation des variables de la France\")\n",
    "\n",
    "plt.subplot(2,2,2)\n",
    "sns.heatmap(df[Germany].corr())\n",
    "plt.title(\"Matrice de corrélation des variables de l'Allemagne\")\n",
    "\n",
    "plt.subplot(2,2,3)\n",
    "sns.heatmap(df[Denmark].corr())\n",
    "plt.title(\"Matrice de corrélation des variables du Danemark\")\n",
    "\n",
    "plt.subplot(2,2,4)\n",
    "sns.heatmap(df[Romania].corr())\n",
    "plt.title(\"Matrice de corrélation des variables de la Roumanie\")\n",
    "\n"
   ]
  },
  {
   "cell_type": "markdown",
   "metadata": {},
   "source": [
    "### Une première analyse exploratoire des séries temporelles <a class=\"anchor\" id=\"partie24\"></a>"
   ]
  },
  {
   "cell_type": "markdown",
   "metadata": {},
   "source": [
    "Pour chaque variable, nous allons déterminer  le tendances et les saisonalités des séries temporelles. Compte tenu du nombre de pays dans notre échantillon, nous allons tout d'abord faire cette analyse pour la France et pour les principaux pays d'Europe. "
   ]
  },
  {
   "cell_type": "markdown",
   "metadata": {},
   "source": [
    "#### Données du PIB <a class=\"anchor\" id=\"partie241\"></a>"
   ]
  },
  {
   "cell_type": "code",
   "execution_count": null,
   "metadata": {},
   "outputs": [],
   "source": [
    "#Fonction qui effectue la représentation de l'évolution du PIB d'un seul pays. \n",
    "\n",
    "def graphe_PIB(pays): \n",
    "    plt.figure(figsize=(14, 6))  # Taille du graphique\n",
    "\n",
    "    plt.plot(df_TS.index, df_TS[f'PIB_{pays}'], marker='o', linestyle='-')\n",
    "\n",
    "    plt.xlabel(\"Période\")\n",
    "    plt.ylabel(\"PIB en millions\")\n",
    "    plt.title(f\"Évolution du PIB - {pays} (1995-2024)\")\n",
    "\n",
    "    #   Sélectionner un sous-ensemble des labels de l'axe X pour éviter la surcharge\n",
    "    num_ticks = 8  # Nombre de labels affichés sur l'axe X\n",
    "    indices = np.linspace(0, len(df_TS.index) - 1, num_ticks, dtype=int)  # Espacement des indices\n",
    "    plt.xticks(df_TS.index[indices],df_TS.index[indices].to_period('Q').strftime('%Y-Q%q'),rotation=45)  # Appliquer les labels espacés\n",
    "\n",
    "    plt.grid(True)\n",
    "    return(plt.show())\n"
   ]
  },
  {
   "cell_type": "code",
   "execution_count": null,
   "metadata": {},
   "outputs": [],
   "source": [
    "#Représentation graphique de plusieurs pays\n",
    "selected_countries = ['Austria', 'France', 'United_Kingdom','Spain', 'Italy', 'Netherlands', 'Switzerland'] #Ici pon peut choisir les pays que l'on veut\n",
    "df_selected = df.loc[:,[f'PIB_{pays}' for pays in selected_countries]]\n",
    "\n",
    "colors = plt.cm.get_cmap(\"tab10\", len(df_selected.columns))  # Utilisation d'une palette de couleurs\n",
    "plt.figure(figsize=(14, 6))\n",
    "\n",
    "for i, country in enumerate(df_selected.columns): #enumerate permet de sélectionner l'élément et son indice\n",
    "    plt.plot(df_selected.index, df_selected[country], label=country, color=colors(i))\n",
    "\n",
    "# Personnalisation du graphique\n",
    "plt.xlabel(\"Période\")\n",
    "plt.ylabel(\"PIB en Millions\")\n",
    "plt.title(\"Principaux PIB trimestriels en Europe \")\n",
    "\n",
    "# Indicage\n",
    "num_ticks = 8 \n",
    "indices = np.linspace(0, len(df_selected.index) - 1, num_ticks, dtype=int)  \n",
    "plt.xticks(df_selected.index[indices], rotation=45) \n",
    "\n",
    "# Affichage \n",
    "plt.legend(loc=\"upper left\", bbox_to_anchor=(1, 1), ncol=2)  # Légende en dehors du graphique\n",
    "plt.grid(True)\n",
    "plt.gca().yaxis.set_major_formatter(ticker.StrMethodFormatter(\"{x:,.0f}\")) #permet de ne pas avoir d'écriture scientifique\n",
    "plt.show()"
   ]
  },
  {
   "cell_type": "code",
   "execution_count": null,
   "metadata": {},
   "outputs": [],
   "source": [
    "#Représentation de la saisonalité\n",
    "plt.figure()\n",
    "tsaplots.quarter_plot(df_TS['PIB_France'].resample('Q').mean())\n",
    "plt.show()"
   ]
  },
  {
   "cell_type": "markdown",
   "metadata": {},
   "source": [
    "A première vue, il semblerait qu'il n'y ait pas de saisonalité pour le PIB"
   ]
  },
  {
   "cell_type": "markdown",
   "metadata": {},
   "source": [
    "Ce qui suit est un brouillon qui nous sera utile lorsque nous aurons déterminé la stationnarité de la série temporelle"
   ]
  },
  {
   "cell_type": "code",
   "execution_count": null,
   "metadata": {},
   "outputs": [],
   "source": [
    "#Autocorrélation (ACF)\n",
    "plt.figure(figsize=(14,6))\n",
    "tsaplots.plot_acf(df_TS['PIB_France'], lags=30)\n",
    "plt.title(\"Fonction d'autocorrélation du PIB de la France\")\n",
    "plt.show()\n",
    "\n",
    "#Remarque: on n'a pas encore vérifié que la série est stationnaire, donc l'intévalle de confiance peut-être biaisé\n"
   ]
  },
  {
   "cell_type": "code",
   "execution_count": null,
   "metadata": {},
   "outputs": [],
   "source": [
    "#Autocorrélation partielle (PACF)\n",
    "plt.figure(figsize=(14,6))\n",
    "tsaplots.plot_pacf(df_TS['PIB_France'], lags=30)\n",
    "plt.title(\"Fonction d'autocorrélation partielle du PIB de la France\")\n",
    "plt.show()"
   ]
  },
  {
   "cell_type": "markdown",
   "metadata": {},
   "source": [
    "#### Données des Working Hours <a class=\"anchor\" id=\"partie242\"></a>"
   ]
  },
  {
   "cell_type": "code",
   "execution_count": null,
   "metadata": {},
   "outputs": [],
   "source": [
    "#Représentation graphique\n",
    "plt.figure(figsize=(14, 6))  # Taille du graphique\n",
    "\n",
    "plt.plot(df_TS.index, df_TS['WH_France'], marker='o', linestyle='-')\n",
    "\n",
    "plt.xlabel(\"Période\")\n",
    "plt.ylabel(\"Nombre d'heures travaillées par semaine\")\n",
    "plt.title(\"Évolution du nombre d'heures travaillées en France(1995-2024)\")\n",
    "\n",
    "# Sélectionner un sous-ensemble des labels de l'axe X pour éviter la surcharge\n",
    "num_ticks = 8  # Nombre de labels affichés sur l'axe X\n",
    "indices = np.linspace(0, len(df_TS.index) - 1, num_ticks, dtype=int)  # Espacement des indices\n",
    "plt.xticks(df_TS.index[indices],df_TS.index[indices].to_period('Q').strftime('%Y-Q%q'),rotation=45)  # Appliquer les labels espacés\n",
    "\n",
    "plt.grid(True)\n",
    "plt.show()"
   ]
  },
  {
   "cell_type": "markdown",
   "metadata": {},
   "source": [
    "La tendance décroissance du nombre d'heures travaillées en France peut s'expliquer par\n",
    "- l'interpolation faite entre 1995-2002 (données annuelles disponibles uniquement)\n",
    "- la mise en place des lois (nombre d'heures qui passe de 39 à 35)"
   ]
  },
  {
   "cell_type": "markdown",
   "metadata": {},
   "source": [
    "#### Données des taux d'intérêt à long terme <a class=\"anchor\" id=\"partie243\"></a>"
   ]
  },
  {
   "cell_type": "code",
   "execution_count": null,
   "metadata": {},
   "outputs": [],
   "source": [
    "#Représentation graphique\n",
    "plt.figure(figsize=(14, 6))  # Taille du graphique\n",
    "\n",
    "plt.plot(df_TS.index, df_TS['LT_IR_France'], marker='o', linestyle='-')\n",
    "\n",
    "plt.xlabel(\"Période\")\n",
    "plt.ylabel(\"Taux d'intérêt (Long Terme) de la France\")\n",
    "plt.title(\"Évolution du taux d'intérêt (long terme) de la France (1995-2024)\")\n",
    "\n",
    "# Sélectionner un sous-ensemble des labels de l'axe X pour éviter la surcharge\n",
    "num_ticks = 8  # Nombre de labels affichés sur l'axe X\n",
    "indices = np.linspace(0, len(df_TS.index) - 1, num_ticks, dtype=int)  # Espacement des indices\n",
    "plt.xticks(df_TS.index[indices],df_TS.index[indices].to_period('Q').strftime('%Y-Q%q'),rotation=45)  # Appliquer les labels espacés\n",
    "\n",
    "plt.grid(True)\n",
    "plt.show()"
   ]
  },
  {
   "cell_type": "code",
   "execution_count": null,
   "metadata": {},
   "outputs": [],
   "source": [
    "#Représentation de la saisonalité\n",
    "plt.figure()\n",
    "tsaplots.quarter_plot(df_TS['LT_IR_France'].resample('Q').mean())\n",
    "plt.show()"
   ]
  },
  {
   "cell_type": "markdown",
   "metadata": {},
   "source": [
    "#### Données des taux d'intérêt à court terme <a class=\"anchor\" id=\"partie244\"></a>"
   ]
  },
  {
   "cell_type": "code",
   "execution_count": null,
   "metadata": {},
   "outputs": [],
   "source": [
    "#Représentation graphique\n",
    "plt.figure(figsize=(14, 6))  # Taille du graphique\n",
    "\n",
    "plt.plot(df_TS.index, df_TS['ST_IR_France'], marker='o', linestyle='-')\n",
    "\n",
    "plt.xlabel(\"Période\")\n",
    "plt.ylabel(\"Taux d'intérêt (court terme)\")\n",
    "plt.title(\"Évolution du taux d'intérêt (court terme) de la France (1995-2024)\")\n",
    "\n",
    "# Sélectionner un sous-ensemble des labels de l'axe X pour éviter la surcharge\n",
    "num_ticks = 8  # Nombre de labels affichés sur l'axe X\n",
    "indices = np.linspace(0, len(df_TS.index) - 1, num_ticks, dtype=int)  # Espacement des indices\n",
    "plt.xticks(df_TS.index[indices],df_TS.index[indices].to_period('Q').strftime('%Y-Q%q'),rotation=45)  # Appliquer les labels espacés\n",
    "\n",
    "plt.grid(True)\n",
    "plt.show()"
   ]
  },
  {
   "cell_type": "code",
   "execution_count": null,
   "metadata": {},
   "outputs": [],
   "source": [
    "#Représentation de la saisonalité\n",
    "plt.figure()\n",
    "tsaplots.quarter_plot(df_TS['ST_IR_France'].resample('Q').mean())\n",
    "plt.show()"
   ]
  },
  {
   "cell_type": "markdown",
   "metadata": {},
   "source": [
    "#### Données du CPI <a class=\"anchor\" id=\"partie245\"></a>"
   ]
  },
  {
   "cell_type": "code",
   "execution_count": null,
   "metadata": {},
   "outputs": [],
   "source": [
    "#Représentation graphique\n",
    "plt.figure(figsize=(14, 6))  # Taille du graphique\n",
    "\n",
    "plt.plot(df_TS.index, df_TS['PIB_France'], marker='o', linestyle='-')\n",
    "\n",
    "plt.xlabel(\"Période\")\n",
    "plt.ylabel(\"CPI\")\n",
    "plt.title(\"Évolution du du CPI de la France (1995-2024)\")\n",
    "\n",
    "# Sélectionner un sous-ensemble des labels de l'axe X pour éviter la surcharge\n",
    "num_ticks = 8  # Nombre de labels affichés sur l'axe X\n",
    "indices = np.linspace(0, len(df_TS.index) - 1, num_ticks, dtype=int)  # Espacement des indices\n",
    "plt.xticks(df_TS.index[indices],df_TS.index[indices].to_period('Q').strftime('%Y-Q%q'),rotation=45)  # Appliquer les labels espacés\n",
    "\n",
    "plt.grid(True)\n",
    "plt.show()"
   ]
  },
  {
   "cell_type": "code",
   "execution_count": null,
   "metadata": {},
   "outputs": [],
   "source": [
    "#Représentation de la saisonalité\n",
    "plt.figure()\n",
    "tsaplots.quarter_plot(df_TS['PIB_France'].resample('Q').mean())\n",
    "plt.show()"
   ]
  },
  {
   "cell_type": "markdown",
   "metadata": {},
   "source": [
    "#### Données de la croissance potentielle <a class=\"anchor\" id=\"partie246\"></a>"
   ]
  },
  {
   "cell_type": "code",
   "execution_count": null,
   "metadata": {},
   "outputs": [],
   "source": [
    "#Représentation graphique\n",
    "plt.figure(figsize=(14, 6))  # Taille du graphique\n",
    "\n",
    "plt.plot(df_TS.index, df_TS['P_Growth_France'], marker='o', linestyle='-')\n",
    "\n",
    "plt.xlabel(\"Période\")\n",
    "plt.ylabel(\"Croissance potentielle\")\n",
    "plt.title(\"Évolution de la croissance potentielle de la France (1995-2021)\")\n",
    "\n",
    "# Sélectionner un sous-ensemble des labels de l'axe X pour éviter la surcharge\n",
    "num_ticks = 8  # Nombre de labels affichés sur l'axe X\n",
    "indices = np.linspace(0, len(df_TS.index) - 1, num_ticks, dtype=int)  # Espacement des indices\n",
    "plt.xticks(df_TS.index[indices],df_TS.index[indices].to_period('Q').strftime('%Y-Q%q'),rotation=45)  # Appliquer les labels espacés\n",
    "\n",
    "plt.grid(True)\n",
    "plt.show()"
   ]
  },
  {
   "cell_type": "markdown",
   "metadata": {},
   "source": [
    "## Visualisation <a class=\"anchor\" id=\"partie3\"></a>"
   ]
  },
  {
   "cell_type": "markdown",
   "metadata": {},
   "source": [
    "### Données de PIB <a class=\"anchor\" id=\"partie31\"></a>"
   ]
  },
  {
   "cell_type": "markdown",
   "metadata": {},
   "source": [
    "Pour notre rendu de mi-parcours nous avons présenté les évolutions des PIB en France et dans les principaux pays d'Europe. Nous faisons d'abord celui de la France."
   ]
  },
  {
   "cell_type": "code",
   "execution_count": null,
   "metadata": {},
   "outputs": [],
   "source": [
    "plt.figure(figsize=(14, 6))  # Taille du graphique\n",
    "\n",
    "plt.plot(df.index, df['PIB_France'], marker='o', linestyle='-')\n",
    "\n",
    "plt.xlabel(\"Période\")\n",
    "plt.ylabel(\"PIB de la France\")\n",
    "plt.title(\"Évolution du PIB de la France (1995-2024)\")\n",
    "\n",
    "# Sélectionner un sous-ensemble des labels de l'axe X pour éviter la surcharge\n",
    "num_ticks = 8  # Nombre de labels affichés sur l'axe X\n",
    "indices = np.linspace(0, len(df.index) - 1, num_ticks, dtype=int)  # Espacement des indices\n",
    "plt.xticks(df.index[indices],rotation=45)  # Appliquer les labels espacés\n",
    "\n",
    "plt.grid(True)\n",
    "plt.show()"
   ]
  },
  {
   "cell_type": "markdown",
   "metadata": {},
   "source": [
    "Et ensuite pour l'Europe"
   ]
  },
  {
   "cell_type": "code",
   "execution_count": null,
   "metadata": {},
   "outputs": [],
   "source": [
    "selected_countries = ['PIB_Germany', 'PIB_France', 'PIB_United_Kingdom','PIB_Spain', 'PIB_Italy', 'PIB_Netherlands', 'PIB_Switzerland']\n",
    "\n",
    "df_selected = df[selected_countries]\n",
    "\n",
    "colors = plt.cm.get_cmap(\"tab10\", len(df_selected.columns))  # Utilisation d'une palette de couleurs\n",
    "plt.figure(figsize=(14, 6))\n",
    "\n",
    "for i, country in enumerate(df_selected.columns): #enumerate permet de sélectionner l'élément et son indice\n",
    "    plt.plot(df_selected.index, df_selected[country], label=country, color=colors(i))\n",
    "\n",
    "# Personnalisation du graphique\n",
    "plt.xlabel(\"Période\")\n",
    "plt.ylabel(\"PIB en Millions\")\n",
    "plt.title(\"Principaux PIB trimestriels en Europe \")\n",
    "\n",
    "# Indicage\n",
    "num_ticks = 8 \n",
    "indices = np.linspace(0, len(df_selected.index) - 1, num_ticks, dtype=int)  \n",
    "plt.xticks(df_selected.index[indices], rotation=45) \n",
    "\n",
    "# Affichage \n",
    "plt.legend(loc=\"upper left\", bbox_to_anchor=(1, 1), ncol=2)  # Légende en dehors du graphique\n",
    "plt.grid(True)\n",
    "plt.gca().yaxis.set_major_formatter(ticker.StrMethodFormatter(\"{x:,.0f}\")) #permet de ne pas avoir d'écriture scientifique\n",
    "plt.show()\n"
   ]
  },
  {
   "cell_type": "markdown",
   "metadata": {},
   "source": [
    "### Données d'heures travaillées <a class=\"anchor\" id=\"partie32\"></a>"
   ]
  },
  {
   "cell_type": "markdown",
   "metadata": {},
   "source": [
    "Voici l'évolution des heures travaillées en France."
   ]
  },
  {
   "cell_type": "code",
   "execution_count": null,
   "metadata": {},
   "outputs": [],
   "source": [
    "plt.figure(figsize=(14, 6))  # Taille du graphique\n",
    "\n",
    "plt.plot(df.index, df['WH_France'], marker='o', linestyle='-')\n",
    "\n",
    "plt.xlabel(\"Période\")\n",
    "plt.ylabel(\"Heures travaillées en France\")\n",
    "plt.title(\"Évolution des heures travaillées en France (1995-2024)\")\n",
    "\n",
    "# Sélectionner un sous-ensemble des labels de l'axe X pour éviter la surcharge\n",
    "num_ticks = 10 \n",
    "indices = np.linspace(0, len(df.index) - 1, num_ticks, dtype=int)\n",
    "plt.xticks(df.index[indices], rotation=45)\n",
    "plt.grid(True)\n",
    "plt.show()"
   ]
  }
 ],
 "metadata": {
  "kernelspec": {
   "display_name": "Python 3",
   "language": "python",
   "name": "python3"
  },
  "language_info": {
   "codemirror_mode": {
    "name": "ipython",
    "version": 3
   },
   "file_extension": ".py",
   "mimetype": "text/x-python",
   "name": "python",
   "nbconvert_exporter": "python",
   "pygments_lexer": "ipython3",
   "version": "3.12.10"
  }
 },
 "nbformat": 4,
 "nbformat_minor": 2
}
