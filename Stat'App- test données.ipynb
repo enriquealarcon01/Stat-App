{
 "cells": [
  {
   "cell_type": "code",
   "execution_count": 112,
   "metadata": {},
   "outputs": [],
   "source": [
    "import pandas as pd"
   ]
  },
  {
   "cell_type": "code",
   "execution_count": null,
   "metadata": {},
   "outputs": [],
   "source": [
    "#Extration des données relatives au GDP (Données Eurostat)\n",
    "\n",
    "'''\n",
    "Informations générales\n",
    "Online data code:namq_10_gdp\n",
    "Unit of measure: Current prices-million euro\n",
    "'''\n",
    "\n",
    "df_GDP= pd.read_csv(\"Données_extraites/GDP_trimestriel_eurostat.csv\", encoding='utf-8')\n",
    "#print(df_GDP.head())\n",
    "\n",
    "\n",
    "# Choix des colonnes rélévantes\n",
    "df_GDP_selected = df_GDP[['geo', 'TIME_PERIOD', 'OBS_VALUE']]\n",
    "#print(df_GDP_selected.head())\n",
    "\n",
    "# Obtention des données de panel\n",
    "df_GDP_pivot = df_GDP_selected.pivot_table(index='geo', columns='TIME_PERIOD', values='OBS_VALUE', aggfunc='first')\n",
    "\n",
    "# Renomer l'index des colonnes\n",
    "df_GDP_pivot = df_GDP_pivot.rename_axis(index={'geo': 'COUNTRY'})\n",
    "\n",
    "# Vérification\n",
    "#print(df_GDP_pivot.head())\n",
    "df_GDP_pivot\n",
    "\n",
    "\n",
    "\n"
   ]
  },
  {
   "cell_type": "markdown",
   "metadata": {},
   "source": [
    "Dans ce qui suit: nous allons essayer de concatener trois datasets:\n",
    "- 2 comportant des données trimestrielles (1998-2008 et 2008-2024)\n",
    "- 1 comporatant des données annuelles (1995-1998)\n",
    "\n",
    "Nous avons gardé la même source (Eurostat) afin d'avoir des estimations homogènes\n"
   ]
  },
  {
   "cell_type": "code",
   "execution_count": null,
   "metadata": {},
   "outputs": [],
   "source": [
    "#Extration des données Working Hours per year (Données Eurostat: 1995-1998)\n",
    "'''\n",
    "Informations générales\n",
    "Lien:https://doi.org/10.2908/LFSA_EWHANA\n",
    "Code: lfsa_ewhana\n",
    "'''\n",
    "\n",
    "df_working_hours_eurostat_an= pd.read_csv(\"Données_extraites/Working_hours_eurostat_1995-1998.csv\", encoding='utf-8')\n",
    "#print(df_GDP.head())\n",
    "\n",
    "# Choix des colonnes rélévantes\n",
    "df_working_hours_selected_eurostat_an= df_working_hours_eurostat_an[['geo', 'TIME_PERIOD', 'OBS_VALUE']]\n",
    "#print(df_GDP_selected.head())\n",
    "\n",
    "# Obtention des données de panel\n",
    "df_working_hours_pivot_eurostat_an = df_working_hours_selected_eurostat_an.pivot_table(index='geo', columns='TIME_PERIOD', values='OBS_VALUE', aggfunc='first')\n",
    "\n",
    "# Renomer l'index des colonnes\n",
    "df_working_hours_pivot_eurostat_an= df_working_hours_pivot_eurostat_an.rename_axis(index={'geo': 'COUNTRY'})\n",
    "\n",
    "# Vérification\n",
    "#print(df_GDP_pivot.head())\n",
    "df_working_hours_pivot_eurostat_an\n",
    "\n",
    "\n"
   ]
  },
  {
   "cell_type": "code",
   "execution_count": null,
   "metadata": {},
   "outputs": [],
   "source": [
    "#Interpolation (Données annuelles--> trimestrielles)\n",
    "\n",
    "'''\n",
    "à corriger \n",
    "'''\n",
    "df_working_hours_pivot_eurostat_an.columns=pd.to_datetime(\n",
    "    df_working_hours_pivot_eurostat_an.columns.astype(str), format='%Y'\n",
    ")\n",
    "\n",
    "df_working_hours_pivot_eurostat_an=df_working_hours_pivot_eurostat_an.T\n",
    "\n",
    "df_working_hours_pivot_eurostat_an= df_working_hours_pivot_eurostat_an.asfreq('Q')\n",
    "\n",
    "df_working_hours_pivot_eurostat_an_interpolation=df_working_hours_pivot_eurostat_an.interpolate(method='linear')\n",
    "\n",
    "df_working_hours_pivot_eurostat_an_interpolation.index = (\n",
    "    df_working_hours_pivot_eurostat_an_interpolation.index.to_period('Q'))\n",
    "\n",
    "df_working_hours_pivot_eurostat_an_interpolation=df_working_hours_pivot_eurostat_an_interpolation.T\n",
    "\n",
    "print(df_working_hours_pivot_eurostat_an_interpolation)\n",
    "\n",
    "\n"
   ]
  },
  {
   "cell_type": "code",
   "execution_count": null,
   "metadata": {},
   "outputs": [],
   "source": [
    "#Extration des données Working Hours per year (Données Eurostat à partir de 2008)\n",
    "\n",
    "'''\n",
    "Informations générales: données trimestrielles à partir de 2008\n",
    "Online data code:lfsq_ewhan2\n",
    "Unit of measure_ Hours per year per person\n",
    "'''\n",
    "\n",
    "df_working_hours_eurostat_1= pd.read_csv(\"Données_extraites/Working_hours_eurostat.csv\", encoding='utf-8')\n",
    "#print(df_GDP.head())\n",
    "\n",
    "# Choix des colonnes rélévantes\n",
    "df_working_hours_selected_eurostat_1= df_working_hours_eurostat_1[['geo', 'TIME_PERIOD', 'OBS_VALUE']]\n",
    "#print(df_GDP_selected.head())\n",
    "\n",
    "# Obtention des données de panel\n",
    "df_working_hours_pivot_eurostat_1 = df_working_hours_selected_eurostat_1.pivot_table(index='geo', columns='TIME_PERIOD', values='OBS_VALUE', aggfunc='first')\n",
    "\n",
    "# Renomer l'index des colonnes\n",
    "df_working_hours_pivot_eurostat_1= df_working_hours_pivot_eurostat_1.rename_axis(index={'geo': 'COUNTRY'})\n",
    "\n",
    "# Vérification\n",
    "#print(df_GDP_pivot.head())\n",
    "df_working_hours_pivot_eurostat_1"
   ]
  },
  {
   "cell_type": "code",
   "execution_count": null,
   "metadata": {},
   "outputs": [],
   "source": [
    "#Extration des données Working Hours per year (Données Eurostat à partir de 1998-2008)\n",
    "\n",
    "'''\n",
    "Informations générales: données trimestrielles à partir de 2008\n",
    "Online data code:lfsq_ewhana\n",
    "source: https://ec.europa.eu/eurostat/databrowser/view/lfsq_ewhana__custom_15382513/default/table?lang=en\n",
    "Unit of measure_ Hours per year per person\n",
    "'''\n",
    "\n",
    "df_working_hours_eurostat_2= pd.read_csv(\"Données_extraites/Working_hours_eurostat_2.csv\", encoding='utf-8')\n",
    "#print(df_GDP.head())\n",
    "\n",
    "\n",
    "# Choix des colonnes rélévantes\n",
    "df_working_hours_selected_eurostat_2= df_working_hours_eurostat_2[['geo', 'TIME_PERIOD', 'OBS_VALUE']]\n",
    "#print(df_GDP_selected.head())\n",
    "\n",
    "# Obtention des données de panel\n",
    "df_working_hours_pivot_eurostat_2 = df_working_hours_selected_eurostat_2.pivot_table(index='geo', columns='TIME_PERIOD', values='OBS_VALUE', aggfunc='first')\n",
    "\n",
    "# Renomer l'index des colonnes\n",
    "df_working_hours_pivot_eurostat_2= df_working_hours_pivot_eurostat_2.rename_axis(index={'geo': 'COUNTRY'})\n",
    "\n",
    "# Vérification\n",
    "#print(df_GDP_pivot.head())\n",
    "df_working_hours_pivot_eurostat_2\n"
   ]
  },
  {
   "cell_type": "code",
   "execution_count": null,
   "metadata": {},
   "outputs": [],
   "source": [
    "#1ère Juxtaposition (des deux jeux de données trimestrielles)\n",
    "df_working_hours_pivot_eurostat=pd.concat([df_working_hours_pivot_eurostat_2,df_working_hours_pivot_eurostat_1], axis=1)\n",
    "df_working_hours_pivot_eurostat"
   ]
  },
  {
   "cell_type": "code",
   "execution_count": null,
   "metadata": {},
   "outputs": [],
   "source": [
    "#J'essaye de merger les données de working hours d'une autre façon, car je veux les données en format long\n",
    "\n",
    "# suppression des données de 2008 dans un des deux df car elles sont dans des deux\n",
    "df_working_hours_selected_eurostat_2 = df_working_hours_selected_eurostat_2[~df_working_hours_selected_eurostat_2['TIME_PERIOD'].isin(['2008-Q1', '2008-Q2', '2008-Q3', '2008-Q4'])]\n",
    "\n",
    "#merger les deux l'un en dessous de l'autre\n",
    "df_working_hours_long_eurostat = pd.concat([df_working_hours_selected_eurostat_2, df_working_hours_selected_eurostat_1], ignore_index=\"TRUE\")\n",
    "df_working_hours_long_eurostat\n"
   ]
  },
  {
   "cell_type": "code",
   "execution_count": null,
   "metadata": {},
   "outputs": [],
   "source": [
    "#Tentative: union des deux jeux de données\n",
    "\n",
    "#Vérifions que les pays des deux jeux de données (Eurostat + OCDE) sont identiques\n",
    "identique= (\n",
    "    df_working_hours_pivot_eurostat['']\n",
    "    ).all()\n",
    "\n",
    "'''idées potentielles pour la suite:\n",
    "- pour corriger les missing values: peut-être on pourra faire des interpolations linéaires?\n",
    "- et pour les working hours: j'ai voulu concaténer les donnés, mais mon problème c'est que je ne \n",
    "trouve pas comment ont été calculées les heures de travail par l'OCDE. Et donc j'ai du mal à faire la conversion correspondante \n",
    "J'avais pensé à utiliser les données annuelles de Eurostat\n",
    "    - https://ec.europa.eu/eurostat/web/lfs/database\n",
    "    - https://ec.europa.eu/eurostat/databrowser/view/lfsa_ewhuna/default/table?lang=en&category=labour.employ.lfsa.lfsa_wrktime\n",
    "    Il y a des données annuelles disponibles à partir de 1998, donc c'est plus facile de faire la conversion \n",
    "    et pour 1995-1998, si on ne trouve rien, on pourra garder les données de l'OCDE (c'est plus facile de faire la conversion pour 3 ans que pour 13 ans)\n",
    "    \n",
    "'''"
   ]
  },
  {
   "cell_type": "markdown",
   "metadata": {},
   "source": [
    "Données des taux d'intérêts\n",
    "\n",
    "Taux court terme : \"Les données se réfèrent aux bons acceptés par la banque/Certificats de dépôt négociables-3 mois.\"\n",
    "Taux long terme : \"Les données se réfèrent au taux de rendement estimé en clôture des obligations du trésor à 10 ans.\""
   ]
  },
  {
   "cell_type": "code",
   "execution_count": 20,
   "metadata": {},
   "outputs": [],
   "source": [
    "# Pour le long terme (une possibilité): Long term interest rates\n",
    "# source: https://data-explorer.oecd.org/vis?lc=en&pg=0&tm=LONG-TERM%20INTEREST&snb=21&vw=tb&df[ds]=dsDisseminateFinalDMZ&df[id]=DSD_STES%40DF_FINMARK&df[ag]=OECD.SDD.STES&df[vs]=4.0&dq=GBR%2BROU%2BHRV%2BBGR%2BESP%2BTUR%2BCHE%2BSWE%2BSVN%2BSVK%2BPRT%2BPOL%2BNOR%2BNLD%2BLUX%2BLTU%2BLVA%2BITA%2BIRL%2BISL%2BHUN%2BGRC%2BDEU%2BFRA%2BFIN%2BEST%2BDNK%2BCZE%2BBEL%2BAUT%2BAUS.Q.IRLT.PA.....&to[TIME_PERIOD]=false&pd=1995-Q1%2C\n",
    "#Unit of measure: Percent per annum\n",
    "\n",
    "df_LT_IR=pd.read_csv('Données_extraites/Long_term_IR_OCDE.csv', encoding='utf-8')\n",
    "\n",
    "\n",
    "# Choix des colonnes rélévantes\n",
    "df_LT_IR_selected = df_LT_IR[['Reference area', 'TIME_PERIOD', 'OBS_VALUE']]\n",
    "df_LT_IR = df_LT_IR_selected\n",
    "df_LT_IR\n",
    "#print(df_LT_IR.head())\n",
    "\n",
    "# Obtention des données de panel\n",
    "df_LT_IR_pivot = df_LT_IR_selected.pivot_table(index='Reference area', columns='TIME_PERIOD', values='OBS_VALUE', aggfunc='first')\n",
    "\n",
    "# Vérification\n",
    "#print(df_LT_IR_pivot.head())\n",
    "#df_LT_IR_pivot\n"
   ]
  },
  {
   "cell_type": "code",
   "execution_count": null,
   "metadata": {},
   "outputs": [],
   "source": [
    "# Pour le court terme (une possibilité): short term interest rates\n",
    "# source: https://data-explorer.oecd.org/vis?lc=en&pg=0&tm=LONG-TERM%20INTEREST&snb=21&vw=tb&df[ds]=dsDisseminateFinalDMZ&df[id]=DSD_STES%40DF_FINMARK&df[ag]=OECD.SDD.STES&df[vs]=4.0&dq=GBR%2BROU%2BHRV%2BBGR%2BESP%2BTUR%2BCHE%2BSWE%2BSVN%2BSVK%2BPRT%2BPOL%2BNOR%2BNLD%2BLUX%2BLTU%2BLVA%2BITA%2BIRL%2BISL%2BHUN%2BGRC%2BDEU%2BFRA%2BFIN%2BEST%2BDNK%2BCZE%2BBEL%2BAUT%2BAUS.Q.IRLT.PA.....&to[TIME_PERIOD]=false&pd=1995-Q1%2C\n",
    "#Unit of measure: Percent per annum\n",
    "\n",
    "df_ST_IR=pd.read_csv('Données_extraites/Short_term_IR_OCDE.csv', encoding='utf-8')\n",
    "\n",
    "\n",
    "# Choix des colonnes rélévantes\n",
    "df_ST_IR_selected = df_ST_IR[['Reference area', 'TIME_PERIOD', 'OBS_VALUE']]\n",
    "print(df_ST_IR.head())\n",
    "df_ST_IR = df_ST_IR_selected\n",
    "df_ST_IR\n",
    "# Obtention des données de panel\n",
    "#df_ST_IR_pivot = df_ST_IR_selected.pivot_table(index='Reference area', columns='TIME_PERIOD', values='OBS_VALUE', aggfunc='first')\n",
    "\n",
    "# Vérification\n",
    "#print(df_ST_IR_pivot.head())\n",
    "#df_ST_IR_pivot\n"
   ]
  },
  {
   "cell_type": "markdown",
   "metadata": {},
   "source": [
    "Import du CPI"
   ]
  },
  {
   "cell_type": "code",
   "execution_count": null,
   "metadata": {},
   "outputs": [],
   "source": [
    "# données téléchargées depuis le site de eurostat\n",
    "\n",
    "# décompresser le fichier qui était en .gz\n",
    "df_cpi = pd.read_csv(\"estat_prc_hicp_midx_filtered_en.csv.gz\", compression=\"gzip\")\n",
    "print(df_cpi.head())\n",
    "\n",
    "# Sélectionner les variables utiles\n",
    "df_cpi = df_cpi[['coicop','geo', 'TIME_PERIOD', 'OBS_VALUE']]\n",
    "print(df_cpi.head())\n",
    "print(df_cpi['coicop'].unique())\n",
    "\n",
    "# mettre les deux variables de cpi différentes dans deux colonnes (car actuellement elles sont en ligne : voir la variable coicop))\n",
    "df_cpi_pivot = df_cpi.pivot(index=['geo', 'TIME_PERIOD'], columns='coicop', values='OBS_VALUE')\n",
    "print(df_cpi_pivot.head())\n",
    "df_cpi_pivot = df_cpi_pivot.reset_index()\n",
    "df_cpi_pivot\n"
   ]
  },
  {
   "cell_type": "code",
   "execution_count": null,
   "metadata": {},
   "outputs": [],
   "source": [
    "#tables en format long à merger : \n",
    "set1 = set(df_working_hours_long_eurostat['geo'].unique())\n",
    "set2 = set(df_cpi_pivot['geo'].unique())\n",
    "set3 = set(df_ST_IR['Reference area'].unique())\n",
    "set4 = set(df_LT_IR['Reference area'].unique())\n",
    "set5 = set(df_GDP_selected['geo'].unique())\n",
    "\n",
    "pays_communs = set1 & set2 & set3 & set4 & set5  # Intersection de tous les ensembles\n",
    "print(\"Pays communs :\", pays_communs)\n",
    "print(\"Nombre de pays communs :\", len(pays_communs))\n",
    "\n"
   ]
  },
  {
   "cell_type": "code",
   "execution_count": null,
   "metadata": {},
   "outputs": [],
   "source": [
    "tous_pays = set1 | set2 | set3 | set4 | set5  # Union de tous les ensembles\n",
    "print(\"Tous les pays :\", tous_pays)\n",
    "\n",
    "for i, (name, dataset) in enumerate([\n",
    "    (\"df_working_hours_long_eurostat\", set1),\n",
    "    (\"df_cpi_pivot\", set2),\n",
    "    (\"df_ST_IR\", set3),\n",
    "    (\"df_LT_IR\", set4),\n",
    "    (\"df_GDP_selected\", set5)\n",
    "]):\n",
    "    pays_absents = tous_pays - dataset  # Pays qui ne sont pas dans cet ensemble\n",
    "    print(f\"Pays absents dans {name} :\", pays_absents)\n",
    "\n",
    "#suppression des US dans df_cpi_pivot :\n",
    "df_cpi_pivot = df_cpi_pivot[~df_cpi_pivot['geo'].isin(['United States'])]"
   ]
  },
  {
   "cell_type": "code",
   "execution_count": null,
   "metadata": {},
   "outputs": [],
   "source": [
    "# problème: les données sont mensuelles et elles n'existent pas en trimestriel sur eurostat : on va faire utiliser la moyenne pour chaque trimestre\n",
    "\n",
    "# Convertir 'TIME_PERIOD' en datetime\n",
    "df_cpi=df_cpi_pivot\n",
    "df_cpi['TIME_PERIOD'] = pd.to_datetime(df_cpi['TIME_PERIOD'], format='%Y-%m')\n",
    "\n",
    "# Ajouter une colonne 'quTIME_PERIODarter' en fonction de l'année et du mois\n",
    "df_cpi['TIME_PERIOD'] = df_cpi['TIME_PERIOD'].dt.to_period('Q')\n",
    "\n",
    "# Regrouper par pays et trimestre, puis prendre la moyenne\n",
    "df_cpi_trimestriel = df_cpi.groupby(['geo', 'TIME_PERIOD'])[['All-items HICP','Overall index excluding energy, food, alcohol and tobacco']].mean().reset_index()\n",
    "df_cpi_trimestriel['TIME_PERIOD'] = df_cpi_trimestriel['TIME_PERIOD'].astype(str).str.replace('Q', '-Q')\n",
    "\n",
    "df_cpi_trimestriel\n"
   ]
  },
  {
   "cell_type": "code",
   "execution_count": 126,
   "metadata": {},
   "outputs": [],
   "source": [
    "# renommer les variables de tous les df pour qu'elles soient uniformes \n",
    "df_working_hours_long_eurostat = df_working_hours_long_eurostat.rename(columns={'geo': 'country', 'OBS_VALUE': 'working_hours'})\n",
    "df_cpi_trimestriel = df_cpi_trimestriel.rename(columns={'geo': 'country'})\n",
    "df_ST_IR = df_ST_IR.rename(columns={'Reference area': 'country', 'OBS_VALUE': 'short term'})\n",
    "df_LT_IR = df_LT_IR.rename(columns={'Reference area': 'country', 'OBS_VALUE': 'long term'})\n",
    "df_GDP_selected = df_GDP_selected.rename(columns={'geo': 'country', 'OBS_VALUE': 'gdp'})\n",
    "\n",
    "\n"
   ]
  },
  {
   "cell_type": "code",
   "execution_count": null,
   "metadata": {},
   "outputs": [],
   "source": [
    "# Maintenant on merge\n",
    "\n",
    "from functools import reduce\n",
    "\n",
    "\n",
    "# Liste de DataFrames à merger\n",
    "dfs = [df_GDP_selected, df_ST_IR, df_LT_IR, df_working_hours_long_eurostat,df_cpi_trimestriel ]  \n",
    "\n",
    "# Fusionner tous les DataFrames de la liste\n",
    "df_merged = reduce(lambda left, right: left.merge(right, on=['country', 'TIME_PERIOD'], how='outer'), dfs)\n",
    "df_merged\n",
    "\n"
   ]
  }
 ],
 "metadata": {
  "kernelspec": {
   "display_name": "base",
   "language": "python",
   "name": "python3"
  },
  "language_info": {
   "codemirror_mode": {
    "name": "ipython",
    "version": 3
   },
   "file_extension": ".py",
   "mimetype": "text/x-python",
   "name": "python",
   "nbconvert_exporter": "python",
   "pygments_lexer": "ipython3",
   "version": "3.12.7"
  }
 },
 "nbformat": 4,
 "nbformat_minor": 2
}
