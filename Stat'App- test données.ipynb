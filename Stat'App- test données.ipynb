{
 "cells": [
  {
   "cell_type": "code",
   "execution_count": 2,
   "metadata": {},
   "outputs": [
    {
     "name": "stdout",
     "output_type": "stream",
     "text": [
      "                    DATAFLOW        LAST UPDATE     freq  \\\n",
      "0       ESTAT:EI_CPHI_M(1.0)  17/01/25 11:00:00  Monthly   \n",
      "1       ESTAT:EI_CPHI_M(1.0)  17/01/25 11:00:00  Monthly   \n",
      "2       ESTAT:EI_CPHI_M(1.0)  17/01/25 11:00:00  Monthly   \n",
      "3       ESTAT:EI_CPHI_M(1.0)  17/01/25 11:00:00  Monthly   \n",
      "4       ESTAT:EI_CPHI_M(1.0)  17/01/25 11:00:00  Monthly   \n",
      "...                      ...                ...      ...   \n",
      "986744  ESTAT:EI_CPHI_M(1.0)  17/01/25 11:00:00  Monthly   \n",
      "986745  ESTAT:EI_CPHI_M(1.0)  17/01/25 11:00:00  Monthly   \n",
      "986746  ESTAT:EI_CPHI_M(1.0)  17/01/25 11:00:00  Monthly   \n",
      "986747  ESTAT:EI_CPHI_M(1.0)  17/01/25 11:00:00  Monthly   \n",
      "986748  ESTAT:EI_CPHI_M(1.0)  17/01/25 11:00:00  Monthly   \n",
      "\n",
      "                                             unit  \\\n",
      "0       Harmonized consumer price index, 2015=100   \n",
      "1       Harmonized consumer price index, 2015=100   \n",
      "2       Harmonized consumer price index, 2015=100   \n",
      "3       Harmonized consumer price index, 2015=100   \n",
      "4       Harmonized consumer price index, 2015=100   \n",
      "...                                           ...   \n",
      "986744                       Growth rate (t/t-12)   \n",
      "986745                       Growth rate (t/t-12)   \n",
      "986746                       Growth rate (t/t-12)   \n",
      "986747                       Growth rate (t/t-12)   \n",
      "986748                       Growth rate (t/t-12)   \n",
      "\n",
      "                                                    s_adj  \\\n",
      "0       Unadjusted data (i.e. neither seasonally adjus...   \n",
      "1       Unadjusted data (i.e. neither seasonally adjus...   \n",
      "2       Unadjusted data (i.e. neither seasonally adjus...   \n",
      "3       Unadjusted data (i.e. neither seasonally adjus...   \n",
      "4       Unadjusted data (i.e. neither seasonally adjus...   \n",
      "...                                                   ...   \n",
      "986744  Unadjusted data (i.e. neither seasonally adjus...   \n",
      "986745  Unadjusted data (i.e. neither seasonally adjus...   \n",
      "986746  Unadjusted data (i.e. neither seasonally adjus...   \n",
      "986747  Unadjusted data (i.e. neither seasonally adjus...   \n",
      "986748  Unadjusted data (i.e. neither seasonally adjus...   \n",
      "\n",
      "                                                    indic      geo  \\\n",
      "0       HICP - All items (HICP=harmonized index of con...  Albania   \n",
      "1       HICP - All items (HICP=harmonized index of con...  Albania   \n",
      "2       HICP - All items (HICP=harmonized index of con...  Albania   \n",
      "3       HICP - All items (HICP=harmonized index of con...  Albania   \n",
      "4       HICP - All items (HICP=harmonized index of con...  Albania   \n",
      "...                                                   ...      ...   \n",
      "986744                              HICP - Total services  Kosovo*   \n",
      "986745                              HICP - Total services  Kosovo*   \n",
      "986746                              HICP - Total services  Kosovo*   \n",
      "986747                              HICP - Total services  Kosovo*   \n",
      "986748                              HICP - Total services  Kosovo*   \n",
      "\n",
      "       TIME_PERIOD  OBS_VALUE OBS_FLAG  CONF_STATUS  \n",
      "0          2015-12     100.00        d          NaN  \n",
      "1          2016-01     101.00        d          NaN  \n",
      "2          2016-02     102.28        d          NaN  \n",
      "3          2016-03     102.80        d          NaN  \n",
      "4          2016-04     102.31        d          NaN  \n",
      "...            ...        ...      ...          ...  \n",
      "986744     2024-08       3.30        d          NaN  \n",
      "986745     2024-09       1.10        d          NaN  \n",
      "986746     2024-10       1.60        d          NaN  \n",
      "986747     2024-11       1.20        d          NaN  \n",
      "986748     2024-12       1.10        d          NaN  \n",
      "\n",
      "[986749 rows x 11 columns]\n"
     ]
    }
   ],
   "source": [
    "import pandas as pd\n",
    "df= pd.read_csv(\"estat_ei_cphi_m_en.csv\", encoding='utf-8')\n",
    "print(df)\n"
   ]
  }
 ],
 "metadata": {
  "kernelspec": {
   "display_name": "Python 3",
   "language": "python",
   "name": "python3"
  },
  "language_info": {
   "codemirror_mode": {
    "name": "ipython",
    "version": 3
   },
   "file_extension": ".py",
   "mimetype": "text/x-python",
   "name": "python",
   "nbconvert_exporter": "python",
   "pygments_lexer": "ipython3",
   "version": "3.12.8"
  }
 },
 "nbformat": 4,
 "nbformat_minor": 2
}
