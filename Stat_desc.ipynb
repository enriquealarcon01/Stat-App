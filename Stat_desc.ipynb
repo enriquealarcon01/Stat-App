{
 "cells": [
  {
   "cell_type": "code",
   "execution_count": null,
   "metadata": {},
   "outputs": [],
   "source": [
    "import matplotlib.pyplot as plt\n",
    "import numpy as np\n",
    "\n",
    "# Vérifier si la colonne pour la France existe\n",
    "if 'WH_France' in df_working_hours.columns:\n",
    "    plt.figure(figsize=(14, 6))  # Taille du graphique\n",
    "\n",
    "    plt.plot(df_working_hours.index, df_working_hours['WH_France'], marker='o', linestyle='-')\n",
    "\n",
    "    plt.xlabel(\"Période\")\n",
    "    plt.ylabel(\"Heures travaillées en France\")\n",
    "    plt.title(\"Évolution des heures travaillées en France (1995-2024)\")\n",
    "\n",
    "    # Sélectionner un sous-ensemble des labels de l'axe X pour éviter la surcharge\n",
    "    num_ticks = 10  # Nombre de labels affichés sur l'axe X\n",
    "    indices = np.linspace(0, len(df_working_hours.index) - 1, num_ticks, dtype=int)  # Espacement des indices\n",
    "    plt.xticks(df_working_hours.index[indices], rotation=45)  # Appliquer les labels espacés\n",
    "\n",
    "    plt.grid(True)\n",
    "    plt.show()\n",
    "else:\n",
    "    print(\"La colonne 'FR' n'existe pas. Vérifiez le nom des colonnes dans df_working_hours.\")"
   ]
  },
  {
   "cell_type": "markdown",
   "metadata": {},
   "source": [
    "Évolution des Heures travaillées en France"
   ]
  },
  {
   "cell_type": "code",
   "execution_count": null,
   "metadata": {},
   "outputs": [],
   "source": [
    "import matplotlib.pyplot as plt\n",
    "import numpy as np\n",
    "\n",
    "# Vérifier si la colonne PIB_France existe\n",
    "if 'PIB_France' in df_GDP_pivot.columns:\n",
    "    plt.figure(figsize=(14, 6))  # Augmente la taille du graphique\n",
    "\n",
    "    plt.plot(df_GDP_pivot.index, df_GDP_pivot['PIB_France'], marker='o', linestyle='-')\n",
    "    \n",
    "    plt.xlabel(\"Période\")\n",
    "    plt.ylabel(\"PIB de la France\")\n",
    "    plt.title(\"Évolution du PIB de la France (1995-2024)\")\n",
    "\n",
    "    # Sélectionner un sous-ensemble des labels de l'axe X pour éviter la surcharge\n",
    "    num_ticks = 8  # Nombre de labels affichés sur l'axe X\n",
    "    indices = np.linspace(0, len(df_GDP_pivot.index) - 1, num_ticks, dtype=int)  # Espacement des indices\n",
    "    plt.xticks(df_GDP_pivot.index[indices], rotation=45)  # Appliquer les labels espacés\n",
    "\n",
    "    plt.grid(True)\n",
    "    plt.show()\n",
    "else:\n",
    "    print(\"La colonne 'PIB_France' n'existe pas. Vérifiez le nom des colonnes dans df_GDP_pivot.\")"
   ]
  },
  {
   "cell_type": "markdown",
   "metadata": {},
   "source": [
    "Évolution du PIB en France\n"
   ]
  }
 ],
 "metadata": {
  "kernelspec": {
   "display_name": "base",
   "language": "python",
   "name": "python3"
  },
  "language_info": {
   "name": "python",
   "version": "3.12.7"
  }
 },
 "nbformat": 4,
 "nbformat_minor": 2
}
