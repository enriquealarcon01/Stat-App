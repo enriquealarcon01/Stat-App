{
 "cells": [
  {
   "cell_type": "markdown",
   "metadata": {},
   "source": [
    "# **Récupération et formatage des données**\n",
    "---\n"
   ]
  },
  {
   "cell_type": "markdown",
   "metadata": {},
   "source": [
    "## Introduction<a class=\"anchor\" id=\"partie1\"></a>"
   ]
  },
  {
   "cell_type": "markdown",
   "metadata": {},
   "source": [
    "Ce notebook contient les codes nécessaires à la récupération et au formatage des données. Les données ont été récupéré sur le site de [l'OCDE](https://data-explorer.oecd.org/) et sur celui [d'Eurostat](https://ec.europa.eu/eurostat/fr/data/database). \n",
    "\n",
    "Nous récupérons les données en csv et les transformons en un unique csv contenant pour chacun des pays les valeurs trimestrielles (de Q1 en 1995 à Q3 de 2024 <span style=\"color:red ; font-size:20px;\"> faire attention les working hours ne vont qu'au Q3 de 2024 </span>) de PIB, d'heure de travail, des taux d'intérêts à court et long terme et de l'indice à la consommation des prix. Pour l'instant il nous manque aussi les anticipations des taux et les rendements des marchés financiers. Le csv final de ce notebook servira de base de données par la suite. \n",
    "\n",
    "<span style=\"color:red ; font-size:20px;\"> Compléter avec les variables manquantes et mettre une liste des pays (si on ne la met pas ailleurs) </span>"
   ]
  },
  {
   "cell_type": "markdown",
   "metadata": {},
   "source": [
    "## Sommaire\n",
    "\n",
    "* [Introduction](#partie1)\n",
    "* [Récupération des données](#partie2)\n",
    "    * [Données de PIB](#partie21)\n",
    "    * [Données d'heures de travail](#partie22)"
   ]
  },
  {
   "cell_type": "markdown",
   "metadata": {},
   "source": [
    "## Récupération des données <a class=\"anchor\" id=\"partie2\"></a>"
   ]
  },
  {
   "cell_type": "code",
   "execution_count": 1,
   "metadata": {},
   "outputs": [
    {
     "name": "stdout",
     "output_type": "stream",
     "text": [
      "Requirement already satisfied: pandas in /opt/conda/lib/python3.12/site-packages (from -r requirements.txt (line 1)) (2.2.3)\n",
      "Requirement already satisfied: numpy in /opt/conda/lib/python3.12/site-packages (from -r requirements.txt (line 2)) (2.2.3)\n",
      "Requirement already satisfied: python-dateutil>=2.8.2 in /opt/conda/lib/python3.12/site-packages (from pandas->-r requirements.txt (line 1)) (2.9.0.post0)\n",
      "Requirement already satisfied: pytz>=2020.1 in /opt/conda/lib/python3.12/site-packages (from pandas->-r requirements.txt (line 1)) (2024.1)\n",
      "Requirement already satisfied: tzdata>=2022.7 in /opt/conda/lib/python3.12/site-packages (from pandas->-r requirements.txt (line 1)) (2025.1)\n",
      "Requirement already satisfied: six>=1.5 in /opt/conda/lib/python3.12/site-packages (from python-dateutil>=2.8.2->pandas->-r requirements.txt (line 1)) (1.17.0)\n"
     ]
    }
   ],
   "source": [
    "!pip install -r requirements.txt"
   ]
  },
  {
   "cell_type": "code",
   "execution_count": 4,
   "metadata": {},
   "outputs": [],
   "source": [
    "import numpy as np \n",
    "import pandas as pd"
   ]
  },
  {
   "cell_type": "markdown",
   "metadata": {},
   "source": [
    "### Données de PIB <a class=\"anchor\" id=\"partie21\"></a>"
   ]
  },
  {
   "cell_type": "markdown",
   "metadata": {},
   "source": [
    "Nous extrayons les données relatives au PIB depuis Eurostat\n"
   ]
  },
  {
   "cell_type": "code",
   "execution_count": 8,
   "metadata": {},
   "outputs": [],
   "source": [
    "# Charge les données depuis le csv \n",
    "df_GDP = pd.read_csv(\"Données_extraites/GDP_trimestriel_eurostat.csv\", encoding='utf-8')\n",
    "\n",
    "# Sélectionne les colonnes nécessaires\n",
    "df_GDP_selected = df_GDP[['geo', 'TIME_PERIOD', 'OBS_VALUE']]\n",
    "\n",
    "# Change le format avec les périodes en index et les noms des pays en noms de colonnes\n",
    "df_GDP_pivot = df_GDP_selected.pivot_table(index='TIME_PERIOD', columns='geo', values='OBS_VALUE')\n",
    "\n",
    "# Transforme le nom des colonnes en PIB_Nom_du_pays\n",
    "df_GDP_pivot.columns = [f'PIB_{col}' for col in df_GDP_pivot.columns]\n",
    "df_GDP_pivot.columns = [col.replace(\" \", \"_\") for col in df_GDP_pivot.columns]"
   ]
  },
  {
   "cell_type": "code",
   "execution_count": 9,
   "metadata": {},
   "outputs": [
    {
     "name": "stdout",
     "output_type": "stream",
     "text": [
      "             PIB_Albania  PIB_Austria  PIB_Belgium  \\\n",
      "TIME_PERIOD                                          \n",
      "1995-Q1              NaN      43186.6      53331.5   \n",
      "1995-Q2              NaN      46786.8      56119.3   \n",
      "1995-Q3              NaN      46335.5      53741.7   \n",
      "1995-Q4              NaN      47362.4      57115.3   \n",
      "1996-Q1              NaN      44641.2      54240.0   \n",
      "...                  ...          ...          ...   \n",
      "2023-Q4           6084.2     122280.3     158085.7   \n",
      "2024-Q1           5428.8     117304.1     147812.8   \n",
      "2024-Q2           6513.1     120746.2     154840.7   \n",
      "2024-Q3           6462.9     118315.9     147978.8   \n",
      "2024-Q4              NaN          NaN          NaN   \n",
      "\n",
      "             PIB_Bosnia_and_Herzegovina  PIB_Bulgaria  PIB_Croatia  \\\n",
      "TIME_PERIOD                                                          \n",
      "1995-Q1                             NaN        3175.8       3998.7   \n",
      "1995-Q2                             NaN        3162.8       4481.5   \n",
      "1995-Q3                             NaN        3796.9       4599.3   \n",
      "1995-Q4                             NaN        4339.3       4443.3   \n",
      "1996-Q1                             NaN        3757.2       4155.4   \n",
      "...                                 ...           ...          ...   \n",
      "2023-Q4                          6603.6       27190.9      19504.2   \n",
      "2024-Q1                          6224.7       22171.0      18370.7   \n",
      "2024-Q2                          6505.9       24615.2      21259.2   \n",
      "2024-Q3                          6744.2       27492.5      24637.9   \n",
      "2024-Q4                             NaN           NaN          NaN   \n",
      "\n",
      "             PIB_Cyprus  PIB_Czechia  PIB_Denmark  PIB_Estonia  ...  \\\n",
      "TIME_PERIOD                                                     ...   \n",
      "1995-Q1          1730.6      10278.9      34078.4        647.2  ...   \n",
      "1995-Q2          1928.9      11487.7      35871.0        766.7  ...   \n",
      "1995-Q3          1984.4      12011.0      34625.0        764.9  ...   \n",
      "1995-Q4          1951.0      12547.9      36803.0        810.2  ...   \n",
      "1996-Q1          1806.6      11817.6      35666.0        810.8  ...   \n",
      "...                 ...          ...          ...          ...  ...   \n",
      "2023-Q4          8018.3      80924.4      96868.6      10167.4  ...   \n",
      "2024-Q1          7847.3      73617.4      91782.6       8928.0  ...   \n",
      "2024-Q2          8266.2      81119.0      98319.4       9770.0  ...   \n",
      "2024-Q3          8716.5      81382.2      98324.5      10060.0  ...   \n",
      "2024-Q4             NaN          NaN          NaN          NaN  ...   \n",
      "\n",
      "             PIB_Portugal  PIB_Romania  PIB_Serbia  PIB_Slovakia  \\\n",
      "TIME_PERIOD                                                        \n",
      "1995-Q1           21844.5       6370.1      6454.4        3608.0   \n",
      "1995-Q2           22939.5       6573.1      7824.6        4193.6   \n",
      "1995-Q3           22831.1       8410.6      8671.4        3935.9   \n",
      "1995-Q4           23393.0       7093.1      6061.2        3773.0   \n",
      "1996-Q1           22578.3       5736.8      3836.3        4047.6   \n",
      "...                   ...          ...         ...           ...   \n",
      "2023-Q4           69392.1      97353.1     20553.9       32337.7   \n",
      "2024-Q1           66207.1      70386.4     18778.1       29968.5   \n",
      "2024-Q2           70879.5      84568.9     20490.7       32467.5   \n",
      "2024-Q3           72667.6      94793.7     20655.3       33655.5   \n",
      "2024-Q4               NaN          NaN         NaN           NaN   \n",
      "\n",
      "             PIB_Slovenia  PIB_Spain  PIB_Sweden  PIB_Switzerland  \\\n",
      "TIME_PERIOD                                                         \n",
      "1995-Q1            3698.7   109201.7     49061.2          64546.7   \n",
      "1995-Q2            4215.6   118545.9     49347.7          67655.1   \n",
      "1995-Q3            4192.8   115932.3     47946.2          67566.8   \n",
      "1995-Q4            4243.8   126388.4     58220.1          70342.0   \n",
      "1996-Q1            3796.9   120868.5     55464.8          67670.1   \n",
      "...                   ...        ...         ...              ...   \n",
      "2023-Q4           16574.7   396068.0    143722.2         213788.9   \n",
      "2024-Q1           15715.2   377866.0    137093.7         212946.8   \n",
      "2024-Q2           16806.2   400518.0    142633.5         211841.3   \n",
      "2024-Q3           17042.5   393855.0    134682.5         216999.8   \n",
      "2024-Q4               NaN   420897.0         NaN              NaN   \n",
      "\n",
      "             PIB_Türkiye  PIB_United_Kingdom  \n",
      "TIME_PERIOD                                   \n",
      "1995-Q1              NaN            257589.8  \n",
      "1995-Q2              NaN            248722.5  \n",
      "1995-Q3              NaN            255889.4  \n",
      "1995-Q4              NaN            263308.8  \n",
      "1996-Q1              NaN            262343.7  \n",
      "...                  ...                 ...  \n",
      "2023-Q4         278047.3                 NaN  \n",
      "2024-Q1         263622.5                 NaN  \n",
      "2024-Q2         284656.9                 NaN  \n",
      "2024-Q3         322795.0                 NaN  \n",
      "2024-Q4              NaN                 NaN  \n",
      "\n",
      "[120 rows x 38 columns]\n"
     ]
    }
   ],
   "source": [
    "print(df_GDP_pivot)"
   ]
  },
  {
   "cell_type": "markdown",
   "metadata": {},
   "source": [
    "### Données de d'heure de travail <a class=\"anchor\" id=\"partie22\"></a>"
   ]
  },
  {
   "cell_type": "markdown",
   "metadata": {},
   "source": [
    "Nous extrayons les données relatives aux heures de travail depuis Eurostat. Nous avons trois base de données pour les heures de travail. Une base annuelle de 1995 à 1997, et deux bases trimestrielles allant du Q1 de 1998 au Q4 de 2007 et du Q1 de 2008 au Q3 de 2024."
   ]
  },
  {
   "cell_type": "code",
   "execution_count": null,
   "metadata": {},
   "outputs": [],
   "source": [
    "# Charge les données de 1995 à 1997\n",
    "df_working_hours_95_97 = pd.read_csv(\"Données_extraites/Working_hours_eurostat_1995-1997.csv\", encoding='utf-8')\n",
    "\n",
    "# Sélectionne les colonnes nécessaires\n",
    "df_working_hours_95_97_selected = df_working_hours_95_97[['geo', 'TIME_PERIOD', 'OBS_VALUE']]\n",
    "\n"
   ]
  }
 ],
 "metadata": {
  "kernelspec": {
   "display_name": "base",
   "language": "python",
   "name": "python3"
  },
  "language_info": {
   "codemirror_mode": {
    "name": "ipython",
    "version": 3
   },
   "file_extension": ".py",
   "mimetype": "text/x-python",
   "name": "python",
   "nbconvert_exporter": "python",
   "pygments_lexer": "ipython3",
   "version": "3.12.7"
  }
 },
 "nbformat": 4,
 "nbformat_minor": 2
}
