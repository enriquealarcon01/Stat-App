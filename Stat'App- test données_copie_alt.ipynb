{
 "cells": [
  {
   "cell_type": "code",
   "execution_count": 3,
   "metadata": {},
   "outputs": [],
   "source": [
    "import pandas as pd"
   ]
  },
  {
   "cell_type": "markdown",
   "metadata": {},
   "source": [
    "Données sur le PIB\n",
    "\n",
    "\n",
    "Nom du dataframe: df_GDP"
   ]
  },
  {
   "cell_type": "markdown",
   "metadata": {},
   "source": [
    "Cette copie comporte des data frames similaires à ceux du premier document. Seule différence: les indices comportent les dates (apparemment c'est mieux pour une analyse en séries temporelles)"
   ]
  },
  {
   "cell_type": "code",
   "execution_count": null,
   "metadata": {},
   "outputs": [],
   "source": [
    "import pandas as pd\n",
    "\n",
    "# Extraction des données relatives au GDP (Données Eurostat)\n",
    "'''\n",
    "Informations générales\n",
    "Online data code:namq_10_gdp\n",
    "Unit of measure: Current prices-million euro\n",
    "'''\n",
    "\n",
    "# Charger les données\n",
    "df_GDP = pd.read_csv(\"Données_extraites/GDP_trimestriel_eurostat.csv\", encoding='utf-8')\n",
    "#print(df_GDP.head())\n",
    "\n",
    "# Choix des colonnes rélévantes\n",
    "df_GDP_selected = df_GDP[['geo', 'TIME_PERIOD', 'OBS_VALUE']]\n",
    "#print(df_GDP_selected.head())\n",
    "\n",
    "# Obtention des données de panel\n",
    "df_GDP_pivot = df_GDP_selected.pivot_table(index='TIME_PERIOD', columns='geo', values='OBS_VALUE', aggfunc='first')\n",
    "\n",
    "# Renommer les colonnes pour inclure un préfixe \"PIB_\" suivi du nom du pays\n",
    "df_GDP_pivot.columns = [f'PIB_{col}' for col in df_GDP_pivot.columns]\n",
    "\n",
    "# Vérification\n",
    "df_GDP=df_GDP_pivot\n",
    "df_GDP\n",
    "\n"
   ]
  },
  {
   "cell_type": "markdown",
   "metadata": {},
   "source": [
    "Dans ce qui suit: nous allons essayer de concatener trois datasets:\n",
    "- 2 comportant des données trimestrielles (1998-2008 et 2008-2024)\n",
    "- 1 comporatant des données annuelles (1995-1998)\n",
    "\n",
    "Nous avons gardé la même source (Eurostat) afin d'avoir des estimations homogènes\n"
   ]
  },
  {
   "cell_type": "code",
   "execution_count": null,
   "metadata": {},
   "outputs": [],
   "source": [
    "import pandas as pd\n",
    "\n",
    "# Extraction des données Working Hours per year (Données Eurostat: 1995-1997)\n",
    "'''\n",
    "Informations générales\n",
    "Lien: https://doi.org/10.2908/LFSA_EWHANA\n",
    "Code: lfsa_ewhana\n",
    "'''\n",
    "\n",
    "# Charger les données\n",
    "df_working_hours_eurostat_an = pd.read_csv(\"Données_extraites/Working_hours_eurostat_1995-1998.csv\", encoding='utf-8')\n",
    "#print(df_working_hours_eurostat_an.head())\n",
    "\n",
    "# Choix des colonnes rélévantes\n",
    "df_working_hours_selected_eurostat_an = df_working_hours_eurostat_an[['geo', 'TIME_PERIOD', 'OBS_VALUE']]\n",
    "#print(df_working_hours_selected_eurostat_an.head())\n",
    "\n",
    "# Obtention des données de panel\n",
    "df_working_hours_pivot_eurostat_an = df_working_hours_selected_eurostat_an.pivot_table(index='TIME_PERIOD', columns='geo', values='OBS_VALUE', aggfunc='first')\n",
    "\n",
    "# Renommer les colonnes pour inclure un préfixe \"WorkingHours_\" suivi du nom du pays\n",
    "df_working_hours_pivot_eurostat_an.columns = [f'Working_Hours_{col}' for col in df_working_hours_pivot_eurostat_an.columns]\n",
    "\n",
    "# Vérifier que les dates sont bien en index et les pays sont renommés\n",
    "#print(df_working_hours_pivot_eurostat_an.head())\n",
    "df_working_hours_pivot_eurostat_an\n"
   ]
  },
  {
   "cell_type": "code",
   "execution_count": null,
   "metadata": {},
   "outputs": [],
   "source": [
    "# transformation: données annuelles --> trimestrielles // Option 1: recopier les données annuelles 4 fois\n",
    "\n",
    "# Création d'une copie du dataframe original\n",
    "df_working_hours_quarterly_1 = df_working_hours_pivot_eurostat_an.copy()\n",
    "\n",
    "# Répéter chaque année 4 fois\n",
    "df_working_hours_quarterly_1 = df_working_hours_pivot_eurostat_an.loc[df_working_hours_pivot_eurostat_an.index.repeat(4)]\n",
    "\n",
    "# Générer un nouvel index trimestriel sous le format 'YYYY-QX'\n",
    "quarters = ['Q1', 'Q2', 'Q3', 'Q4']\n",
    "df_working_hours_quarterly_1['TIME_PERIOD'] = [f\"{year}-{quarter}\" for year in df_working_hours_pivot_eurostat_an.index for quarter in quarters]\n",
    "\n",
    "# Remettre 'TIME_PERIOD' comme index\n",
    "df_working_hours_quarterly_1 = df_working_hours_quarterly_1.set_index('TIME_PERIOD')\n",
    "\n",
    "# Renommer les colonnes pour éviter la duplication des préfixes dans les noms des colonnes\n",
    "df_working_hours_quarterly_1.columns = [col.replace(\"Working_Hours_Working_Hours\", \"Working_Hours\") for col in df_working_hours_quarterly_1.columns]\n",
    "\n",
    "# Vérificatino\n",
    "df_working_hours_quarterly_1\n",
    "\n",
    "\n",
    "\n",
    "\n"
   ]
  },
  {
   "cell_type": "code",
   "execution_count": null,
   "metadata": {},
   "outputs": [],
   "source": [
    "#transformation: données annuelles--> trimestrielles // Option 2: Interpolation\n",
    "# Création d'une copie du dataframe original\n",
    "df_working_hours_quarterly_2 = df_working_hours_pivot_eurostat_an.copy()\n",
    "\n",
    "\n",
    "# Idée pour l'interpolation: recopier la valeur annuelle pour le premier trimestre et\n",
    "# ajouter des lignes \"vides\" entre le premier trimestre des deux années consécutives, puis faire l'interpolation\n",
    "new_index = []\n",
    "values = []\n",
    "\n",
    "for year in df_working_hours_quarterly_2.index:\n",
    "    # Ajouter Q1 pour chaque année (avec la valeur annuelle)\n",
    "    new_index.append(f\"{year}-Q1\")\n",
    "    values.append(df_working_hours_quarterly_2.loc[year].values)\n",
    "    \n",
    "    # Ajouter Q2, Q3 et Q4 (lignes vides pour l'instant)\n",
    "    for quarter in ['Q2', 'Q3', 'Q4']:\n",
    "        new_index.append(f\"{year}-{quarter}\")\n",
    "        values.append([None] * len(df_working_hours_quarterly_2.columns))\n",
    "\n",
    "# Création d'un nouveau DataFrame trimestriel avec les mêmes colonnes\n",
    "df_working_hours_quarterly_2 = pd.DataFrame(values, index=new_index, columns=df_working_hours_quarterly_2.columns)\n",
    "\n",
    "#On met le nom de \"TIME_PERIOD\"\n",
    "df_working_hours_quarterly_2.index.name = 'TIME_PERIOD'\n",
    "\n",
    "# Interpolation linéaire\n",
    "df_working_hours_quarterly_2 = df_working_hours_quarterly_2.interpolate(method='linear')\n",
    "\n",
    "\n",
    "# Renommer les colonnes pour éviter la duplication des préfixes dans les noms des colonnes\n",
    "df_working_hours_quarterly_2.columns = [col.replace(\"Working_Hours_Working_Hours\", \"Working_Hours\") for col in df_working_hours_quarterly_1.columns]\n",
    "\n",
    "#Vérification\n",
    "df_working_hours_quarterly_2\n"
   ]
  },
  {
   "cell_type": "code",
   "execution_count": null,
   "metadata": {},
   "outputs": [],
   "source": [
    "# Extraction des données Working Hours trimestriels (Données Eurostat à partir de 2008)\n",
    "'''\n",
    "Informations générales: données trimestrielles à partir de 2008\n",
    "Online data code: lfsq_ewhan2\n",
    "Unit of measure: Hours per year per person\n",
    "'''\n",
    "\n",
    "# Charger les données\n",
    "df_working_hours_eurostat_1 = pd.read_csv(\"Données_extraites/Working_hours_eurostat.csv\", encoding='utf-8')\n",
    "#print(df_working_hours_eurostat_1.head())\n",
    "\n",
    "# Choix des colonnes rélévantes\n",
    "df_working_hours_selected_eurostat_1 = df_working_hours_eurostat_1[['geo', 'TIME_PERIOD', 'OBS_VALUE']]\n",
    "#print(df_working_hours_selected_eurostat_1.head())\n",
    "\n",
    "# Obtention des données de panel\n",
    "df_working_hours_pivot_eurostat_1 = df_working_hours_selected_eurostat_1.pivot_table(index='TIME_PERIOD', columns='geo', values='OBS_VALUE', aggfunc='first')\n",
    "\n",
    "# Renommer les colonnes pour inclure un préfixe \"WorkingHours_\" suivi du nom du pays\n",
    "df_working_hours_pivot_eurostat_1.columns = [f'Working_Hours_{col}' for col in df_working_hours_pivot_eurostat_1.columns]\n",
    "\n",
    "# Vérifier que les dates sont bien en index et les pays sont renommés\n",
    "#print(df_working_hours_pivot_eurostat_1.head())\n",
    "df_working_hours_pivot_eurostat_1\n",
    "\n",
    "#On change le nom pour simplifier\n",
    "df_working_hours_eurostat_1=df_working_hours_pivot_eurostat_1\n",
    "df_working_hours_eurostat_1\n"
   ]
  },
  {
   "cell_type": "code",
   "execution_count": null,
   "metadata": {},
   "outputs": [],
   "source": [
    "# Extraction des données Working Hours per year (Données Eurostat à partir de 1998-2008)\n",
    "'''\n",
    "Informations générales: données trimestrielles 1998--> 2008\n",
    "Online data code: lfsq_ewhana\n",
    "Source: https://ec.europa.eu/eurostat/databrowser/view/lfsq_ewhana__custom_15382513/default/table?lang=en\n",
    "Unit of measure: Hours per year per person\n",
    "'''\n",
    "\n",
    "# Charger les données\n",
    "df_working_hours_eurostat_2 = pd.read_csv(\"Données_extraites/Working_hours_eurostat_2.csv\", encoding='utf-8')\n",
    "#print(df_GDP.head())\n",
    "\n",
    "# Choix des colonnes rélévantes\n",
    "df_working_hours_selected_eurostat_2 = df_working_hours_eurostat_2[['geo', 'TIME_PERIOD', 'OBS_VALUE']]\n",
    "#print(df_GDP_selected.head())\n",
    "\n",
    "# Obtention des données de panel\n",
    "df_working_hours_pivot_eurostat_2 = df_working_hours_selected_eurostat_2.pivot_table(index='TIME_PERIOD', columns='geo', values='OBS_VALUE', aggfunc='first')\n",
    "\n",
    "# Renommer les colonnes pour inclure un préfixe (par exemple, \"Working_Hours_\")\n",
    "df_working_hours_pivot_eurostat_2.columns = [f'Working_Hours_{col}' for col in df_working_hours_pivot_eurostat_2.columns]\n",
    "\n",
    "# Supprimer les 4 dernières lignes (pour que l'année 2008 ne se répète pas 2 fois lors de la concaténation finale)\n",
    "df_working_hours_pivot_eurostat_2 = df_working_hours_pivot_eurostat_2.iloc[:-4, :]\n",
    "\n",
    "#On change le nom pour simplifier\n",
    "df_working_hours_eurostat_2=df_working_hours_pivot_eurostat_2\n",
    "df_working_hours_eurostat_2\n"
   ]
  },
  {
   "cell_type": "markdown",
   "metadata": {},
   "source": [
    "Ainsi nous obtenons les données sur les Working Hours\n",
    "\n",
    "Nom du data_frame: df_working_hours"
   ]
  },
  {
   "cell_type": "code",
   "execution_count": null,
   "metadata": {},
   "outputs": [],
   "source": [
    "# Concaténation verticale pour fusionner les trois jeux de données \n",
    "# Remarque: pour la période 1995-1997, nous avons pris la méthode par l'interpolation linéaire\n",
    "\n",
    "df_working_hours = pd.concat(\n",
    "    [df_working_hours_quarterly_2, df_working_hours_pivot_eurostat_2, df_working_hours_pivot_eurostat_1], \n",
    "    axis=0\n",
    ")\n",
    "\n",
    "df_working_hours"
   ]
  },
  {
   "cell_type": "markdown",
   "metadata": {},
   "source": [
    "Données des taux d'intérêts\n",
    "\n",
    "Taux court terme : \"Les données se réfèrent aux bons acceptés par la banque/Certificats de dépôt négociables-3 mois.\"\n",
    "Nom du dataframe: df_ST_IR\n",
    "\n",
    "\n",
    "Taux long terme : \"Les données se réfèrent au taux de rendement estimé en clôture des obligations du trésor à 10 ans.\"\n",
    "Nom du dataframe: df_LT_IR"
   ]
  },
  {
   "cell_type": "code",
   "execution_count": null,
   "metadata": {},
   "outputs": [],
   "source": [
    "# Pour le long terme (une possibilité): Long term interest rates\n",
    "'''\n",
    "Source: https://data-explorer.oecd.org/vis?lc=en&pg=0&tm=LONG-TERM%20INTEREST\n",
    "Unit of measure: Percent per annum\n",
    "'''\n",
    "\n",
    "# Charger les données\n",
    "df_LT_IR = pd.read_csv('Données_extraites/Long_term_IR_OCDE.csv', encoding='utf-8')\n",
    "\n",
    "# Choix des colonnes rélévantes\n",
    "df_LT_IR_selected = df_LT_IR[['Reference area', 'TIME_PERIOD', 'OBS_VALUE']]\n",
    "\n",
    "# Obtention des données de panel en format séries temporelles\n",
    "df_LT_IR_pivot = df_LT_IR_selected.pivot_table(index='TIME_PERIOD', columns='Reference area', values='OBS_VALUE', aggfunc='first')\n",
    "\n",
    "# Renommer les colonnes pour inclure le préfixe LT_IR_ (=Long Term Interest Rate)\n",
    "df_LT_IR_pivot.columns = [f'LT_IR_{col}' for col in df_LT_IR_pivot.columns]\n",
    "df_LT_IR_pivot = df_LT_IR_pivot.rename(columns={'LT_IR_Slovak Republic': 'LT_IR_Slovakia'})\n",
    "\n",
    "# On simplifie le nom, et on vérifie\n",
    "df_LT_IR=df_LT_IR_pivot\n",
    "df_LT_IR\n"
   ]
  },
  {
   "cell_type": "code",
   "execution_count": null,
   "metadata": {},
   "outputs": [],
   "source": [
    "# Pour le court terme (une possibilité): short term interest rates\n",
    "\n",
    "'''\n",
    "Informations générales \n",
    "source: https://data-explorer.oecd.org/vis?lc=en&pg=0&tm=LONG-TERM%20INTEREST&snb=21&vw=tb&df[ds]=dsDisseminateFinalDMZ&df[id]=DSD_STES%40DF_FINMARK&df[ag]=OECD.SDD.STES&df[vs]=4.0&dq=GBR%2BROU%2BHRV%2BBGR%2BESP%2BTUR%2BCHE%2BSWE%2BSVN%2BSVK%2BPRT%2BPOL%2BNOR%2BNLD%2BLUX%2BLTU%2BLVA%2BITA%2BIRL%2BISL%2BHUN%2BGRC%2BDEU%2BFRA%2BFIN%2BEST%2BDNK%2BCZE%2BBEL%2BAUT%2BAUS.Q.IRLT.PA.....&to[TIME_PERIOD]=false&pd=1995-Q1%2C\n",
    "Unit of measure: Percent per annum\n",
    "'''\n",
    "\n",
    "df_ST_IR=pd.read_csv('Données_extraites/Short_term_IR_OCDE.csv', encoding='utf-8')\n",
    "\n",
    "# Choix des colonnes rélévantes\n",
    "df_ST_IR_selected = df_ST_IR[['Reference area', 'TIME_PERIOD', 'OBS_VALUE']]\n",
    "\n",
    "# Obtention des données de panel en format séries temporelles\n",
    "df_ST_IR_pivot = df_ST_IR_selected.pivot_table(index='TIME_PERIOD', columns='Reference area', values='OBS_VALUE', aggfunc='first')\n",
    "\n",
    "# Renommer les colonnes pour inclure le préfixe ST_IR_ (=Short Term Interest Rate)\n",
    "df_ST_IR_pivot.columns = [f'ST_IR_{col}' for col in df_ST_IR_pivot.columns]\n",
    "df_ST_IR_pivot = df_ST_IR_pivot.rename(columns={'ST_IR_Slovak Republic': 'ST_IR_Slovakia'})\n",
    "\n",
    "\n",
    "# On simplifie le nom, et on vérifie\n",
    "df_ST_IR=df_ST_IR_pivot\n",
    "df_ST_IR\n"
   ]
  },
  {
   "cell_type": "code",
   "execution_count": null,
   "metadata": {},
   "outputs": [],
   "source": [
    "print(df_GDP.columns)\n",
    "print(df_working_hours.columns)\n",
    "print(df_LT_IR.columns)\n",
    "print(df_ST_IR.columns)\n",
    "\n",
    "\n"
   ]
  },
  {
   "cell_type": "markdown",
   "metadata": {},
   "source": [
    "Import du CPI"
   ]
  },
  {
   "cell_type": "code",
   "execution_count": null,
   "metadata": {},
   "outputs": [],
   "source": [
    "# données téléchargées depuis le site de eurostat\n",
    "# Décompresser le fichier qui était en .gz\n",
    "df_cpi = pd.read_csv(\"estat_prc_hicp_midx_filtered_en.csv.gz\", compression=\"gzip\")\n",
    "df_cpi\n",
    "\n",
    "\n"
   ]
  },
  {
   "cell_type": "code",
   "execution_count": null,
   "metadata": {},
   "outputs": [],
   "source": [
    "# données téléchargées depuis le site de eurostat\n",
    "\n",
    "# décompresser le fichier qui était en .gz\n",
    "df_cpi = pd.read_csv(\"estat_prc_hicp_midx_filtered_en.csv.gz\", compression=\"gzip\")\n",
    "\n",
    "\n",
    "print(df_cpi['geo'].unique())\n",
    "\n",
    "'''\n",
    "# Sélectionner les variables utiles\n",
    "df_cpi = df_cpi[['coicop','geo', 'TIME_PERIOD', 'OBS_VALUE']]\n",
    "print(df_cpi.head())\n",
    "print(df_cpi['coicop'].unique())\n",
    "\n",
    "# mettre les deux variables de cpi différentes dans deux colonnes (car actuellement elles sont en ligne : voir la variable coicop))\n",
    "df_cpi_pivot = df_cpi.pivot(index=['geo', 'TIME_PERIOD'], columns='coicop', values='OBS_VALUE')\n",
    "print(df_cpi_pivot.head())\n",
    "df_cpi_pivot = df_cpi_pivot.reset_index()\n",
    "df_cpi_pivot\n",
    "'''"
   ]
  },
  {
   "cell_type": "code",
   "execution_count": null,
   "metadata": {},
   "outputs": [],
   "source": [
    "#tables en format long à merger : \n",
    "set1 = set(df_working_hours_long_eurostat['geo'].unique())\n",
    "set2 = set(df_cpi_pivot['geo'].unique())\n",
    "set3 = set(df_ST_IR['Reference area'].unique())\n",
    "set4 = set(df_LT_IR['Reference area'].unique())\n",
    "set5 = set(df_GDP_selected['geo'].unique())\n",
    "\n",
    "pays_communs = set1 & set2 & set3 & set4 & set5  # Intersection de tous les ensembles\n",
    "print(\"Pays communs :\", pays_communs)\n",
    "print(\"Nombre de pays communs :\", len(pays_communs))\n",
    "\n"
   ]
  },
  {
   "cell_type": "code",
   "execution_count": null,
   "metadata": {},
   "outputs": [],
   "source": [
    "tous_pays = set1 | set2 | set3 | set4 | set5  # Union de tous les ensembles\n",
    "print(\"Tous les pays :\", tous_pays)\n",
    "\n",
    "for i, (name, dataset) in enumerate([\n",
    "    (\"df_working_hours_long_eurostat\", set1),\n",
    "    (\"df_cpi_pivot\", set2),\n",
    "    (\"df_ST_IR\", set3),\n",
    "    (\"df_LT_IR\", set4),\n",
    "    (\"df_GDP_selected\", set5)\n",
    "]):\n",
    "    pays_absents = tous_pays - dataset  # Pays qui ne sont pas dans cet ensemble\n",
    "    print(f\"Pays absents dans {name} :\", pays_absents)\n",
    "\n",
    "#suppression des US dans df_cpi_pivot :\n",
    "df_cpi_pivot = df_cpi_pivot[~df_cpi_pivot['geo'].isin(['United States'])]"
   ]
  },
  {
   "cell_type": "code",
   "execution_count": null,
   "metadata": {},
   "outputs": [],
   "source": [
    "# problème: les données sont mensuelles et elles n'existent pas en trimestriel sur eurostat : on va faire utiliser la moyenne pour chaque trimestre\n",
    "\n",
    "# Convertir 'TIME_PERIOD' en datetime\n",
    "df_cpi=df_cpi_pivot\n",
    "df_cpi['TIME_PERIOD'] = pd.to_datetime(df_cpi['TIME_PERIOD'], format='%Y-%m')\n",
    "\n",
    "# Ajouter une colonne 'quTIME_PERIODarter' en fonction de l'année et du mois\n",
    "df_cpi['TIME_PERIOD'] = df_cpi['TIME_PERIOD'].dt.to_period('Q')\n",
    "\n",
    "# Regrouper par pays et trimestre, puis prendre la moyenne\n",
    "df_cpi_trimestriel = df_cpi.groupby(['geo', 'TIME_PERIOD'])[['All-items HICP','Overall index excluding energy, food, alcohol and tobacco']].mean().reset_index()\n",
    "df_cpi_trimestriel['TIME_PERIOD'] = df_cpi_trimestriel['TIME_PERIOD'].astype(str).str.replace('Q', '-Q')\n",
    "\n",
    "df_cpi_trimestriel\n"
   ]
  },
  {
   "cell_type": "code",
   "execution_count": 126,
   "metadata": {},
   "outputs": [],
   "source": [
    "# renommer les variables de tous les df pour qu'elles soient uniformes \n",
    "df_working_hours_long_eurostat = df_working_hours_long_eurostat.rename(columns={'geo': 'country', 'OBS_VALUE': 'working_hours'})\n",
    "df_cpi_trimestriel = df_cpi_trimestriel.rename(columns={'geo': 'country'})\n",
    "df_ST_IR = df_ST_IR.rename(columns={'Reference area': 'country', 'OBS_VALUE': 'short term'})\n",
    "df_LT_IR = df_LT_IR.rename(columns={'Reference area': 'country', 'OBS_VALUE': 'long term'})\n",
    "df_GDP_selected = df_GDP_selected.rename(columns={'geo': 'country', 'OBS_VALUE': 'gdp'})\n",
    "\n",
    "\n"
   ]
  },
  {
   "cell_type": "code",
   "execution_count": null,
   "metadata": {},
   "outputs": [],
   "source": [
    "# Maintenant on merge\n",
    "\n",
    "from functools import reduce\n",
    "\n",
    "\n",
    "# Liste de DataFrames à merger\n",
    "dfs = [df_GDP_selected, df_ST_IR, df_LT_IR, df_working_hours_long_eurostat,df_cpi_trimestriel ]  \n",
    "\n",
    "# Fusionner tous les DataFrames de la liste\n",
    "df_merged = reduce(lambda left, right: left.merge(right, on=['country', 'TIME_PERIOD'], how='outer'), dfs)\n",
    "df_merged\n",
    "\n"
   ]
  }
 ],
 "metadata": {
  "kernelspec": {
   "display_name": "Python 3",
   "language": "python",
   "name": "python3"
  },
  "language_info": {
   "codemirror_mode": {
    "name": "ipython",
    "version": 3
   },
   "file_extension": ".py",
   "mimetype": "text/x-python",
   "name": "python",
   "nbconvert_exporter": "python",
   "pygments_lexer": "ipython3",
   "version": "3.12.9"
  }
 },
 "nbformat": 4,
 "nbformat_minor": 2
}
