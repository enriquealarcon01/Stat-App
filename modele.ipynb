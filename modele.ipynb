{
 "cells": [
  {
   "cell_type": "markdown",
   "metadata": {},
   "source": [
    "# **Implémentation du modèle**\n",
    "---"
   ]
  },
  {
   "cell_type": "markdown",
   "metadata": {},
   "source": [
    "## Introduction"
   ]
  },
  {
   "cell_type": "markdown",
   "metadata": {},
   "source": [
    "Ce notebook contient les codes nécessaire à la mise en place du modèle. Le modèle est inspiré de celui de Iacoviello et Navarro : \n",
    "\n",
    "- La première étape consiste à identifier les chocs de politique monétaire, en prenant le réside de la régression du taux d'intérêt sur l'écart d'inflation par rapport à la cible et l'output gap ou le chômage. En réalité Iacoviello et Navarro utilisent des lags et valeurs présentes de l'inflation, des spreads de crédit, du PIB et des lags des taux des fonds fédéraux.\n",
    "Il nous manque donc l'output gap, l'inflation et le chômage de la zone euro\n",
    "- La deuxième étape consiste à estimer l'impact de ces chocs sur l'activité économique (PIB, emploi ...) en régressant ces variables sur les chocs et des variables de contrôles (4 lags du PIB et des trends linéaires et quadratiques)\n",
    "\n"
   ]
  },
  {
   "cell_type": "markdown",
   "metadata": {},
   "source": [
    "## Identification des chocs"
   ]
  },
  {
   "cell_type": "code",
   "execution_count": 9,
   "metadata": {},
   "outputs": [],
   "source": [
    "import numpy as np\n",
    "from sklearn.linear_model import LinearRegression\n",
    "from sklearn.model_selection import train_test_split\n",
    "import sklearn.metrics\n",
    "import matplotlib.pyplot as plt\n",
    "import seaborn as sns\n",
    "import pandas as pd"
   ]
  },
  {
   "cell_type": "markdown",
   "metadata": {},
   "source": [
    "Problème: dans Iacoviello et Navarro, ils régressent le taux d'intérêt sur le PIB etc des US seulement. Or on est dans la zone euro ici, doit-on faire une régression de panel ? "
   ]
  },
  {
   "cell_type": "code",
   "execution_count": null,
   "metadata": {},
   "outputs": [],
   "source": [
    "import pandas as pd\n",
    "import numpy as np\n",
    "import statsmodels.api as sm\n",
    "\n",
    "data = pd.read_pickle('data_final.pkl')\n",
    "\n",
    "# Sélection des colonnes utiles\n",
    "colonnes_utiles = ['federal_funds_rate', 'inflation', 'log_euroarea_gdp', 'corporate_spreads', 'log_foreign_gdp', 'lagged_federal_funds', 'time']\n",
    "data = data[colonnes_utiles]\n",
    "\n",
    "# Création d'une variable de tendance quadratique\n",
    "data['time_squared'] = data['time'] ** 2\n",
    "\n",
    "# Définition de rt=federal funds rate\n",
    "Y = data['federal_funds_rate']\n",
    "\n",
    "# Définir les variables indépendantes\n",
    "X = data[['inflation', 'log_euroarea_gdp', 'corporate_spreads', 'log_foreign_gdp', 'lagged_federal_funds', 'time', 'time_squared']]\n",
    "X = sm.add_constant(X)  # Ajout d'une constante pour l'intercept\n",
    "\n",
    "# Regression\n",
    "model = sm.OLS(Y, X).fit()\n",
    "\n",
    "# Extraire les résidus comme chocs monétaires\n",
    "data['monetary_shocks'] = model.resid\n",
    "\n",
    "# Afficher le résumé de la régression\n",
    "print(model.summary())\n",
    "\n",
    "# Sauvegarder les résultats dans un fichier CSV\n",
    "data[['time', 'monetary_shocks']].to_csv('identified_monetary_shocks.csv', index=False)\n"
   ]
  }
 ],
 "metadata": {
  "kernelspec": {
   "display_name": "Python 3 (ipykernel)",
   "language": "python",
   "name": "python3"
  },
  "language_info": {
   "codemirror_mode": {
    "name": "ipython",
    "version": 3
   },
   "file_extension": ".py",
   "mimetype": "text/x-python",
   "name": "python",
   "nbconvert_exporter": "python",
   "pygments_lexer": "ipython3",
   "version": "3.12.7"
  }
 },
 "nbformat": 4,
 "nbformat_minor": 4
}
