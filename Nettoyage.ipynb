{
 "cells": [
  {
   "cell_type": "markdown",
   "id": "490103b2",
   "metadata": {},
   "source": [
    "# **Nettoyage des données**\n"
   ]
  },
  {
   "cell_type": "code",
   "execution_count": null,
   "id": "6b0d85f7",
   "metadata": {},
   "outputs": [],
   "source": [
    "!pip install -r requirements.txt\n",
    "\n",
    "import numpy as np \n",
    "import pandas as pd\n",
    "import matplotlib.pyplot as plt\n",
    "import matplotlib.ticker as ticker\n",
    "import seaborn as sns\n",
    "import statsmodels.api as sm\n",
    "import statsmodels.tsa.api as tsa\n",
    "import statsmodels.graphics.tsaplots as tsaplots\n",
    "\n",
    "from statsmodels.tsa.arima.model import ARIMA\n",
    "from statsmodels.stats.diagnostic import acorr_ljungbox\n",
    "from statsmodels.tsa.stattools import adfuller\n",
    "from scipy import stats #(pour le calcul des fonctions de répartition)\n",
    "from scipy.signal import savgol_filter\n",
    "\n",
    "from Codes.scrpits_visualisations import (\n",
    "    tracer_evolution,\n",
    "    camembert,\n",
    "    comparer_periodes\n",
    ")\n",
    "\n"
   ]
  },
  {
   "cell_type": "code",
   "execution_count": 2,
   "id": "35df2aeb",
   "metadata": {},
   "outputs": [],
   "source": [
    "#Fonction pour tester tous les ARIMA possibles (somme dans le TD 4 du cours de STL)\n",
    "from itertools import product\n",
    "\n",
    "def evaluate_all_models(data, pmax=5, qmax=5, max_lag=15):\n",
    "    \"\"\"\n",
    "    Teste automatiquement tous les ARIMA(p,0,q) pour p <= pmax et q <= qmax\n",
    "    et retient ceux qui passent les critères :\n",
    "    - Dernier AR significatif\n",
    "    - Dernier MA significatif\n",
    "    - Résidus ≈ bruit blanc (test de Ljung-Box)\n",
    "    \n",
    "    Paramètres:\n",
    "    - data (pd.Series): série temporelle\n",
    "    - pmax (int): ordre max pour p\n",
    "    - qmax (int): ordre max pour q\n",
    "    - max_lag (int): nombre de lags pour le test Ljung-Box\n",
    "    \n",
    "    Retourne:\n",
    "    - modèles_valides (list): couples (p,q) qui passent les critères\n",
    "    \"\"\"\n",
    "    modèles_valides = []\n",
    "    \n",
    "    # Générer toutes les combinaisons (p, q)\n",
    "    all_pq = list(product(range(pmax+1), range(qmax+1)))\n",
    "\n",
    "    for (p, q) in all_pq:\n",
    "        if p == 0 and q == 0:\n",
    "            continue  # Ne pas tester ARIMA(0,0,0)\n",
    "\n",
    "        print(f\"\\nTest du modèle ARIMA({p},0,{q})\")\n",
    "        try:\n",
    "            # Estimation du modèle\n",
    "            model = ARIMA(data, order=(p, 0, q))\n",
    "            fit = model.fit()\n",
    "\n",
    "            # Résumé des coefficients\n",
    "            coef = fit.params\n",
    "            std_errors = fit.bse\n",
    "            t_stats = coef / std_errors\n",
    "            p_values = 2 * (1 - stats.norm.cdf(np.abs(t_stats)))\n",
    "            summary = pd.DataFrame({\n",
    "                'Coef': coef,\n",
    "                'Std Err': std_errors,\n",
    "                't-stat': t_stats,\n",
    "                'p-value': p_values\n",
    "            })\n",
    "\n",
    "            # Vérification des p-values du dernier AR et MA\n",
    "            ar_key = f'ar.L{p}'\n",
    "            ma_key = f'ma.L{q}'\n",
    "            \n",
    "            ar_significatif = (p > 0 and ar_key in summary.index and summary.loc[ar_key, 'p-value'] < 0.05) or (p == 0)\n",
    "            ma_significatif = (q > 0 and ma_key in summary.index and summary.loc[ma_key, 'p-value'] < 0.05) or (q == 0)\n",
    "            \n",
    "            # Test Ljung-Box global\n",
    "            ljung = acorr_ljungbox(fit.resid, lags=[max_lag], return_df=True)\n",
    "            ljung_pvalue = ljung.iloc[0]['lb_pvalue']\n",
    "            ljung_test_ok = ljung_pvalue > 0.05\n",
    "\n",
    "            # Résumé\n",
    "            print(f\" - Dernier AR significatif: {ar_significatif}\")\n",
    "            print(f\" - Dernier MA significatif: {ma_significatif}\")\n",
    "            print(f\" - Ljung-Box p-value = {ljung_pvalue:.4f} -> {'OK' if ljung_test_ok else 'Problème'}\")\n",
    "\n",
    "            if ar_significatif and ma_significatif and ljung_test_ok:\n",
    "                print(\" Modèle retenu.\")\n",
    "                modèles_valides.append((p, q))\n",
    "            else:\n",
    "                print(\" Modèle rejeté.\")\n",
    "\n",
    "        except Exception as e:\n",
    "            print(f\" Problème sur ARIMA({p},0,{q}): {e}\")\n",
    "    \n",
    "    print(\"\\nRésumé : modèles retenus\")\n",
    "    print(modèles_valides)\n",
    "\n",
    "    return modèles_valides\n"
   ]
  },
  {
   "cell_type": "code",
   "execution_count": 3,
   "id": "041154b2",
   "metadata": {},
   "outputs": [],
   "source": [
    "#Fonction pour calculer les AIC et BIC des modèles retenus par la fonction précédente\n",
    "def compute_aic_bic(data, modèles, d=0):\n",
    "    \"\"\"\n",
    "    Calcule AIC et BIC pour une liste de modèles ARIMA(p,d,q) donnés.\n",
    "\n",
    "    Paramètres:\n",
    "    - data (pd.Series): série temporelle\n",
    "    - modèles (list of tuples): liste des (p,q) retenus\n",
    "    - d (int): degré de différenciation (par défaut 0)\n",
    "    \n",
    "    Retourne:\n",
    "    - results (pd.DataFrame): tableau AIC et BIC par modèle\n",
    "    \"\"\"\n",
    "    résultats = []\n",
    "\n",
    "    for (p, q) in modèles:\n",
    "        try:\n",
    "            model = ARIMA(data, order=(p, d, q)).fit()\n",
    "            résultats.append({\n",
    "                'p': p,\n",
    "                'd': d,\n",
    "                'q': q,\n",
    "                'AIC': model.aic,\n",
    "                'BIC': model.bic\n",
    "            })\n",
    "        except Exception as e:\n",
    "            print(f\" Problème pour ARIMA({p},{d},{q}): {e}\")\n",
    "\n",
    "    résultats_df = pd.DataFrame(résultats)\n",
    "    résultats_df = résultats_df.sort_values(by='BIC').reset_index(drop=True)\n",
    "\n",
    "    print(\"\\nTableau AIC et BIC :\")\n",
    "    print(résultats_df)\n",
    "\n",
    "    return résultats_df\n"
   ]
  },
  {
   "cell_type": "code",
   "execution_count": 4,
   "id": "aef32ac7",
   "metadata": {},
   "outputs": [],
   "source": [
    "def backcast_arima(df, col, order, trend=None):\n",
    "    \"\"\"\n",
    "    Backcasting : prédit les valeurs manquantes au début de la série,\n",
    "    en laissant le choix du trend (intercept/drift).\n",
    "\n",
    "    Args\n",
    "    ----\n",
    "    df     : pd.DataFrame contenant la colonne à backcaster.\n",
    "    col    : str, nom de la colonne (avec NaN au début).\n",
    "    order  : tuple (p, d, q), ordre ARIMA.\n",
    "    trend  : {'n', 'c', 't', 'ct'} ou None\n",
    "             - None  : 'n' si d>0, sinon 'c' (ancien comportement)\n",
    "             - 'n'   : pas d’intercept\n",
    "             - 'c'   : intercept en niveaux\n",
    "             - 't'   : drift (constante dans les différences)\n",
    "             - 'ct'  : intercept + drift\n",
    "\n",
    "    Returns\n",
    "    -------\n",
    "    pd.Series des valeurs backcastées alignées sur les NaN initiales.\n",
    "    \"\"\"\n",
    "    y = df[col]\n",
    "    first_valid_ix = y.first_valid_index()\n",
    "    if first_valid_ix is None:\n",
    "        raise ValueError(\"La série est entièrement NaN.\")\n",
    "    n_missing = y.index.get_loc(first_valid_ix)\n",
    "\n",
    "    # Partie observée et inversion\n",
    "    y_obs = y.iloc[n_missing:]\n",
    "    y_rev = y_obs.iloc[::-1]\n",
    "\n",
    "    # Choix automatique du trend si non précisé\n",
    "    p, d, q = order\n",
    "    if trend is None:\n",
    "        trend = 'n' if d > 0 else 'c'\n",
    "\n",
    "    # Ajustement et forecast\n",
    "    model = ARIMA(y_rev, order=order, trend=trend)\n",
    "    res   = model.fit()\n",
    "    fc_rev = res.forecast(steps=n_missing)\n",
    "\n",
    "    # Ré-inversion et alignement\n",
    "    backcast = pd.Series(\n",
    "        fc_rev.values[::-1],\n",
    "        index=y.iloc[:n_missing].index,\n",
    "        name=f'backcast_{col}'\n",
    "    )\n",
    "    return backcast\n"
   ]
  },
  {
   "cell_type": "code",
   "execution_count": 5,
   "id": "65dc3f12",
   "metadata": {},
   "outputs": [],
   "source": [
    "# Importation des données\n",
    "df = pd.read_excel(\"Données_produites/base_de_données_v1.xlsx\")\n",
    "\n",
    "\n",
    "# Indexation\n",
    "df = df.set_index('Unnamed: 0')\n",
    "\n",
    "#Fonction qui construit un vecteur contenant le nom des variables\n",
    "def variables_pays(pays):\n",
    "    variable_pays=[f'CPI_{pays}',f'PIB_{pays}',f'LT_IR_{pays}',f'ST_IR_{pays}',f'WH_{pays}',f'P_Growth_{pays}']\n",
    "    return(variable_pays)\n",
    "\n"
   ]
  },
  {
   "cell_type": "markdown",
   "id": "124f3321",
   "metadata": {},
   "source": [
    "## Etape 1: Eliminer les variables ayant trop de valeurs manquantes <a class=\"anchor\" id=\"partie1\"></a>"
   ]
  },
  {
   "cell_type": "code",
   "execution_count": null,
   "id": "a5e5ba97",
   "metadata": {},
   "outputs": [],
   "source": [
    "#On élimine l'année 1995 pour éviter de faire du \"backcasting\" du CPI de tous les pays\n",
    "df_clean=df.copy()\n",
    "df_clean=df_clean.drop([\"1995-Q1\",\"1995-Q2\",\"1995-Q3\",\"1995-Q4\"])\n",
    "\n",
    "#On élimine l'Estonie de notre dataset\n",
    "Estonia=variables_pays(\"Estonia\")\n",
    "df_clean=df_clean.drop(Estonia, axis=1)\n",
    "df_clean"
   ]
  },
  {
   "cell_type": "code",
   "execution_count": null,
   "id": "47d6a454",
   "metadata": {},
   "outputs": [],
   "source": [
    "# Les données de l'OCDE pour le CPI de la Suisse (méthodologie proche à celle d'Eurostat)\n",
    "cpi_suisse = pd.read_csv(r\"Données_extraites\\CPI_Suisse_OCDE.csv\")\n",
    "cpi_suisse = cpi_suisse.pivot_table(index='TIME_PERIOD', columns='Reference area', values='OBS_VALUE')\n",
    "cpi_suisse = cpi_suisse.drop(cpi_suisse.index[:4])\n",
    "\n",
    "\n",
    "#On recopie ces données dans df_clean\n",
    "df_clean['CPI_Switzerland']= cpi_suisse['Switzerland'].values\n",
    "df_clean\n"
   ]
  },
  {
   "cell_type": "markdown",
   "id": "beba077e",
   "metadata": {},
   "source": [
    "## Etape 2: détermination des modèles (ARMA et compagnie) pour nettoyer les données manquantes  <a class=\"anchor\" id=\"partie2\"></a>"
   ]
  },
  {
   "cell_type": "code",
   "execution_count": null,
   "id": "0afa0767",
   "metadata": {},
   "outputs": [],
   "source": [
    "# Clean values: format time series\n",
    "df_clean_TS=df_clean.copy()\n",
    "df_clean_TS.index = pd.PeriodIndex(df_clean.index, freq='Q')  #conversion en PeriodIndex\n",
    "df_clean_TS.index = df_clean_TS.index.to_timestamp() #Conversion en DateTime\n",
    "\n",
    "df_clean_TS\n"
   ]
  },
  {
   "cell_type": "markdown",
   "id": "5a250991",
   "metadata": {},
   "source": [
    "### LT_IR <a class=\"anchor\" id=\"partie21\"></a>"
   ]
  },
  {
   "cell_type": "markdown",
   "id": "510cbd29",
   "metadata": {},
   "source": [
    "#### LT_IR_Latvia<a class=\"anchor\" id=\"partie211\"></a>"
   ]
  },
  {
   "cell_type": "code",
   "execution_count": null,
   "id": "f647228a",
   "metadata": {},
   "outputs": [],
   "source": [
    "#Le code qui suit sert uniquement à visualiser les ST\n",
    "# syntaxe: tracer_evolution(df, columns=None, xlabel= None, ylabel=None, start_date=None, end_date=None, log=False, base=None, lissage=False):\n",
    "tracer_evolution(df_clean_TS,[\"LT_IR_Latvia\"], xlabel =\"Période\",ylabel = \"Taux d'intérêt- court terme\")\n"
   ]
  },
  {
   "cell_type": "code",
   "execution_count": null,
   "id": "4b147fdf",
   "metadata": {},
   "outputs": [],
   "source": [
    "#Pour le moment la série ne semble avoir ni tendance ni saisonalité, essayons d'appliquer un test ADF\n",
    "result = adfuller(df_clean_TS[\"LT_IR_Latvia\"].dropna())\n",
    "print(f\"ADF Statistic: {result[0]}\")\n",
    "print(f\"p-value: {result[1]}\")\n",
    "\n",
    "#La série n'est pas stationnaire\n",
    "#essayons de faire une différenciation"
   ]
  },
  {
   "cell_type": "code",
   "execution_count": 11,
   "id": "de7870e8",
   "metadata": {},
   "outputs": [],
   "source": [
    "LT_IR_Latvia_diff=df_clean_TS[\"LT_IR_Latvia\"].diff()\n",
    "#LT_IR_Latvia_diff.plot(title=\"Taux d'intérêt Lettonie différencié\", figsize=(12, 4))"
   ]
  },
  {
   "cell_type": "code",
   "execution_count": null,
   "id": "0afeb871",
   "metadata": {},
   "outputs": [],
   "source": [
    "#Résult\n",
    "result = adfuller(LT_IR_Latvia_diff.dropna())\n",
    "print(f\"ADF Statistic: {result[0]}\")\n",
    "print(f\"p-value: {result[1]}\")\n",
    "#On rejette à 5% l'hypothèse de non stationarité\n"
   ]
  },
  {
   "cell_type": "code",
   "execution_count": null,
   "id": "8b3cc8ed",
   "metadata": {},
   "outputs": [],
   "source": [
    "plt.figure(figsize=(14,6))\n",
    "tsaplots.plot_acf(LT_IR_Latvia_diff.dropna(), lags=30)\n",
    "plt.title(\"Fonction d'autocorrélation du LT_IR Latvia\")\n",
    "plt.show()\n",
    "\n",
    "plt.figure(figsize=(14,6))\n",
    "tsaplots.plot_pacf(LT_IR_Latvia_diff.dropna(), lags=30)\n",
    "plt.title(\"Fonction d'autocorrélation partielle du LT_IR Latvia\")\n",
    "plt.show()\n"
   ]
  },
  {
   "cell_type": "code",
   "execution_count": null,
   "id": "13c58fe4",
   "metadata": {},
   "outputs": [],
   "source": [
    "LT_IR_Latvia_models=evaluate_all_models(LT_IR_Latvia_diff.dropna(), 3, 5)"
   ]
  },
  {
   "cell_type": "code",
   "execution_count": null,
   "id": "c4963d74",
   "metadata": {},
   "outputs": [],
   "source": [
    "compute_aic_bic(LT_IR_Latvia_diff,LT_IR_Latvia_models,0)"
   ]
  },
  {
   "cell_type": "code",
   "execution_count": null,
   "id": "3d635321",
   "metadata": {},
   "outputs": [],
   "source": [
    "#On essaie d'appliquer la fonction précédente\n",
    "#LT_IR_Latvia_pred=backcast_arima(df_clean_TS,\"LT_IR_Latvia\",(2,1,4))\n",
    "LT_IR_Latvia_pred=backcast_arima(df_clean_TS, \"LT_IR_Latvia\", (2,1,4), trend='t')\n",
    "LT_IR_Latvia_pred_final = LT_IR_Latvia_pred.combine_first(df_clean_TS[\"LT_IR_Latvia\"])\n",
    "LT_IR_Latvia_pred_final\n",
    "\n",
    "\n",
    "\n",
    "# Si LT_IR_Latvia_pred_final est un pd.Series indexé en datetime :\n",
    "plt.figure(figsize=(10, 4))\n",
    "plt.plot(LT_IR_Latvia_pred_final.index, \n",
    "         LT_IR_Latvia_pred_final.values, \n",
    "         marker='o', linestyle='-')\n",
    "plt.title(\"LT_IR_Latvia — série complète backcastée + observée\")\n",
    "plt.xlabel(\"Date\")\n",
    "plt.ylabel(\"Taux (%)\")\n",
    "plt.grid(True)\n",
    "plt.tight_layout()\n",
    "plt.show()\n",
    "\n"
   ]
  },
  {
   "cell_type": "markdown",
   "id": "5106e439",
   "metadata": {},
   "source": [
    "#### LT_IR_Lithuania<a class=\"anchor\" id=\"partie212\"></a>"
   ]
  },
  {
   "cell_type": "code",
   "execution_count": null,
   "id": "fd2efda0",
   "metadata": {},
   "outputs": [],
   "source": [
    "#Le code qui suit sert uniquement à visualiser les ST\n",
    "# syntaxe: tracer_evolution(df, columns=None, xlabel= None, ylabel=None, start_date=None, end_date=None, log=False, base=None, lissage=False):\n",
    "tracer_evolution(df_clean_TS,[\"LT_IR_Lithuania\"], xlabel =\"Période\",ylabel = \"Taux d'intérêt- Long terme\")"
   ]
  },
  {
   "cell_type": "code",
   "execution_count": null,
   "id": "5d0d012d",
   "metadata": {},
   "outputs": [],
   "source": [
    "#Pour le moment la série ne semble avoir ni tendance ni saisonalité, essayons d'appliquer un test ADF\n",
    "result = adfuller(df_clean_TS[\"LT_IR_Lithuania\"].dropna())\n",
    "print(f\"ADF Statistic: {result[0]}\")\n",
    "print(f\"p-value: {result[1]}\")\n",
    "\n",
    "#La série n'est pas stationnaire\n",
    "#essayons de faire une différenciation\n"
   ]
  },
  {
   "cell_type": "code",
   "execution_count": null,
   "id": "64c132ce",
   "metadata": {},
   "outputs": [],
   "source": [
    "LT_IR_Lithuania_diff=df_clean_TS[\"LT_IR_Lithuania\"].diff()\n",
    "#LT_IR_Latvia_diff.plot(title=\"Taux d'intérêt Lettonie différencié\", figsize=(12, 4))\n",
    "\n",
    "plt.figure(figsize=(14,6))\n",
    "tsaplots.plot_acf(LT_IR_Lithuania_diff.dropna(), lags=30)\n",
    "plt.title(\"Fonction d'autocorrélation du LT_IR_Lithuania\")\n",
    "plt.show()\n",
    "\n",
    "plt.figure(figsize=(14,6))\n",
    "tsaplots.plot_pacf(LT_IR_Lithuania_diff.dropna(), lags=30)\n",
    "plt.title(\"Fonction d'autocorrélation partielle du LT_IR_Lithuania\")\n",
    "plt.show()"
   ]
  },
  {
   "cell_type": "code",
   "execution_count": null,
   "id": "3d910e65",
   "metadata": {},
   "outputs": [],
   "source": [
    "#Résult\n",
    "result = adfuller(LT_IR_Lithuania_diff.dropna())\n",
    "print(f\"ADF Statistic: {result[0]}\")\n",
    "print(f\"p-value: {result[1]}\")\n",
    "#On rejette à 5% l'hypothèse de non stationarité\n"
   ]
  },
  {
   "cell_type": "code",
   "execution_count": null,
   "id": "ce7bb541",
   "metadata": {},
   "outputs": [],
   "source": [
    "LT_IR_Lithuania_models=evaluate_all_models(LT_IR_Lithuania_diff.dropna(), 4, 4)\n"
   ]
  },
  {
   "cell_type": "code",
   "execution_count": null,
   "id": "5fb6bd7a",
   "metadata": {},
   "outputs": [],
   "source": [
    "compute_aic_bic(LT_IR_Lithuania_diff,LT_IR_Lithuania_models,0)\n"
   ]
  },
  {
   "cell_type": "code",
   "execution_count": null,
   "id": "d5610ec2",
   "metadata": {},
   "outputs": [],
   "source": [
    "# LT_IR_Lithuania_pred = backcast_arima(df_clean_TS, \"LT_IR_Lithuania\", (0,1,4), trend='t')\n",
    "LT_IR_Lithuania_pred = backcast_arima(df_clean_TS, \"LT_IR_Lithuania\", (0,1,4), trend='t')\n",
    "LT_IR_Lithuania_pred_final = LT_IR_Lithuania_pred.combine_first(df_clean_TS[\"LT_IR_Lithuania\"])\n",
    "\n",
    "# Si LT_IR_Lithuania_pred_final est un pd.Series indexé en datetime :\n",
    "import matplotlib.pyplot as plt\n",
    "\n",
    "plt.figure(figsize=(10, 4))\n",
    "plt.plot(LT_IR_Lithuania_pred_final.index, \n",
    "         LT_IR_Lithuania_pred_final.values, \n",
    "         marker='o', linestyle='-')\n",
    "plt.title(\"LT_IR_Lithuania — série complète backcastée + observée\")\n",
    "plt.xlabel(\"Date\")\n",
    "plt.ylabel(\"Taux (%)\")\n",
    "plt.grid(True)\n",
    "plt.tight_layout()\n",
    "plt.show()\n"
   ]
  },
  {
   "cell_type": "markdown",
   "id": "b80e3a17",
   "metadata": {},
   "source": [
    "#### LT_IR_Poland<a class=\"anchor\" id=\"partie213\"></a>"
   ]
  },
  {
   "cell_type": "code",
   "execution_count": null,
   "id": "6898bf57",
   "metadata": {},
   "outputs": [],
   "source": [
    "# Le code qui suit sert uniquement à visualiser les ST\n",
    "# syntaxe: tracer_evolution(df, columns=None, xlabel= None, ylabel=None, start_date=None, end_date=None, log=False, base=None, lissage=False):\n",
    "tracer_evolution(df_clean_TS, [\"LT_IR_Poland\"], xlabel=\"Période\", ylabel=\"Taux d'intérêt- court terme\")"
   ]
  },
  {
   "cell_type": "code",
   "execution_count": null,
   "id": "b8fc7854",
   "metadata": {},
   "outputs": [],
   "source": [
    "#La série semble avoir une tendance décroissante, essayons d'appliquer un test ADF\n",
    "result = adfuller(df_clean_TS[\"LT_IR_Poland\"].dropna())\n",
    "print(f\"ADF Statistic: {result[0]}\")\n",
    "print(f\"p-value: {result[1]}\")\n",
    "\n",
    "# La série n'est pas stationnaire\n",
    "# Essayons de faire une différenciation"
   ]
  },
  {
   "cell_type": "code",
   "execution_count": null,
   "id": "41b05cf6",
   "metadata": {},
   "outputs": [],
   "source": [
    "LT_IR_Poland_diff = df_clean_TS[\"LT_IR_Poland\"].diff()\n",
    "LT_IR_Poland_diff.plot(title=\"Taux d'intérêt Pologne différencié\", figsize=(12, 4))\n",
    "# La série semble centrée en 0, mais avec une légère tendance à la hausse"
   ]
  },
  {
   "cell_type": "code",
   "execution_count": null,
   "id": "39ace2e2",
   "metadata": {},
   "outputs": [],
   "source": [
    "# Résultat du test ADF sur la série différenciée\n",
    "result = adfuller(LT_IR_Poland_diff.dropna())\n",
    "print(f\"ADF Statistic: {result[0]}\")\n",
    "print(f\"p-value: {result[1]}\")\n",
    "# On rejette à 5% l'hypothèse de non stationnarité"
   ]
  },
  {
   "cell_type": "code",
   "execution_count": null,
   "id": "f64461de",
   "metadata": {},
   "outputs": [],
   "source": [
    "\n",
    "plt.figure(figsize=(14,6))\n",
    "tsaplots.plot_acf(LT_IR_Poland_diff.dropna(), lags=30)\n",
    "plt.title(\"Fonction d'autocorrélation du LT_IR Poland\")\n",
    "plt.show()\n",
    "\n",
    "plt.figure(figsize=(14,6))\n",
    "tsaplots.plot_pacf(LT_IR_Poland_diff.dropna(), lags=30)\n",
    "plt.title(\"Fonction d'autocorrélation partielle du LT_IR Poland\")\n",
    "plt.show()"
   ]
  },
  {
   "cell_type": "code",
   "execution_count": null,
   "id": "7ce11b24",
   "metadata": {},
   "outputs": [],
   "source": [
    "LT_IR_Poland_models = evaluate_all_models(LT_IR_Poland_diff.dropna(), 1, 2)\n",
    "#Les ordres conservés: (1,2)"
   ]
  },
  {
   "cell_type": "code",
   "execution_count": null,
   "id": "2c9da38b",
   "metadata": {},
   "outputs": [],
   "source": [
    "compute_aic_bic(LT_IR_Poland_diff, LT_IR_Poland_models, 0)\n",
    "#Modèle retenu selon le criètere BIC\n"
   ]
  },
  {
   "cell_type": "code",
   "execution_count": null,
   "id": "326afa1a",
   "metadata": {},
   "outputs": [],
   "source": [
    "# On essaie d'appliquer la fonction backcast\n",
    "LT_IR_Poland_pred = backcast_arima(df_clean_TS, \"LT_IR_Poland\", (1,1,0), trend='t')\n",
    "LT_IR_Poland_pred_final = LT_IR_Poland_pred.combine_first(df_clean_TS[\"LT_IR_Poland\"])\n",
    "LT_IR_Poland_pred_final"
   ]
  },
  {
   "cell_type": "code",
   "execution_count": null,
   "id": "a2b43335",
   "metadata": {},
   "outputs": [],
   "source": [
    "# Si LT_IR_Poland_pred_final est un pd.Series indexé en datetime :\n",
    "plt.figure(figsize=(10, 4))\n",
    "plt.plot(LT_IR_Poland_pred_final.index, \n",
    "         LT_IR_Poland_pred_final.values, \n",
    "         marker='o', linestyle='-')\n",
    "plt.title(\"LT_IR_Poland — série complète backcastée + observée\")\n",
    "plt.xlabel(\"Date\")\n",
    "plt.ylabel(\"Taux (%)\")\n",
    "plt.grid(True)\n",
    "plt.tight_layout()\n",
    "plt.show()"
   ]
  },
  {
   "cell_type": "markdown",
   "id": "e89c6f2c",
   "metadata": {},
   "source": [
    "#### LT_IR_Slovakia<a class=\"anchor\" id=\"partie214\"></a>"
   ]
  },
  {
   "cell_type": "code",
   "execution_count": null,
   "id": "3033d62c",
   "metadata": {},
   "outputs": [],
   "source": [
    "# Le code qui suit sert uniquement à visualiser les ST\n",
    "# syntaxe: tracer_evolution(df, columns=None, xlabel= None, ylabel=None, start_date=None, end_date=None, log=False, base=None, lissage=False):\n",
    "tracer_evolution(df_clean_TS, [\"LT_IR_Slovakia\"], xlabel=\"Période\", ylabel=\"Taux d'intérêt- court terme\")"
   ]
  },
  {
   "cell_type": "code",
   "execution_count": null,
   "id": "691adc04",
   "metadata": {},
   "outputs": [],
   "source": [
    "# Pour le moment la série semble avoir une tendane décroissante. Appliquons un ADF\n",
    "result = adfuller(df_clean_TS[\"LT_IR_Slovakia\"].dropna())\n",
    "print(f\"ADF Statistic: {result[0]}\")\n",
    "print(f\"p-value: {result[1]}\")\n",
    "# La série n'est pas stationnaire\n",
    "# Essayons de faire une différenciation"
   ]
  },
  {
   "cell_type": "code",
   "execution_count": null,
   "id": "038a7ab4",
   "metadata": {},
   "outputs": [],
   "source": [
    "LT_IR_Slovakia_diff = df_clean_TS[\"LT_IR_Slovakia\"].diff()\n",
    "LT_IR_Slovakia_diff.plot(title=\"Taux d'intérêt Slovaquie différencié\", figsize=(12, 4))\n"
   ]
  },
  {
   "cell_type": "code",
   "execution_count": null,
   "id": "a06238c6",
   "metadata": {},
   "outputs": [],
   "source": [
    "# Résultat du test ADF sur la série différenciée\n",
    "result = adfuller(LT_IR_Slovakia_diff.dropna())\n",
    "print(f\"ADF Statistic: {result[0]}\")\n",
    "print(f\"p-value: {result[1]}\")\n",
    "# On rejette à 5% l'hypothèse de non stationnarité"
   ]
  },
  {
   "cell_type": "code",
   "execution_count": null,
   "id": "8feb7228",
   "metadata": {},
   "outputs": [],
   "source": [
    "plt.figure(figsize=(14,6))\n",
    "tsaplots.plot_acf(LT_IR_Slovakia_diff.dropna(), lags=30)\n",
    "plt.title(\"Fonction d'autocorrélation du LT_IR_Slovakia\")\n",
    "plt.show()\n",
    "\n",
    "plt.figure(figsize=(14,6))\n",
    "tsaplots.plot_pacf(LT_IR_Slovakia_diff.dropna(), lags=30)\n",
    "plt.title(\"Fonction d'autocorrélation partielle du LT_IR_Slovakia\")\n",
    "plt.show()"
   ]
  },
  {
   "cell_type": "code",
   "execution_count": null,
   "id": "01405a1a",
   "metadata": {},
   "outputs": [],
   "source": [
    "#modèles retenus: (1,1)\n",
    "LT_IR_Slovakia_models = evaluate_all_models(LT_IR_Slovakia_diff.dropna(), 1, 1)\n"
   ]
  },
  {
   "cell_type": "code",
   "execution_count": null,
   "id": "86434394",
   "metadata": {},
   "outputs": [],
   "source": [
    "compute_aic_bic(LT_IR_Slovakia_diff, LT_IR_Slovakia_models, 0)"
   ]
  },
  {
   "cell_type": "code",
   "execution_count": null,
   "id": "3f7997c6",
   "metadata": {},
   "outputs": [],
   "source": [
    "# On essaie d'appliquer la fonction précédente\n",
    "# LT_IR_Slovakia_pred = backcast_arima(df_clean_TS, \"LT_IR_Slovakia\", (0,1,1))\n",
    "LT_IR_Slovakia_pred = backcast_arima(df_clean_TS, \"LT_IR_Slovakia\", (0,1,1), trend='t')\n",
    "LT_IR_Slovakia_pred_final = LT_IR_Slovakia_pred.combine_first(df_clean_TS[\"LT_IR_Slovakia\"])\n",
    "LT_IR_Slovakia_pred_final"
   ]
  },
  {
   "cell_type": "code",
   "execution_count": null,
   "id": "bcb91abf",
   "metadata": {},
   "outputs": [],
   "source": [
    "# Si LT_IR_Slovakia_pred_final est un pd.Series indexé en datetime :\n",
    "plt.figure(figsize=(10, 4))\n",
    "plt.plot(LT_IR_Slovakia_pred_final.index, \n",
    "         LT_IR_Slovakia_pred_final.values, \n",
    "         marker='o', linestyle='-')\n",
    "plt.title(\"LT_IR_Slovakia — série complète backcastée + observée\")\n",
    "plt.xlabel(\"Date\")\n",
    "plt.ylabel(\"Taux (%)\")\n",
    "plt.grid(True)\n",
    "plt.tight_layout()\n",
    "plt.show()"
   ]
  },
  {
   "cell_type": "markdown",
   "id": "72964329",
   "metadata": {},
   "source": [
    "#### LT_IR_Czechia<a class=\"anchor\" id=\"partie215\"></a>\n",
    "Attention: aucun modèle ne passe tous les tests malheuresement, on a gardé celui obtenu visuellement à partir de ACF et PACF"
   ]
  },
  {
   "cell_type": "code",
   "execution_count": null,
   "id": "66df9f8b",
   "metadata": {},
   "outputs": [],
   "source": [
    "tracer_evolution(df_clean_TS, [\"LT_IR_Czechia\"], xlabel=\"Période\", ylabel=\"Taux d'intérêt- court terme\")\n",
    "result = adfuller(df_clean_TS[\"LT_IR_Czechia\"].dropna())\n",
    "print(f\"ADF Statistic: {result[0]}\")\n",
    "print(f\"p-value: {result[1]}\")"
   ]
  },
  {
   "cell_type": "code",
   "execution_count": null,
   "id": "52b8a996",
   "metadata": {},
   "outputs": [],
   "source": [
    "LT_IR_Czechia_diff = df_clean_TS[\"LT_IR_Czechia\"].diff()\n",
    "LT_IR_Czechia_diff.plot(title=\"Taux d'intérêt Chéquie différencié\", figsize=(12, 4))\n",
    "\n",
    "result = adfuller(LT_IR_Czechia_diff.dropna())\n",
    "print(f\"ADF Statistic: {result[0]}\")\n",
    "print(f\"p-value: {result[1]}\")\n"
   ]
  },
  {
   "cell_type": "code",
   "execution_count": null,
   "id": "291e0601",
   "metadata": {},
   "outputs": [],
   "source": [
    "plt.figure(figsize=(14,6))\n",
    "tsaplots.plot_acf(LT_IR_Czechia_diff.dropna(), lags=30)\n",
    "plt.title(\"Fonction d'autocorrélation du LT_IR_Czechia\")\n",
    "plt.show()\n",
    "\n",
    "plt.figure(figsize=(14,6))\n",
    "tsaplots.plot_pacf(LT_IR_Czechia_diff.dropna(), lags=30)\n",
    "plt.title(\"Fonction d'autocorrélation partielle du LT_IR_Czechia\")\n",
    "plt.show()"
   ]
  },
  {
   "cell_type": "code",
   "execution_count": null,
   "id": "93857746",
   "metadata": {},
   "outputs": [],
   "source": [
    "LT_IR_Czechia_models = evaluate_all_models(LT_IR_Czechia_diff.dropna(), 5, 0)\n",
    "# Problème: aucun modèle n'est retenu à la fin, on va tout de même garder le modèle (5,1,0)"
   ]
  },
  {
   "cell_type": "code",
   "execution_count": null,
   "id": "2412e6c1",
   "metadata": {},
   "outputs": [],
   "source": [
    "\n",
    "LT_IR_Czechia_pred = backcast_arima(df_clean_TS, \"LT_IR_Czechia\", (5,1,0), trend='t')\n",
    "LT_IR_Czechia_pred_final = LT_IR_Czechia_pred.combine_first(df_clean_TS[\"LT_IR_Czechia\"])\n",
    "LT_IR_Czechia_pred_final"
   ]
  },
  {
   "cell_type": "code",
   "execution_count": null,
   "id": "55b2dbc1",
   "metadata": {},
   "outputs": [],
   "source": [
    "plt.figure(figsize=(10, 4))\n",
    "plt.plot(LT_IR_Czechia_pred_final.index, \n",
    "         LT_IR_Czechia_pred_final.values, \n",
    "         marker='o', linestyle='-')\n",
    "plt.title(\"LT_IR_Czechia — série complète backcastée + observée\")\n",
    "plt.xlabel(\"Date\")\n",
    "plt.ylabel(\"Taux (%)\")\n",
    "plt.grid(True)\n",
    "plt.tight_layout()\n",
    "plt.show()"
   ]
  },
  {
   "cell_type": "markdown",
   "id": "f5245b7a",
   "metadata": {},
   "source": [
    "#### LT_IR_Hungary<a class=\"anchor\" id=\"partie216\"></a>\n"
   ]
  },
  {
   "cell_type": "code",
   "execution_count": null,
   "id": "1ea19993",
   "metadata": {},
   "outputs": [],
   "source": [
    "tracer_evolution(df_clean_TS, [\"LT_IR_Hungary\"], xlabel=\"Période\", ylabel=\"Taux d'intérêt- court terme\")\n",
    "\n",
    "result = adfuller(df_clean_TS[\"LT_IR_Hungary\"].dropna())\n",
    "print(f\"ADF Statistic: {result[0]}\")\n",
    "print(f\"p-value: {result[1]}\")"
   ]
  },
  {
   "cell_type": "code",
   "execution_count": null,
   "id": "3b8d0908",
   "metadata": {},
   "outputs": [],
   "source": [
    "LT_IR_Hungary_diff = df_clean_TS[\"LT_IR_Hungary\"].diff()\n",
    "LT_IR_Hungary_diff.plot(title=\"Taux d'intérêt Hongrie différencié\", figsize=(12, 4))\n",
    "\n",
    "\n",
    "result = adfuller(LT_IR_Hungary_diff.dropna())\n",
    "print(f\"ADF Statistic: {result[0]}\")\n",
    "print(f\"p-value: {result[1]}\")"
   ]
  },
  {
   "cell_type": "code",
   "execution_count": null,
   "id": "5fc4a8a2",
   "metadata": {},
   "outputs": [],
   "source": [
    "plt.figure(figsize=(14,6))\n",
    "tsaplots.plot_acf(LT_IR_Hungary_diff.dropna(), lags=30)\n",
    "plt.title(\"Fonction d'autocorrélation du LT_IR_Hungary\")\n",
    "plt.show()\n",
    "\n",
    "plt.figure(figsize=(14,6))\n",
    "tsaplots.plot_pacf(LT_IR_Hungary_diff.dropna(), lags=30)\n",
    "plt.title(\"Fonction d'autocorrélation partielle du LT_IR_Hungary\")\n",
    "plt.show()"
   ]
  },
  {
   "cell_type": "code",
   "execution_count": null,
   "id": "4a940e52",
   "metadata": {},
   "outputs": [],
   "source": [
    "LT_IR_Hungary_models = evaluate_all_models(LT_IR_Hungary_diff.dropna(), 3, 1)\n"
   ]
  },
  {
   "cell_type": "code",
   "execution_count": null,
   "id": "a38b6d89",
   "metadata": {},
   "outputs": [],
   "source": [
    "compute_aic_bic(LT_IR_Hungary_diff, LT_IR_Hungary_models, 0)\n"
   ]
  },
  {
   "cell_type": "code",
   "execution_count": null,
   "id": "8e453f6d",
   "metadata": {},
   "outputs": [],
   "source": [
    "LT_IR_Hungary_pred = backcast_arima(df_clean_TS, \"LT_IR_Hungary\", (1,1,0), trend='t')\n",
    "LT_IR_Hungary_pred_final = LT_IR_Hungary_pred.combine_first(df_clean_TS[\"LT_IR_Hungary\"])\n",
    "LT_IR_Hungary_pred_final"
   ]
  },
  {
   "cell_type": "code",
   "execution_count": null,
   "id": "74ec41c3",
   "metadata": {},
   "outputs": [],
   "source": [
    "plt.figure(figsize=(10, 4))\n",
    "plt.plot(LT_IR_Hungary_pred_final.index, \n",
    "         LT_IR_Hungary_pred_final.values, \n",
    "         marker='o', linestyle='-')\n",
    "plt.title(\"LT_IR_Hungary — série complète backcastée + observée\")\n",
    "plt.xlabel(\"Date\")\n",
    "plt.ylabel(\"Taux (%)\")\n",
    "plt.grid(True)\n",
    "plt.tight_layout()\n",
    "plt.show()"
   ]
  },
  {
   "cell_type": "markdown",
   "id": "ca510d0e",
   "metadata": {},
   "source": [
    "#### LT_IR_Iceland<a class=\"anchor\" id=\"partie217\"></a>\n",
    "Ceci est à compléter.... il faut modifier la fonction du backcast, mais cette fois-ci pour faire du forecast"
   ]
  },
  {
   "cell_type": "code",
   "execution_count": null,
   "id": "12deba76",
   "metadata": {},
   "outputs": [],
   "source": [
    "tracer_evolution(df_clean_TS, [\"LT_IR_Iceland\"], xlabel=\"Période\", ylabel=\"Taux d'intérêt- court terme\")\n"
   ]
  },
  {
   "cell_type": "markdown",
   "id": "5ae1b35b",
   "metadata": {},
   "source": [
    "#### LT_IR_Greece<a class=\"anchor\" id=\"partie218\"></a>\n",
    "rq: de loin la meilleure prédiction"
   ]
  },
  {
   "cell_type": "code",
   "execution_count": null,
   "id": "884d6967",
   "metadata": {},
   "outputs": [],
   "source": [
    "tracer_evolution(df_clean_TS, [\"LT_IR_Greece\"], xlabel=\"Période\", ylabel=\"Taux d'intérêt- court terme\")\n",
    "result = adfuller(df_clean_TS[\"LT_IR_Greece\"].dropna())\n",
    "print(f\"ADF Statistic: {result[0]}\")\n",
    "print(f\"p-value: {result[1]}\")"
   ]
  },
  {
   "cell_type": "code",
   "execution_count": null,
   "id": "c9f056a0",
   "metadata": {},
   "outputs": [],
   "source": [
    "LT_IR_Greece_diff = df_clean_TS[\"LT_IR_Greece\"].diff()\n",
    "result = adfuller(LT_IR_Greece_diff.dropna())\n",
    "print(f\"ADF Statistic: {result[0]}\")\n",
    "print(f\"p-value: {result[1]}\")\n"
   ]
  },
  {
   "cell_type": "code",
   "execution_count": null,
   "id": "c0642568",
   "metadata": {},
   "outputs": [],
   "source": [
    "plt.figure(figsize=(14,6))\n",
    "tsaplots.plot_acf(LT_IR_Greece_diff.dropna(), lags=30)\n",
    "plt.title(\"Fonction d'autocorrélation du LT_IR_Greece\")\n",
    "plt.show()\n",
    "\n",
    "plt.figure(figsize=(14,6))\n",
    "tsaplots.plot_pacf(LT_IR_Greece_diff.dropna(), lags=30)\n",
    "plt.title(\"Fonction d'autocorrélation partielle du LT_IR_Greece\")\n",
    "plt.show()"
   ]
  },
  {
   "cell_type": "code",
   "execution_count": null,
   "id": "8a178ef4",
   "metadata": {},
   "outputs": [],
   "source": [
    "LT_IR_Greece_models = evaluate_all_models(LT_IR_Greece_diff.dropna(), 1, 9)\n"
   ]
  },
  {
   "cell_type": "code",
   "execution_count": null,
   "id": "b462a106",
   "metadata": {},
   "outputs": [],
   "source": [
    "compute_aic_bic(LT_IR_Greece_diff, LT_IR_Greece_models, 0)\n"
   ]
  },
  {
   "cell_type": "code",
   "execution_count": null,
   "id": "a7e563c0",
   "metadata": {},
   "outputs": [],
   "source": [
    "LT_IR_Greece_pred = backcast_arima(df_clean_TS, \"LT_IR_Greece\", (2,1,4), trend='t')\n",
    "LT_IR_Greece_pred_final = LT_IR_Greece_pred.combine_first(df_clean_TS[\"LT_IR_Greece\"])\n",
    "LT_IR_Greece_pred_final"
   ]
  },
  {
   "cell_type": "code",
   "execution_count": null,
   "id": "707b2402",
   "metadata": {},
   "outputs": [],
   "source": [
    "plt.figure(figsize=(10, 4))\n",
    "plt.plot(LT_IR_Greece_pred_final.index, \n",
    "         LT_IR_Greece_pred_final.values, \n",
    "         marker='o', linestyle='-')\n",
    "plt.title(\"LT_IR_Greece — série complète backcastée + observée\")\n",
    "plt.xlabel(\"Date\")\n",
    "plt.ylabel(\"Taux (%)\")\n",
    "plt.grid(True)\n",
    "plt.tight_layout()\n",
    "plt.show()"
   ]
  },
  {
   "cell_type": "markdown",
   "id": "6f94830f",
   "metadata": {},
   "source": [
    "### WH <a class=\"anchor\" id=\"partie22\"></a>\n",
    "\n",
    "Il y a une composante saisonnière dans chacune des séries. Il faudra modifier le programme de base"
   ]
  },
  {
   "cell_type": "markdown",
   "id": "7130d5a4",
   "metadata": {},
   "source": [
    "#### WH_Bulgaria <a class=\"anchor\" id=\"partie221\"></a>"
   ]
  },
  {
   "cell_type": "code",
   "execution_count": null,
   "id": "1ff2add8",
   "metadata": {},
   "outputs": [],
   "source": [
    "tracer_evolution(df_clean_TS, [\"WH_Bulgaria\"], xlabel=\"Période\", ylabel=\"Taux d'intérêt- court terme\")\n",
    "\n",
    "result = adfuller(df_clean_TS[\"WH_Bulgaria\"].dropna())\n",
    "print(f\"ADF Statistic: {result[0]}\")\n",
    "print(f\"p-value: {result[1]}\")"
   ]
  },
  {
   "cell_type": "code",
   "execution_count": null,
   "id": "52b3a4fc",
   "metadata": {},
   "outputs": [],
   "source": [
    "WH_Bulgaria_diff = df_clean_TS[\"WH_Bulgaria\"].diff()\n",
    "WH_Bulgaria_diff.plot(title=\"Taux d'intérêt Bulgarie différencié\", figsize=(12, 4)) \n",
    "\n",
    "result = adfuller(WH_Bulgaria_diff.dropna())\n",
    "print(f\"ADF Statistic: {result[0]}\")\n",
    "print(f\"p-value: {result[1]}\")"
   ]
  },
  {
   "cell_type": "code",
   "execution_count": null,
   "id": "bace8a7e",
   "metadata": {},
   "outputs": [],
   "source": [
    "plt.figure(figsize=(14,6))\n",
    "tsaplots.plot_acf(WH_Bulgaria_diff.dropna(), lags=30)\n",
    "plt.title(\"Fonction d'autocorrélation du WH_Bulgaria\")\n",
    "plt.show()\n",
    "\n",
    "plt.figure(figsize=(14,6))\n",
    "tsaplots.plot_pacf(WH_Bulgaria_diff.dropna(), lags=30)\n",
    "plt.title(\"Fonction d'autocorrélation partielle du WH_Bulgaria\")\n",
    "plt.show()"
   ]
  },
  {
   "cell_type": "code",
   "execution_count": null,
   "id": "1a60bc5d",
   "metadata": {},
   "outputs": [],
   "source": [
    "WH_Bulgaria_models = evaluate_all_models(WH_Bulgaria_diff.dropna(), 3, 8)"
   ]
  },
  {
   "cell_type": "code",
   "execution_count": null,
   "id": "45588e8c",
   "metadata": {},
   "outputs": [],
   "source": [
    "compute_aic_bic(WH_Bulgaria_diff, WH_Bulgaria_models, 0)\n"
   ]
  },
  {
   "cell_type": "code",
   "execution_count": null,
   "id": "7acab137",
   "metadata": {},
   "outputs": [],
   "source": [
    "WH_Bulgaria_pred = backcast_arima(df_clean_TS, \"WH_Bulgaria\", (3,1,0), trend='t')\n",
    "WH_Bulgaria_pred_final = WH_Bulgaria_pred.combine_first(df_clean_TS[\"WH_Bulgaria\"])"
   ]
  },
  {
   "cell_type": "code",
   "execution_count": null,
   "id": "bdc2b634",
   "metadata": {},
   "outputs": [],
   "source": [
    "plt.figure(figsize=(10, 4))\n",
    "plt.plot(WH_Bulgaria_pred_final.index, WH_Bulgaria_pred_final.values, marker='o', linestyle='-')\n",
    "plt.title(\"WH_Bulgaria — série complète backcastée + observée\")\n",
    "plt.xlabel(\"Date\")\n",
    "plt.ylabel(\"Taux (%)\")\n",
    "plt.grid(True)\n",
    "plt.tight_layout()\n",
    "plt.show()"
   ]
  },
  {
   "cell_type": "markdown",
   "id": "6e621bb8",
   "metadata": {},
   "source": [
    "#### WH_Lithuania <a class=\"anchor\" id=\"partie222\"></a>\n",
    "ATTENTION, la série différenciée ne rejette pas le test ADF\n",
    "Cette série a une composante saisonnière: on laisse tomber pour le moment"
   ]
  },
  {
   "cell_type": "code",
   "execution_count": null,
   "id": "47e683e6",
   "metadata": {},
   "outputs": [],
   "source": [
    "tracer_evolution(df_clean_TS, [\"WH_Lithuania\"], xlabel=\"Période\", ylabel=\"Taux d'intérêt- court terme\")\n",
    "result = adfuller(df_clean_TS[\"WH_Lithuania\"].dropna())\n",
    "print(f\"ADF Statistic: {result[0]}\")\n",
    "print(f\"p-value: {result[1]}\")"
   ]
  },
  {
   "cell_type": "code",
   "execution_count": null,
   "id": "41fffb76",
   "metadata": {},
   "outputs": [],
   "source": [
    "WH_Lithuania_diff = df_clean_TS[\"WH_Lithuania\"].shift(4)  # saisonnalité\n",
    "WH_Lithuania_diff = df_clean_TS[\"WH_Lithuania\"] - WH_Lithuania_diff\n",
    "WH_Lithuania_diff = WH_Lithuania_diff - WH_Lithuania_diff.shift(1)  # tendance\n",
    "\n",
    "\n",
    "WH_Lithuania_diff.plot(title=\"Taux d'intérêt Lituanie différencié\", figsize=(12, 4)) \n",
    "\n",
    "result = adfuller(WH_Lithuania_diff.dropna())\n",
    "print(f\"ADF Statistic: {result[0]}\")\n",
    "print(f\"p-value: {result[1]}\")"
   ]
  },
  {
   "cell_type": "code",
   "execution_count": null,
   "id": "ebef6581",
   "metadata": {},
   "outputs": [],
   "source": [
    "plt.figure(figsize=(14,6))\n",
    "tsaplots.plot_acf(WH_Lithuania_diff.dropna(), lags=30)\n",
    "plt.title(\"Fonction d'autocorrélation du WH_Lithuania\")\n",
    "plt.show()\n",
    "\n",
    "plt.figure(figsize=(14,6))\n",
    "tsaplots.plot_pacf(WH_Lithuania_diff.dropna(), lags=30)\n",
    "plt.title(\"Fonction d'autocorrélation partielle du WH_Lithuania\")\n",
    "plt.show()"
   ]
  },
  {
   "cell_type": "code",
   "execution_count": null,
   "id": "cca8e09e",
   "metadata": {},
   "outputs": [],
   "source": [
    "WH_Lithuania_models = evaluate_all_models(WH_Lithuania_diff.dropna(), 13, 16)\n"
   ]
  },
  {
   "cell_type": "markdown",
   "id": "1bb18993",
   "metadata": {},
   "source": [
    "#### WH_Latvia <a class=\"anchor\" id=\"partie223\"></a>"
   ]
  },
  {
   "cell_type": "code",
   "execution_count": null,
   "id": "556bbda9",
   "metadata": {},
   "outputs": [],
   "source": [
    "tracer_evolution(df_clean_TS, [\"WH_Latvia\"], xlabel=\"Période\", ylabel=\"Taux d'intérêt- court terme\")\n",
    "\n",
    "result = adfuller(df_clean_TS[\"WH_Latvia\"].dropna())\n",
    "print(f\"ADF Statistic: {result[0]}\")\n",
    "print(f\"p-value: {result[1]}\")"
   ]
  },
  {
   "cell_type": "code",
   "execution_count": null,
   "id": "e930bc84",
   "metadata": {},
   "outputs": [],
   "source": [
    "WH_Latvia_diff = df_clean_TS[\"WH_Latvia\"].diff()\n",
    "WH_Latvia_diff.plot(title=\"Taux d'intérêt Lettonie différencié\", figsize=(12, 4)) \n",
    "\n",
    "result = adfuller(WH_Latvia_diff.dropna())\n",
    "print(f\"ADF Statistic: {result[0]}\")\n",
    "print(f\"p-value: {result[1]}\")"
   ]
  },
  {
   "cell_type": "code",
   "execution_count": null,
   "id": "9d1dc990",
   "metadata": {},
   "outputs": [],
   "source": [
    "plt.figure(figsize=(14,6))\n",
    "tsaplots.plot_acf(WH_Latvia_diff.dropna(), lags=30)\n",
    "plt.title(\"Fonction d'autocorrélation du WH_Latvia\")\n",
    "plt.show()\n",
    "\n",
    "plt.figure(figsize=(14,6))\n",
    "tsaplots.plot_pacf(WH_Latvia_diff.dropna(), lags=30)\n",
    "plt.title(\"Fonction d'autocorrélation partielle du WH_Latvia\")\n",
    "plt.show()"
   ]
  },
  {
   "cell_type": "markdown",
   "id": "48f1a516",
   "metadata": {},
   "source": [
    "#### WH_Slovakia <a class=\"anchor\" id=\"partie224\"></a>"
   ]
  },
  {
   "cell_type": "markdown",
   "id": "39f87efc",
   "metadata": {},
   "source": [
    "#### WH_Poland <a class=\"anchor\" id=\"partie225\"></a>"
   ]
  },
  {
   "cell_type": "markdown",
   "id": "ae4d1b34",
   "metadata": {},
   "source": [
    "#### WH_Czechia <a class=\"anchor\" id=\"partie226\"></a>"
   ]
  },
  {
   "cell_type": "markdown",
   "id": "1dd24ddb",
   "metadata": {},
   "source": [
    "#### WH_Romania <a class=\"anchor\" id=\"partie227\"></a>"
   ]
  },
  {
   "cell_type": "code",
   "execution_count": null,
   "id": "0526620b",
   "metadata": {},
   "outputs": [],
   "source": []
  },
  {
   "cell_type": "markdown",
   "id": "302526ca",
   "metadata": {},
   "source": [
    "### ST_IR <a class=\"anchor\" id=\"partie23\"></a>"
   ]
  },
  {
   "cell_type": "markdown",
   "id": "5982bf00",
   "metadata": {},
   "source": [
    "#### ST_IR_Switzerland <a class=\"anchor\" id=\"partie231\"></a>"
   ]
  },
  {
   "cell_type": "code",
   "execution_count": null,
   "id": "f64c4546",
   "metadata": {},
   "outputs": [],
   "source": [
    "tracer_evolution(df_clean_TS, [\"ST_IR_Switzerland\"], xlabel=\"Période\", ylabel=\"Taux d'intérêt- court terme\")\n",
    "result = adfuller(df_clean_TS[\"ST_IR_Switzerland\"].dropna())\n",
    "print(f\"ADF Statistic: {result[0]}\")\n",
    "print(f\"p-value: {result[1]}\")"
   ]
  },
  {
   "cell_type": "code",
   "execution_count": null,
   "id": "5efd427c",
   "metadata": {},
   "outputs": [],
   "source": [
    "ST_IR_Switzerland_diff = df_clean_TS[\"ST_IR_Switzerland\"].diff()\n",
    "ST_IR_Switzerland_diff.plot(title=\"Taux d'intérêt Suisse différencié\", figsize=(12, 4))\n",
    "result = adfuller(ST_IR_Switzerland_diff.dropna())\n",
    "print(f\"ADF Statistic: {result[0]}\")\n",
    "print(f\"p-value: {result[1]}\")"
   ]
  },
  {
   "cell_type": "code",
   "execution_count": null,
   "id": "202e208e",
   "metadata": {},
   "outputs": [],
   "source": [
    "plt.figure(figsize=(14,6))\n",
    "tsaplots.plot_acf(ST_IR_Switzerland_diff.dropna(), lags=30)\n",
    "plt.title(\"Fonction d'autocorrélation du ST_IR_Switzerland\")\n",
    "plt.show()\n",
    "\n",
    "plt.figure(figsize=(14,6))\n",
    "tsaplots.plot_pacf(ST_IR_Switzerland_diff.dropna(), lags=30)\n",
    "plt.title(\"Fonction d'autocorrélation partielle du ST_IR_Switzerland\")\n",
    "plt.show()"
   ]
  },
  {
   "cell_type": "code",
   "execution_count": null,
   "id": "1ac54883",
   "metadata": {},
   "outputs": [],
   "source": [
    "ST_IR_Switzerland_models = evaluate_all_models(ST_IR_Switzerland_diff.dropna(), 1, 2)\n"
   ]
  },
  {
   "cell_type": "code",
   "execution_count": null,
   "id": "17341c0f",
   "metadata": {},
   "outputs": [],
   "source": [
    "compute_aic_bic(ST_IR_Switzerland_diff, ST_IR_Switzerland_models, 0)\n"
   ]
  },
  {
   "cell_type": "code",
   "execution_count": null,
   "id": "44809eab",
   "metadata": {},
   "outputs": [],
   "source": [
    "ST_IR_Switzerland_pred = backcast_arima(df_clean_TS, \"ST_IR_Switzerland\", (1,1,0), trend='t')\n",
    "ST_IR_Switzerland_pred_final = ST_IR_Switzerland_pred.combine_first(df_clean_TS[\"ST_IR_Switzerland\"])"
   ]
  },
  {
   "cell_type": "code",
   "execution_count": null,
   "id": "3703aa26",
   "metadata": {},
   "outputs": [],
   "source": [
    "plt.figure(figsize=(10, 4))\n",
    "plt.plot(ST_IR_Switzerland_pred_final.index, ST_IR_Switzerland_pred_final.values, marker='o', linestyle='-')\n",
    "plt.title(\"ST_IR_Switzerland — série complète backcastée + observée\")\n",
    "plt.xlabel(\"Date\")\n",
    "plt.ylabel(\"Taux (%)\")\n",
    "plt.grid(True)\n",
    "plt.tight_layout()\n",
    "plt.show()"
   ]
  },
  {
   "cell_type": "markdown",
   "id": "c36cb5d5",
   "metadata": {},
   "source": [
    "#### ST_IR_Lithuania <a class=\"anchor\" id=\"partie232\"></a>"
   ]
  },
  {
   "cell_type": "code",
   "execution_count": null,
   "id": "3f08f254",
   "metadata": {},
   "outputs": [],
   "source": [
    "\n",
    "\n",
    "tracer_evolution(df_clean_TS, [\"ST_IR_Lithuania\"], xlabel=\"Période\", ylabel=\"Taux d'intérêt- court terme\")\n",
    "result = adfuller(df_clean_TS[\"ST_IR_Lithuania\"].dropna())\n",
    "print(f\"ADF Statistic: {result[0]}\")\n",
    "print(f\"p-value: {result[1]}\")"
   ]
  },
  {
   "cell_type": "code",
   "execution_count": null,
   "id": "7efd5dbe",
   "metadata": {},
   "outputs": [],
   "source": [
    "ST_IR_Lithuania_diff = df_clean_TS[\"ST_IR_Lithuania\"].diff()\n",
    "ST_IR_Lithuania_diff.plot(title=\"Taux d'intérêt Lituanie différencié\", figsize=(12, 4))\n",
    "\n",
    "result = adfuller(ST_IR_Lithuania_diff.dropna())\n",
    "print(f\"ADF Statistic: {result[0]}\")\n",
    "print(f\"p-value: {result[1]}\")"
   ]
  },
  {
   "cell_type": "code",
   "execution_count": null,
   "id": "40be2fb7",
   "metadata": {},
   "outputs": [],
   "source": [
    "plt.figure(figsize=(14,6))\n",
    "tsaplots.plot_acf(ST_IR_Lithuania_diff.dropna(), lags=30)\n",
    "plt.title(\"Fonction d'autocorrélation du ST_IR_Lithuania\")\n",
    "plt.show()\n",
    "\n",
    "plt.figure(figsize=(14,6))\n",
    "tsaplots.plot_pacf(ST_IR_Lithuania_diff.dropna(), lags=30)\n",
    "plt.title(\"Fonction d'autocorrélation partielle du ST_IR_Lithuania\")\n",
    "plt.show()\n"
   ]
  },
  {
   "cell_type": "code",
   "execution_count": null,
   "id": "55c3a00e",
   "metadata": {},
   "outputs": [],
   "source": [
    "ST_IR_Lithuania_models = evaluate_all_models(ST_IR_Lithuania_diff.dropna(), 2, 1)\n"
   ]
  },
  {
   "cell_type": "code",
   "execution_count": null,
   "id": "7ef6ae8d",
   "metadata": {},
   "outputs": [],
   "source": [
    "compute_aic_bic(ST_IR_Lithuania_diff, ST_IR_Lithuania_models, 0)\n"
   ]
  },
  {
   "cell_type": "code",
   "execution_count": null,
   "id": "78c7073d",
   "metadata": {},
   "outputs": [],
   "source": [
    "ST_IR_Lithuania_pred = backcast_arima(df_clean_TS, \"ST_IR_Lithuania\", (0,1,1), trend='t')\n",
    "ST_IR_Lithuania_pred_final = ST_IR_Lithuania_pred.combine_first(df_clean_TS[\"ST_IR_Lithuania\"])\n"
   ]
  },
  {
   "cell_type": "code",
   "execution_count": null,
   "id": "0f4f5419",
   "metadata": {},
   "outputs": [],
   "source": [
    "plt.figure(figsize=(10, 4))\n",
    "plt.plot(ST_IR_Lithuania_pred_final.index, ST_IR_Lithuania_pred_final.values, marker='o', linestyle='-')\n",
    "plt.title(\"ST_IR_Lithuania — série complète backcastée + observée\")\n",
    "plt.xlabel(\"Date\")\n",
    "plt.ylabel(\"Taux (%)\")\n",
    "plt.grid(True)\n",
    "plt.tight_layout()\n",
    "plt.show()"
   ]
  },
  {
   "cell_type": "markdown",
   "id": "40731510",
   "metadata": {},
   "source": [
    "#### ST_IR_Luxembourg <a class=\"anchor\" id=\"partie233\"></a>"
   ]
  },
  {
   "cell_type": "code",
   "execution_count": null,
   "id": "eda499e0",
   "metadata": {},
   "outputs": [],
   "source": [
    "tracer_evolution(df_clean_TS, [\"ST_IR_Luxembourg\"], xlabel=\"Période\", ylabel=\"Taux d'intérêt- court terme\")\n",
    "result = adfuller(df_clean_TS[\"ST_IR_Luxembourg\"].dropna())\n",
    "print(f\"ADF Statistic: {result[0]}\")\n",
    "print(f\"p-value: {result[1]}\")"
   ]
  },
  {
   "cell_type": "code",
   "execution_count": null,
   "id": "8cce331f",
   "metadata": {},
   "outputs": [],
   "source": [
    "ST_IR_Luxembourg_diff = df_clean_TS[\"ST_IR_Luxembourg\"].diff()\n",
    "ST_IR_Luxembourg_diff.plot(title=\"Taux d'intérêt Luxembourg différencié\", figsize=(12, 4))\n",
    "\n",
    "result = adfuller(ST_IR_Luxembourg_diff.dropna())\n",
    "print(f\"ADF Statistic: {result[0]}\")\n",
    "print(f\"p-value: {result[1]}\")"
   ]
  },
  {
   "cell_type": "code",
   "execution_count": null,
   "id": "9d3148a2",
   "metadata": {},
   "outputs": [],
   "source": [
    "plt.figure(figsize=(14,6))\n",
    "tsaplots.plot_acf(ST_IR_Luxembourg_diff.dropna(), lags=30)\n",
    "plt.title(\"Fonction d'autocorrélation du ST_IR_Luxembourg\")\n",
    "plt.show()\n",
    "\n",
    "plt.figure(figsize=(14,6))\n",
    "tsaplots.plot_pacf(ST_IR_Luxembourg_diff.dropna(), lags=30)\n",
    "plt.title(\"Fonction d'autocorrélation partielle du ST_IR_Luxembourg\")\n",
    "plt.show()"
   ]
  },
  {
   "cell_type": "code",
   "execution_count": null,
   "id": "1a1b7966",
   "metadata": {},
   "outputs": [],
   "source": [
    "ST_IR_Luxembourg_models = evaluate_all_models(ST_IR_Luxembourg_diff.dropna(), 5, 2)\n"
   ]
  },
  {
   "cell_type": "code",
   "execution_count": null,
   "id": "3b8d8d50",
   "metadata": {},
   "outputs": [],
   "source": [
    "compute_aic_bic(ST_IR_Luxembourg_diff, ST_IR_Luxembourg_models, 0)\n"
   ]
  },
  {
   "cell_type": "code",
   "execution_count": null,
   "id": "29fcc4e0",
   "metadata": {},
   "outputs": [],
   "source": [
    "ST_IR_Luxembourg_pred = backcast_arima(df_clean_TS, \"ST_IR_Luxembourg\", (1,1,0), trend='t')\n",
    "ST_IR_Luxembourg_pred_final = ST_IR_Luxembourg_pred.combine_first(df_clean_TS[\"ST_IR_Luxembourg\"])\n"
   ]
  },
  {
   "cell_type": "code",
   "execution_count": null,
   "id": "01ea7be7",
   "metadata": {},
   "outputs": [],
   "source": [
    "plt.figure(figsize=(10, 4))\n",
    "plt.plot(ST_IR_Luxembourg_pred_final.index, ST_IR_Luxembourg_pred_final.values, marker='o', linestyle='-')\n",
    "plt.title(\"ST_IR_Luxembourg — série complète backcastée + observée\")\n",
    "plt.xlabel(\"Date\")\n",
    "plt.ylabel(\"Taux (%)\")\n",
    "plt.grid(True)\n",
    "plt.tight_layout()\n",
    "plt.show()"
   ]
  },
  {
   "cell_type": "markdown",
   "id": "9b6d7355",
   "metadata": {},
   "source": [
    "#### ST_IR_Latvia <a class=\"anchor\" id=\"partie233\"></a>"
   ]
  },
  {
   "cell_type": "code",
   "execution_count": null,
   "id": "98bb8f83",
   "metadata": {},
   "outputs": [],
   "source": [
    "tracer_evolution(df_clean_TS, [\"ST_IR_Latvia\"], xlabel=\"Période\", ylabel=\"Taux d'intérêt- court terme\")\n",
    "\n",
    "\n",
    "result = adfuller(df_clean_TS[\"ST_IR_Latvia\"].dropna())\n",
    "print(f\"ADF Statistic: {result[0]}\")\n",
    "print(f\"p-value: {result[1]}\")"
   ]
  },
  {
   "cell_type": "code",
   "execution_count": null,
   "id": "8c8c296c",
   "metadata": {},
   "outputs": [],
   "source": [
    "ST_IR_Latvia_diff = df_clean_TS[\"ST_IR_Latvia\"].diff()\n",
    "ST_IR_Latvia_diff.plot(title=\"Taux d'intérêt Lettonie différencié\", figsize=(12, 4))\n",
    "\n",
    "result = adfuller(ST_IR_Latvia_diff.dropna())\n",
    "print(f\"ADF Statistic: {result[0]}\")\n",
    "print(f\"p-value: {result[1]}\")"
   ]
  },
  {
   "cell_type": "code",
   "execution_count": null,
   "id": "9689388a",
   "metadata": {},
   "outputs": [],
   "source": [
    "plt.figure(figsize=(14,6))\n",
    "tsaplots.plot_acf(ST_IR_Latvia_diff.dropna(), lags=30)\n",
    "plt.title(\"Fonction d'autocorrélation du ST_IR_Latvia\")\n",
    "plt.show()\n",
    "\n",
    "plt.figure(figsize=(14,6))\n",
    "tsaplots.plot_pacf(ST_IR_Latvia_diff.dropna(), lags=30)\n",
    "plt.title(\"Fonction d'autocorrélation partielle du ST_IR_Latvia\")\n",
    "plt.show()"
   ]
  },
  {
   "cell_type": "code",
   "execution_count": null,
   "id": "ccc80db1",
   "metadata": {},
   "outputs": [],
   "source": [
    "ST_IR_Latvia_models = evaluate_all_models(ST_IR_Latvia_diff.dropna(), 5, 5)\n"
   ]
  },
  {
   "cell_type": "code",
   "execution_count": null,
   "id": "6ed008ef",
   "metadata": {},
   "outputs": [],
   "source": [
    "compute_aic_bic(ST_IR_Latvia_diff, ST_IR_Latvia_models, 0)\n"
   ]
  },
  {
   "cell_type": "code",
   "execution_count": null,
   "id": "4269b3a0",
   "metadata": {},
   "outputs": [],
   "source": [
    "ST_IR_Latvia_pred = backcast_arima(df_clean_TS, \"ST_IR_Latvia\", (1,1,2), trend='t')\n",
    "ST_IR_Latvia_pred_final = ST_IR_Latvia_pred.combine_first(df_clean_TS[\"ST_IR_Latvia\"])\n"
   ]
  },
  {
   "cell_type": "code",
   "execution_count": null,
   "id": "3c356740",
   "metadata": {},
   "outputs": [],
   "source": [
    "plt.figure(figsize=(10, 4))\n",
    "plt.plot(ST_IR_Latvia_pred_final.index, ST_IR_Latvia_pred_final.values, marker='o', linestyle='-')\n",
    "plt.title(\"ST_IR_Latvia — série complète backcastée + observée\")\n",
    "plt.xlabel(\"Date\")\n",
    "plt.ylabel(\"Taux (%)\")\n",
    "plt.grid(True)\n",
    "plt.tight_layout()\n",
    "plt.show()"
   ]
  },
  {
   "cell_type": "markdown",
   "id": "e7d7380f",
   "metadata": {},
   "source": [
    "### P_Growth <a class=\"anchor\" id=\"partie24\"></a>"
   ]
  },
  {
   "cell_type": "markdown",
   "id": "76efed2d",
   "metadata": {},
   "source": [
    "#### P_Growth_Italy <a class=\"anchor\" id=\"partie241\"></a>"
   ]
  },
  {
   "cell_type": "code",
   "execution_count": null,
   "id": "0dd640ac",
   "metadata": {},
   "outputs": [],
   "source": []
  },
  {
   "cell_type": "code",
   "execution_count": null,
   "id": "e5974684",
   "metadata": {},
   "outputs": [],
   "source": [
    "tracer_evolution(df_clean_TS, [\"P_Growth_France\"], xlabel=\"Période\", ylabel=\"Croissance potentielle\")\n",
    "\n",
    "result = adfuller(df_clean_TS[\"P_Growth_Italy\"].dropna())\n",
    "print(f\"ADF Statistic: {result[0]}\")\n",
    "print(f\"p-value: {result[1]}\")"
   ]
  },
  {
   "cell_type": "code",
   "execution_count": 74,
   "id": "b01256cb",
   "metadata": {},
   "outputs": [],
   "source": [
    "from numpy.polynomial import Polynomial\n",
    "\n",
    "def forecast_polynomial(df, col, degree=3):\n",
    "    \"\"\"\n",
    "    Remplit les NaN à la fin d'une série par une régression polynomiale.\n",
    "\n",
    "    Paramètres :\n",
    "    - df : DataFrame contenant la série\n",
    "    - col : nom de la colonne cible\n",
    "    - degree : degré du polynôme à ajuster\n",
    "\n",
    "    Retour :\n",
    "    - pd.Series complète avec prédiction sur les NaN de fin\n",
    "    \"\"\"\n",
    "    y = df[col]\n",
    "    valid_y = y.dropna()\n",
    "    \n",
    "    if len(valid_y) < degree + 1:\n",
    "        raise ValueError(\"Pas assez de points pour ajuster un polynôme.\")\n",
    "\n",
    "    # Indices des points observés\n",
    "    x_obs = np.arange(len(valid_y))\n",
    "    y_obs = valid_y.values\n",
    "\n",
    "    # Ajustement polynômial\n",
    "    poly = Polynomial.fit(x_obs, y_obs, deg=degree)\n",
    "\n",
    "    # Indices de toute la série\n",
    "    x_full = np.arange(len(y))\n",
    "    y_pred_full = poly(x_full)\n",
    "\n",
    "    # Création de la série prédite\n",
    "    y_pred_series = pd.Series(y_pred_full, index=y.index, name=col)\n",
    "\n",
    "    # Remplissage uniquement des NaN à la fin\n",
    "    return y.combine_first(y_pred_series)\n"
   ]
  },
  {
   "cell_type": "code",
   "execution_count": null,
   "id": "0f29dfc6",
   "metadata": {},
   "outputs": [],
   "source": [
    "P_Growth_France_forecast= forecast_polynomial(df_clean_TS, \"P_Growth_France\")\n",
    "\n",
    "\n",
    "plt.figure(figsize=(10, 4))\n",
    "plt.plot(P_Growth_France_forecast.index, \n",
    "         P_Growth_France_forecast.values, \n",
    "         marker='o', linestyle='-')\n",
    "plt.title(\"P_Growth_France — série complétée par régression polynomiale\")\n",
    "plt.xlabel(\"Date\")\n",
    "plt.ylabel(\"Croissance potentielle\")\n",
    "plt.grid(True)\n",
    "plt.tight_layout()\n",
    "plt.show()\n"
   ]
  },
  {
   "cell_type": "code",
   "execution_count": null,
   "id": "be3c7332",
   "metadata": {},
   "outputs": [],
   "source": [
    "P_Growth_Italy_diff = df_clean_TS[\"P_Growth_Italy\"].diff()\n",
    "P_Growth_Italy_diff = P_Growth_Italy_diff.diff()\n",
    "P_Growth_Italy_diff=P_Growth_Italy_diff.diff()\n",
    "\n",
    "P_Growth_Italy_diff.plot(title=\"Croissance potentielle Italie différenciée\", figsize=(12, 4))"
   ]
  },
  {
   "cell_type": "markdown",
   "id": "68802fb0",
   "metadata": {},
   "source": [
    "### Visualisation progressive du nettoyage<a class=\"anchor\" id=\"partie3\"></a>"
   ]
  },
  {
   "cell_type": "markdown",
   "id": "fab49819",
   "metadata": {},
   "source": [
    "Pour visualier le nettoyage progressif des fonctions"
   ]
  },
  {
   "cell_type": "code",
   "execution_count": null,
   "id": "0715c15b",
   "metadata": {},
   "outputs": [],
   "source": []
  },
  {
   "cell_type": "code",
   "execution_count": null,
   "id": "2058d362",
   "metadata": {},
   "outputs": [],
   "source": [
    "#Pour visualiser le nettoyage progressif des données\n",
    "df_clean_missing_binary = df_clean.isnull().astype(int)\n",
    "\n",
    "# Définir la figure avec un affichage interactif\n",
    "fig, ax = plt.subplots(figsize=(50, 80))\n",
    "\n",
    "# Utiliser seaborn pour une meilleure visualisation sans grille\n",
    "sns.heatmap(df_clean_missing_binary, cmap=\"OrRd\", cbar=False, linewidths=0, ax=ax, square=False)\n",
    "\n",
    "# Ajouter un titre\n",
    "ax.set_title(\"Matrice des valeurs manquantes (Rouge = Manquant)\")\n",
    "\n",
    "# Rotation des labels pour une meilleure lisibilité\n",
    "plt.xticks(rotation=90)\n",
    "plt.yticks(rotation=0)\n",
    "\n",
    "# Afficher la figure\n",
    "plt.show()\n"
   ]
  },
  {
   "cell_type": "code",
   "execution_count": null,
   "id": "02fd2ede",
   "metadata": {},
   "outputs": [],
   "source": [
    "#Pourcentage de données manquantes par variable\n",
    "percentage_missing_clean=((df_clean_missing_binary.sum())/df_clean_missing_binary.shape[0])*100\n",
    "\n",
    "#On ne garde que les colonnes ayant des missing values\n",
    "percentage_missing_clean=percentage_missing_clean[percentage_missing_clean>0]\n",
    "percentage_missing_clean = percentage_missing_clean.sort_values(ascending=False)\n",
    "percentage_missing_clean"
   ]
  }
 ],
 "metadata": {
  "kernelspec": {
   "display_name": "Python 3",
   "language": "python",
   "name": "python3"
  },
  "language_info": {
   "codemirror_mode": {
    "name": "ipython",
    "version": 3
   },
   "file_extension": ".py",
   "mimetype": "text/x-python",
   "name": "python",
   "nbconvert_exporter": "python",
   "pygments_lexer": "ipython3",
   "version": "3.12.10"
  }
 },
 "nbformat": 4,
 "nbformat_minor": 5
}
